{
 "cells": [
  {
   "cell_type": "code",
   "execution_count": 1,
   "metadata": {
    "collapsed": false
   },
   "outputs": [
    {
     "name": "stdout",
     "output_type": "stream",
     "text": [
      "Populating the interactive namespace from numpy and matplotlib\n"
     ]
    }
   ],
   "source": [
    "%pylab inline\n",
    "import pandas as pd"
   ]
  },
  {
   "cell_type": "code",
   "execution_count": 2,
   "metadata": {
    "collapsed": true
   },
   "outputs": [],
   "source": [
    "specs = pd.read_csv('./competition_data/specs.csv')"
   ]
  },
  {
   "cell_type": "code",
   "execution_count": 4,
   "metadata": {
    "collapsed": false
   },
   "outputs": [
    {
     "name": "stdout",
     "output_type": "stream",
     "text": [
      "(21198, 11)\n",
      "tube_assembly_id    object\n",
      "spec1               object\n",
      "spec2               object\n",
      "spec3               object\n",
      "spec4               object\n",
      "spec5               object\n",
      "spec6               object\n",
      "spec7               object\n",
      "spec8               object\n",
      "spec9               object\n",
      "spec10              object\n",
      "dtype: object\n",
      "      tube_assembly_id    spec1    spec2    spec3    spec4 spec5 spec6 spec7  \\\n",
      "9258          TA-09259      NaN      NaN      NaN      NaN   NaN   NaN   NaN   \n",
      "6255          TA-06256  SP-0007  SP-0058  SP-0070  SP-0080   NaN   NaN   NaN   \n",
      "5653          TA-05654      NaN      NaN      NaN      NaN   NaN   NaN   NaN   \n",
      "449           TA-00450  SP-0058  SP-0070      NaN      NaN   NaN   NaN   NaN   \n",
      "14694         TA-14695      NaN      NaN      NaN      NaN   NaN   NaN   NaN   \n",
      "19962         TA-19964  SP-0012  SP-0026  SP-0063  SP-0080   NaN   NaN   NaN   \n",
      "12335         TA-12336      NaN      NaN      NaN      NaN   NaN   NaN   NaN   \n",
      "15664         TA-15665      NaN      NaN      NaN      NaN   NaN   NaN   NaN   \n",
      "14435         TA-14436      NaN      NaN      NaN      NaN   NaN   NaN   NaN   \n",
      "15108         TA-15109      NaN      NaN      NaN      NaN   NaN   NaN   NaN   \n",
      "\n",
      "      spec8 spec9 spec10  \n",
      "9258    NaN   NaN    NaN  \n",
      "6255    NaN   NaN    NaN  \n",
      "5653    NaN   NaN    NaN  \n",
      "449     NaN   NaN    NaN  \n",
      "14694   NaN   NaN    NaN  \n",
      "19962   NaN   NaN    NaN  \n",
      "12335   NaN   NaN    NaN  \n",
      "15664   NaN   NaN    NaN  \n",
      "14435   NaN   NaN    NaN  \n",
      "15108   NaN   NaN    NaN  \n"
     ]
    }
   ],
   "source": [
    "print specs.shape\n",
    "print specs.dtypes\n",
    "print specs.sample(10, random_state=0)"
   ]
  }
 ],
 "metadata": {
  "kernelspec": {
   "display_name": "Python 2",
   "language": "python",
   "name": "python2"
  },
  "language_info": {
   "codemirror_mode": {
    "name": "ipython",
    "version": 2
   },
   "file_extension": ".py",
   "mimetype": "text/x-python",
   "name": "python",
   "nbconvert_exporter": "python",
   "pygments_lexer": "ipython2",
   "version": "2.7.10"
  }
 },
 "nbformat": 4,
 "nbformat_minor": 0
}
