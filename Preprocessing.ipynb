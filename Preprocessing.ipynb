{
 "cells": [
  {
   "cell_type": "code",
   "execution_count": 1,
   "metadata": {
    "collapsed": false
   },
   "outputs": [
    {
     "name": "stdout",
     "output_type": "stream",
     "text": [
      "Populating the interactive namespace from numpy and matplotlib\n"
     ]
    }
   ],
   "source": [
    "%pylab inline\n",
    "import pandas as pd"
   ]
  },
  {
   "cell_type": "markdown",
   "metadata": {},
   "source": [
    "Train set has dummied suppliers and bracket_pricing. New feature year and quantity_rep."
   ]
  },
  {
   "cell_type": "code",
   "execution_count": 2,
   "metadata": {
    "collapsed": true
   },
   "outputs": [],
   "source": [
    "train_set = pd.read_csv('./train_set_adjusted.csv')"
   ]
  },
  {
   "cell_type": "code",
   "execution_count": 6,
   "metadata": {
    "collapsed": false
   },
   "outputs": [
    {
     "name": "stdout",
     "output_type": "stream",
     "text": [
      "(30213, 66)\n"
     ]
    }
   ],
   "source": [
    "print train_set.shape\n",
    "# train_set.dtypes"
   ]
  },
  {
   "cell_type": "code",
   "execution_count": 8,
   "metadata": {
    "collapsed": false
   },
   "outputs": [],
   "source": [
    "# train_set.sum()"
   ]
  },
  {
   "cell_type": "code",
   "execution_count": 9,
   "metadata": {
    "collapsed": true
   },
   "outputs": [],
   "source": [
    "tube = pd.read_csv('./tube_material_id_imputed_dummies_drop_ns.csv')"
   ]
  },
  {
   "cell_type": "code",
   "execution_count": 19,
   "metadata": {
    "collapsed": false
   },
   "outputs": [
    {
     "name": "stdout",
     "output_type": "stream",
     "text": [
      "(21198, 84)\n",
      "Index([u'tube_assembly_id', u'diameter', u'wall', u'length', u'num_bends',\n",
      "       u'bend_radius', u'num_boss', u'num_bracket', u'other',\n",
      "       u'material_id_SP-0008', u'material_id_SP-0019', u'material_id_SP-0028',\n",
      "       u'material_id_SP-0029', u'material_id_SP-0030', u'material_id_SP-0031',\n",
      "       u'material_id_SP-0032', u'material_id_SP-0033', u'material_id_SP-0034',\n",
      "       u'material_id_SP-0035', u'material_id_SP-0036', u'material_id_SP-0037',\n",
      "       u'material_id_SP-0038', u'material_id_SP-0039', u'material_id_SP-0041',\n",
      "       u'material_id_SP-0044', u'material_id_SP-0045', u'material_id_SP-0046',\n",
      "       u'material_id_SP-0048', u'end_a_1x_Y', u'end_a_2x_Y', u'end_x_1x_Y',\n",
      "       u'end_x_2x_Y', u'end_a_EF-001', u'end_a_EF-002', u'end_a_EF-003',\n",
      "       u'end_a_EF-004', u'end_a_EF-005', u'end_a_EF-006', u'end_a_EF-007',\n",
      "       u'end_a_EF-008', u'end_a_EF-009', u'end_a_EF-010', u'end_a_EF-011',\n",
      "       u'end_a_EF-012', u'end_a_EF-013', u'end_a_EF-014', u'end_a_EF-015',\n",
      "       u'end_a_EF-016', u'end_a_EF-017', u'end_a_EF-018', u'end_a_EF-019',\n",
      "       u'end_a_EF-020', u'end_a_EF-021', u'end_a_EF-022', u'end_a_EF-023',\n",
      "       u'end_a_EF-025', u'end_a_NONE', u'end_x_9999', u'end_x_EF-001',\n",
      "       u'end_x_EF-002', u'end_x_EF-003', u'end_x_EF-004', u'end_x_EF-005',\n",
      "       u'end_x_EF-006', u'end_x_EF-007', u'end_x_EF-008', u'end_x_EF-009',\n",
      "       u'end_x_EF-010', u'end_x_EF-011', u'end_x_EF-012', u'end_x_EF-013',\n",
      "       u'end_x_EF-014', u'end_x_EF-015', u'end_x_EF-016', u'end_x_EF-017',\n",
      "       u'end_x_EF-018', u'end_x_EF-019', u'end_x_EF-021', u'end_x_EF-022',\n",
      "       u'end_x_EF-023', u'end_x_EF-024', u'end_x_EF-025', u'end_x_EF-026',\n",
      "       u'end_x_NONE'],\n",
      "      dtype='object')\n"
     ]
    }
   ],
   "source": [
    "print tube.shape\n",
    "print tube.columns"
   ]
  },
  {
   "cell_type": "code",
   "execution_count": 13,
   "metadata": {
    "collapsed": true
   },
   "outputs": [],
   "source": [
    "spec = pd.read_csv('./spec_dummies.csv')"
   ]
  },
  {
   "cell_type": "code",
   "execution_count": 14,
   "metadata": {
    "collapsed": false
   },
   "outputs": [
    {
     "name": "stdout",
     "output_type": "stream",
     "text": [
      "(21198, 86)\n",
      "Index([u'tube_assembly_id', u'SP-0001', u'SP-0002', u'SP-0003', u'SP-0004',\n",
      "       u'SP-0005', u'SP-0006', u'SP-0007', u'SP-0009', u'SP-0010', u'SP-0011',\n",
      "       u'SP-0012', u'SP-0013', u'SP-0014', u'SP-0015', u'SP-0016', u'SP-0017',\n",
      "       u'SP-0018', u'SP-0019', u'SP-0020', u'SP-0021', u'SP-0022', u'SP-0023',\n",
      "       u'SP-0024', u'SP-0025', u'SP-0026', u'SP-0027', u'SP-0028', u'SP-0029',\n",
      "       u'SP-0030', u'SP-0033', u'SP-0035', u'SP-0036', u'SP-0037', u'SP-0038',\n",
      "       u'SP-0039', u'SP-0040', u'SP-0042', u'SP-0043', u'SP-0044', u'SP-0046',\n",
      "       u'SP-0047', u'SP-0049', u'SP-0050', u'SP-0051', u'SP-0052', u'SP-0053',\n",
      "       u'SP-0054', u'SP-0055', u'SP-0056', u'SP-0057', u'SP-0058', u'SP-0059',\n",
      "       u'SP-0060', u'SP-0061', u'SP-0062', u'SP-0063', u'SP-0064', u'SP-0065',\n",
      "       u'SP-0066', u'SP-0067', u'SP-0068', u'SP-0069', u'SP-0070', u'SP-0071',\n",
      "       u'SP-0072', u'SP-0073', u'SP-0074', u'SP-0075', u'SP-0076', u'SP-0077',\n",
      "       u'SP-0078', u'SP-0079', u'SP-0080', u'SP-0081', u'SP-0082', u'SP-0083',\n",
      "       u'SP-0084', u'SP-0085', u'SP-0086', u'SP-0087', u'SP-0088', u'SP-0091',\n",
      "       u'SP-0092', u'SP-0094', u'SP-0096'],\n",
      "      dtype='object')\n"
     ]
    }
   ],
   "source": [
    "print spec.shape\n",
    "print spec.columns"
   ]
  },
  {
   "cell_type": "code",
   "execution_count": 15,
   "metadata": {
    "collapsed": true
   },
   "outputs": [],
   "source": [
    "comp_type_weight = pd.read_csv('./comp_type_dummies.csv')"
   ]
  },
  {
   "cell_type": "code",
   "execution_count": 16,
   "metadata": {
    "collapsed": false
   },
   "outputs": [
    {
     "name": "stdout",
     "output_type": "stream",
     "text": [
      "(21198, 30)\n",
      "Index([u'tube_assembly_id', u'CP-001', u'CP-002', u'CP-003', u'CP-004',\n",
      "       u'CP-005', u'CP-006', u'CP-007', u'CP-008', u'CP-009', u'CP-010',\n",
      "       u'CP-011', u'CP-012', u'CP-014', u'CP-015', u'CP-016', u'CP-017',\n",
      "       u'CP-018', u'CP-019', u'CP-020', u'CP-021', u'CP-022', u'CP-023',\n",
      "       u'CP-024', u'CP-025', u'CP-026', u'CP-027', u'CP-028', u'CP-029',\n",
      "       u'OTHER'],\n",
      "      dtype='object')\n"
     ]
    }
   ],
   "source": [
    "print comp_type_weight.shape\n",
    "print comp_type_weight.columns"
   ]
  },
  {
   "cell_type": "code",
   "execution_count": 17,
   "metadata": {
    "collapsed": true
   },
   "outputs": [],
   "source": [
    "tube_vol = pd.read_csv('./tube_volume.csv')"
   ]
  },
  {
   "cell_type": "code",
   "execution_count": 18,
   "metadata": {
    "collapsed": false
   },
   "outputs": [
    {
     "name": "stdout",
     "output_type": "stream",
     "text": [
      "(21198, 2)\n",
      "Index([u'tube_assembly_id', u'tube_volume'], dtype='object')\n"
     ]
    }
   ],
   "source": [
    "print tube_vol.shape\n",
    "print tube_vol.columns"
   ]
  },
  {
   "cell_type": "code",
   "execution_count": 23,
   "metadata": {
    "collapsed": true
   },
   "outputs": [],
   "source": [
    "train = pd.merge(train_set, tube)\n",
    "train = pd.merge(train, spec)\n",
    "train = pd.merge(train, comp_type_weight)\n",
    "train = pd.merge(train, tube_vol)\n",
    "train = train.drop(['quote_date', 'quantity_rep'], axis=1)"
   ]
  },
  {
   "cell_type": "code",
   "execution_count": 24,
   "metadata": {
    "collapsed": false
   },
   "outputs": [
    {
     "name": "stdout",
     "output_type": "stream",
     "text": [
      "(30213, 262)\n",
      "['tube_assembly_id' 'annual_usage' 'min_order_quantity' 'quantity' 'cost'\n",
      " 'year' 'supplier_S-0003' 'supplier_S-0004' 'supplier_S-0005'\n",
      " 'supplier_S-0006' 'supplier_S-0007' 'supplier_S-0008' 'supplier_S-0009'\n",
      " 'supplier_S-0011' 'supplier_S-0012' 'supplier_S-0013' 'supplier_S-0014'\n",
      " 'supplier_S-0015' 'supplier_S-0018' 'supplier_S-0022' 'supplier_S-0023'\n",
      " 'supplier_S-0024' 'supplier_S-0025' 'supplier_S-0026' 'supplier_S-0027'\n",
      " 'supplier_S-0029' 'supplier_S-0030' 'supplier_S-0031' 'supplier_S-0041'\n",
      " 'supplier_S-0042' 'supplier_S-0043' 'supplier_S-0046' 'supplier_S-0050'\n",
      " 'supplier_S-0051' 'supplier_S-0054' 'supplier_S-0056' 'supplier_S-0058'\n",
      " 'supplier_S-0059' 'supplier_S-0060' 'supplier_S-0061' 'supplier_S-0062'\n",
      " 'supplier_S-0064' 'supplier_S-0066' 'supplier_S-0068' 'supplier_S-0070'\n",
      " 'supplier_S-0072' 'supplier_S-0074' 'supplier_S-0078' 'supplier_S-0080'\n",
      " 'supplier_S-0081' 'supplier_S-0087' 'supplier_S-0090' 'supplier_S-0092'\n",
      " 'supplier_S-0095' 'supplier_S-0096' 'supplier_S-0097' 'supplier_S-0104'\n",
      " 'supplier_S-0105' 'supplier_S-0106' 'supplier_S-0107' 'supplier_S-0108'\n",
      " 'supplier_S-0109' 'supplier_S-0111' 'bracket_pricing_Yes' 'diameter'\n",
      " 'wall' 'length' 'num_bends' 'bend_radius' 'num_boss' 'num_bracket' 'other'\n",
      " 'material_id_SP-0008' 'material_id_SP-0019' 'material_id_SP-0028'\n",
      " 'material_id_SP-0029' 'material_id_SP-0030' 'material_id_SP-0031'\n",
      " 'material_id_SP-0032' 'material_id_SP-0033' 'material_id_SP-0034'\n",
      " 'material_id_SP-0035' 'material_id_SP-0036' 'material_id_SP-0037'\n",
      " 'material_id_SP-0038' 'material_id_SP-0039' 'material_id_SP-0041'\n",
      " 'material_id_SP-0044' 'material_id_SP-0045' 'material_id_SP-0046'\n",
      " 'material_id_SP-0048' 'end_a_1x_Y' 'end_a_2x_Y' 'end_x_1x_Y' 'end_x_2x_Y'\n",
      " 'end_a_EF-001' 'end_a_EF-002' 'end_a_EF-003' 'end_a_EF-004' 'end_a_EF-005'\n",
      " 'end_a_EF-006' 'end_a_EF-007' 'end_a_EF-008' 'end_a_EF-009' 'end_a_EF-010'\n",
      " 'end_a_EF-011' 'end_a_EF-012' 'end_a_EF-013' 'end_a_EF-014' 'end_a_EF-015'\n",
      " 'end_a_EF-016' 'end_a_EF-017' 'end_a_EF-018' 'end_a_EF-019' 'end_a_EF-020'\n",
      " 'end_a_EF-021' 'end_a_EF-022' 'end_a_EF-023' 'end_a_EF-025' 'end_a_NONE'\n",
      " 'end_x_9999' 'end_x_EF-001' 'end_x_EF-002' 'end_x_EF-003' 'end_x_EF-004'\n",
      " 'end_x_EF-005' 'end_x_EF-006' 'end_x_EF-007' 'end_x_EF-008' 'end_x_EF-009'\n",
      " 'end_x_EF-010' 'end_x_EF-011' 'end_x_EF-012' 'end_x_EF-013' 'end_x_EF-014'\n",
      " 'end_x_EF-015' 'end_x_EF-016' 'end_x_EF-017' 'end_x_EF-018' 'end_x_EF-019'\n",
      " 'end_x_EF-021' 'end_x_EF-022' 'end_x_EF-023' 'end_x_EF-024' 'end_x_EF-025'\n",
      " 'end_x_EF-026' 'end_x_NONE' 'SP-0001' 'SP-0002' 'SP-0003' 'SP-0004'\n",
      " 'SP-0005' 'SP-0006' 'SP-0007' 'SP-0009' 'SP-0010' 'SP-0011' 'SP-0012'\n",
      " 'SP-0013' 'SP-0014' 'SP-0015' 'SP-0016' 'SP-0017' 'SP-0018' 'SP-0019'\n",
      " 'SP-0020' 'SP-0021' 'SP-0022' 'SP-0023' 'SP-0024' 'SP-0025' 'SP-0026'\n",
      " 'SP-0027' 'SP-0028' 'SP-0029' 'SP-0030' 'SP-0033' 'SP-0035' 'SP-0036'\n",
      " 'SP-0037' 'SP-0038' 'SP-0039' 'SP-0040' 'SP-0042' 'SP-0043' 'SP-0044'\n",
      " 'SP-0046' 'SP-0047' 'SP-0049' 'SP-0050' 'SP-0051' 'SP-0052' 'SP-0053'\n",
      " 'SP-0054' 'SP-0055' 'SP-0056' 'SP-0057' 'SP-0058' 'SP-0059' 'SP-0060'\n",
      " 'SP-0061' 'SP-0062' 'SP-0063' 'SP-0064' 'SP-0065' 'SP-0066' 'SP-0067'\n",
      " 'SP-0068' 'SP-0069' 'SP-0070' 'SP-0071' 'SP-0072' 'SP-0073' 'SP-0074'\n",
      " 'SP-0075' 'SP-0076' 'SP-0077' 'SP-0078' 'SP-0079' 'SP-0080' 'SP-0081'\n",
      " 'SP-0082' 'SP-0083' 'SP-0084' 'SP-0085' 'SP-0086' 'SP-0087' 'SP-0088'\n",
      " 'SP-0091' 'SP-0092' 'SP-0094' 'SP-0096' 'CP-001' 'CP-002' 'CP-003'\n",
      " 'CP-004' 'CP-005' 'CP-006' 'CP-007' 'CP-008' 'CP-009' 'CP-010' 'CP-011'\n",
      " 'CP-012' 'CP-014' 'CP-015' 'CP-016' 'CP-017' 'CP-018' 'CP-019' 'CP-020'\n",
      " 'CP-021' 'CP-022' 'CP-023' 'CP-024' 'CP-025' 'CP-026' 'CP-027' 'CP-028'\n",
      " 'CP-029' 'OTHER' 'tube_volume']\n"
     ]
    }
   ],
   "source": [
    "print train.shape\n",
    "print train.columns.values"
   ]
  },
  {
   "cell_type": "code",
   "execution_count": 26,
   "metadata": {
    "collapsed": true
   },
   "outputs": [],
   "source": [
    "train.to_csv('preprocessed_train.csv', index=False)"
   ]
  },
  {
   "cell_type": "code",
   "execution_count": null,
   "metadata": {
    "collapsed": true
   },
   "outputs": [],
   "source": []
  }
 ],
 "metadata": {
  "kernelspec": {
   "display_name": "Python 2",
   "language": "python",
   "name": "python2"
  },
  "language_info": {
   "codemirror_mode": {
    "name": "ipython",
    "version": 2
   },
   "file_extension": ".py",
   "mimetype": "text/x-python",
   "name": "python",
   "nbconvert_exporter": "python",
   "pygments_lexer": "ipython2",
   "version": "2.7.10"
  }
 },
 "nbformat": 4,
 "nbformat_minor": 0
}
