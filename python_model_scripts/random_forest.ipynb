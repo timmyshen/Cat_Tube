{
 "cells": [
  {
   "cell_type": "code",
   "execution_count": 2,
   "metadata": {
    "collapsed": false
   },
   "outputs": [
    {
     "name": "stdout",
     "output_type": "stream",
     "text": [
      "Populating the interactive namespace from numpy and matplotlib\n"
     ]
    }
   ],
   "source": [
    "%pylab inline\n",
    "import pandas as pd\n",
    "import sklearn.ensemble as sk_ensemble\n",
    "import sklearn.cross_validation as sk_cv\n",
    "import xgboost as xgb"
   ]
  },
  {
   "cell_type": "code",
   "execution_count": 3,
   "metadata": {
    "collapsed": true
   },
   "outputs": [],
   "source": [
    "def rmsle(actual, predicted):\n",
    "    error = np.log1p(predicted) - np.log1p(actual)\n",
    "    return np.sqrt(np.mean(np.square(error)))"
   ]
  },
  {
   "cell_type": "code",
   "execution_count": 4,
   "metadata": {
    "collapsed": true
   },
   "outputs": [],
   "source": [
    "train_df = pd.read_csv('../train_set_adjusted.csv')"
   ]
  },
  {
   "cell_type": "code",
   "execution_count": 45,
   "metadata": {
    "collapsed": false
   },
   "outputs": [],
   "source": [
    "# print train_df.shape\n",
    "# print train_df.columns"
   ]
  },
  {
   "cell_type": "code",
   "execution_count": 6,
   "metadata": {
    "collapsed": true
   },
   "outputs": [],
   "source": [
    "tube = pd.read_csv('../tube_material_id_imputed_dummies_drop_ns.csv')"
   ]
  },
  {
   "cell_type": "code",
   "execution_count": 46,
   "metadata": {
    "collapsed": false
   },
   "outputs": [],
   "source": [
    "# print tube.shape\n",
    "# print tube.columns"
   ]
  },
  {
   "cell_type": "code",
   "execution_count": 8,
   "metadata": {
    "collapsed": true
   },
   "outputs": [],
   "source": [
    "spec = pd.read_csv('../spec_dummies.csv')"
   ]
  },
  {
   "cell_type": "code",
   "execution_count": 47,
   "metadata": {
    "collapsed": false
   },
   "outputs": [],
   "source": [
    "# print spec.shape\n",
    "# print spec.columns"
   ]
  },
  {
   "cell_type": "code",
   "execution_count": 10,
   "metadata": {
    "collapsed": true
   },
   "outputs": [],
   "source": [
    "comp = pd.read_csv('../comp_type_dummies.csv')"
   ]
  },
  {
   "cell_type": "code",
   "execution_count": 48,
   "metadata": {
    "collapsed": false
   },
   "outputs": [],
   "source": [
    "# print comp.shape\n",
    "# print comp.columns"
   ]
  },
  {
   "cell_type": "code",
   "execution_count": 12,
   "metadata": {
    "collapsed": true
   },
   "outputs": [],
   "source": [
    "comp_type_weight = pd.read_csv('../comp_type_weight.csv')"
   ]
  },
  {
   "cell_type": "code",
   "execution_count": 49,
   "metadata": {
    "collapsed": false
   },
   "outputs": [],
   "source": [
    "# print comp_type_weight.shape\n",
    "# print comp_type_weight.columns"
   ]
  },
  {
   "cell_type": "code",
   "execution_count": 14,
   "metadata": {
    "collapsed": true
   },
   "outputs": [],
   "source": [
    "tube_vol = pd.read_csv('../tube_volume.csv')"
   ]
  },
  {
   "cell_type": "code",
   "execution_count": 15,
   "metadata": {
    "collapsed": true
   },
   "outputs": [],
   "source": [
    "train = pd.merge(train_df, tube)\n",
    "train = pd.merge(train, spec)\n",
    "train = pd.merge(train, comp_type_weight)\n",
    "train = pd.merge(train, tube_vol)"
   ]
  },
  {
   "cell_type": "code",
   "execution_count": 30,
   "metadata": {
    "collapsed": false
   },
   "outputs": [
    {
     "data": {
      "text/plain": [
       "(30213, 264)"
      ]
     },
     "execution_count": 30,
     "metadata": {},
     "output_type": "execute_result"
    }
   ],
   "source": [
    "train.shape"
   ]
  },
  {
   "cell_type": "code",
   "execution_count": 68,
   "metadata": {
    "collapsed": false
   },
   "outputs": [],
   "source": [
    "train_sub_train, train_sub_cv = sk_cv.train_test_split(train.ix[:29000], train_size = 0.5, random_state = 346)\n",
    "train_sub_test = train.ix[29000:]"
   ]
  },
  {
   "cell_type": "code",
   "execution_count": 69,
   "metadata": {
    "collapsed": false
   },
   "outputs": [
    {
     "name": "stdout",
     "output_type": "stream",
     "text": [
      "(14500, 264)\n",
      "(14501, 264)\n"
     ]
    }
   ],
   "source": [
    "print train_sub_train.shape\n",
    "print train_sub_cv.shape"
   ]
  },
  {
   "cell_type": "code",
   "execution_count": 81,
   "metadata": {
    "collapsed": false
   },
   "outputs": [],
   "source": [
    "X = train_sub_train.drop(['tube_assembly_id', 'quote_date', 'cost'], axis=1).values\n",
    "Y = train_sub_train.cost\n",
    "# , random_state=0, verbose=0\n",
    "rf = sk_ensemble.RandomForestRegressor(n_estimators=500, n_jobs=4, oob_score=True)\n",
    "rf = rf.fit(X, np.log1p(Y))"
   ]
  },
  {
   "cell_type": "code",
   "execution_count": 82,
   "metadata": {
    "collapsed": false
   },
   "outputs": [],
   "source": [
    "X_cv = train_sub_cv.drop(['tube_assembly_id', 'quote_date', 'cost'], axis=1).values\n",
    "y_cv = train_sub_cv.cost\n",
    "X_test = train_sub_test.drop(['tube_assembly_id', 'quote_date', 'cost'], axis=1).values\n",
    "y_test = train_sub_test.cost\n",
    "y_cv_fitted = np.expm1(rf.predict(X_cv))"
   ]
  },
  {
   "cell_type": "code",
   "execution_count": 83,
   "metadata": {
    "collapsed": false
   },
   "outputs": [
    {
     "name": "stdout",
     "output_type": "stream",
     "text": [
      "0.248358061663\n",
      "8768      4.657167\n",
      "17279    21.115828\n",
      "11098     7.578329\n",
      "13415    13.033947\n",
      "26622    11.843225\n",
      "23383     8.696717\n",
      "25047     6.754839\n",
      "28684     1.986390\n",
      "26369    21.892023\n",
      "22634    18.687091\n",
      "Name: cost, dtype: float64\n",
      "[  4.78016727  22.18499406   7.70401672  13.63151068  11.24795093\n",
      "  10.80556044   6.64042232   2.15777853  21.26286314  15.32715093]\n"
     ]
    }
   ],
   "source": [
    "print rmsle(y_cv, y_cv_fitted)\n",
    "print y_cv[:10]\n",
    "print y_cv_fitted[:10]"
   ]
  },
  {
   "cell_type": "code",
   "execution_count": 73,
   "metadata": {
    "collapsed": false
   },
   "outputs": [
    {
     "data": {
      "text/html": [
       "<div>\n",
       "<table border=\"1\" class=\"dataframe\">\n",
       "  <thead>\n",
       "    <tr style=\"text-align: right;\">\n",
       "      <th></th>\n",
       "      <th>annual_usage</th>\n",
       "      <th>cost</th>\n",
       "      <th>min_order_quantity</th>\n",
       "      <th>quantity</th>\n",
       "      <th>quantity_rep</th>\n",
       "      <th>quote_date</th>\n",
       "      <th>tube_assembly_id</th>\n",
       "      <th>year</th>\n",
       "      <th>supplier_S-0003</th>\n",
       "      <th>supplier_S-0004</th>\n",
       "      <th>...</th>\n",
       "      <th>CP-022</th>\n",
       "      <th>CP-023</th>\n",
       "      <th>CP-024</th>\n",
       "      <th>CP-025</th>\n",
       "      <th>CP-026</th>\n",
       "      <th>CP-027</th>\n",
       "      <th>CP-028</th>\n",
       "      <th>CP-029</th>\n",
       "      <th>OTHER</th>\n",
       "      <th>tube_volume</th>\n",
       "    </tr>\n",
       "  </thead>\n",
       "  <tbody>\n",
       "    <tr>\n",
       "      <th>0</th>\n",
       "      <td>0</td>\n",
       "      <td>0</td>\n",
       "      <td>0</td>\n",
       "      <td>1</td>\n",
       "      <td>1.00</td>\n",
       "      <td>2013-06-23</td>\n",
       "      <td>TA-00001</td>\n",
       "      <td>2013</td>\n",
       "      <td>0</td>\n",
       "      <td>0</td>\n",
       "      <td>...</td>\n",
       "      <td>0</td>\n",
       "      <td>0</td>\n",
       "      <td>0.024</td>\n",
       "      <td>0.072</td>\n",
       "      <td>0</td>\n",
       "      <td>0</td>\n",
       "      <td>0</td>\n",
       "      <td>0</td>\n",
       "      <td>0</td>\n",
       "      <td>81697.336868</td>\n",
       "    </tr>\n",
       "    <tr>\n",
       "      <th>1</th>\n",
       "      <td>0</td>\n",
       "      <td>0</td>\n",
       "      <td>0</td>\n",
       "      <td>2</td>\n",
       "      <td>0.50</td>\n",
       "      <td>2013-06-23</td>\n",
       "      <td>TA-00001</td>\n",
       "      <td>2013</td>\n",
       "      <td>0</td>\n",
       "      <td>0</td>\n",
       "      <td>...</td>\n",
       "      <td>0</td>\n",
       "      <td>0</td>\n",
       "      <td>0.024</td>\n",
       "      <td>0.072</td>\n",
       "      <td>0</td>\n",
       "      <td>0</td>\n",
       "      <td>0</td>\n",
       "      <td>0</td>\n",
       "      <td>0</td>\n",
       "      <td>81697.336868</td>\n",
       "    </tr>\n",
       "    <tr>\n",
       "      <th>2</th>\n",
       "      <td>0</td>\n",
       "      <td>0</td>\n",
       "      <td>0</td>\n",
       "      <td>5</td>\n",
       "      <td>0.20</td>\n",
       "      <td>2013-06-23</td>\n",
       "      <td>TA-00001</td>\n",
       "      <td>2013</td>\n",
       "      <td>0</td>\n",
       "      <td>0</td>\n",
       "      <td>...</td>\n",
       "      <td>0</td>\n",
       "      <td>0</td>\n",
       "      <td>0.024</td>\n",
       "      <td>0.072</td>\n",
       "      <td>0</td>\n",
       "      <td>0</td>\n",
       "      <td>0</td>\n",
       "      <td>0</td>\n",
       "      <td>0</td>\n",
       "      <td>81697.336868</td>\n",
       "    </tr>\n",
       "    <tr>\n",
       "      <th>3</th>\n",
       "      <td>0</td>\n",
       "      <td>0</td>\n",
       "      <td>0</td>\n",
       "      <td>10</td>\n",
       "      <td>0.10</td>\n",
       "      <td>2013-06-23</td>\n",
       "      <td>TA-00001</td>\n",
       "      <td>2013</td>\n",
       "      <td>0</td>\n",
       "      <td>0</td>\n",
       "      <td>...</td>\n",
       "      <td>0</td>\n",
       "      <td>0</td>\n",
       "      <td>0.024</td>\n",
       "      <td>0.072</td>\n",
       "      <td>0</td>\n",
       "      <td>0</td>\n",
       "      <td>0</td>\n",
       "      <td>0</td>\n",
       "      <td>0</td>\n",
       "      <td>81697.336868</td>\n",
       "    </tr>\n",
       "    <tr>\n",
       "      <th>4</th>\n",
       "      <td>0</td>\n",
       "      <td>0</td>\n",
       "      <td>0</td>\n",
       "      <td>25</td>\n",
       "      <td>0.04</td>\n",
       "      <td>2013-06-23</td>\n",
       "      <td>TA-00001</td>\n",
       "      <td>2013</td>\n",
       "      <td>0</td>\n",
       "      <td>0</td>\n",
       "      <td>...</td>\n",
       "      <td>0</td>\n",
       "      <td>0</td>\n",
       "      <td>0.024</td>\n",
       "      <td>0.072</td>\n",
       "      <td>0</td>\n",
       "      <td>0</td>\n",
       "      <td>0</td>\n",
       "      <td>0</td>\n",
       "      <td>0</td>\n",
       "      <td>81697.336868</td>\n",
       "    </tr>\n",
       "  </tbody>\n",
       "</table>\n",
       "<p>5 rows × 265 columns</p>\n",
       "</div>"
      ],
      "text/plain": [
       "   annual_usage  cost  min_order_quantity  quantity  quantity_rep  quote_date  \\\n",
       "0             0     0                   0         1          1.00  2013-06-23   \n",
       "1             0     0                   0         2          0.50  2013-06-23   \n",
       "2             0     0                   0         5          0.20  2013-06-23   \n",
       "3             0     0                   0        10          0.10  2013-06-23   \n",
       "4             0     0                   0        25          0.04  2013-06-23   \n",
       "\n",
       "  tube_assembly_id  year  supplier_S-0003  supplier_S-0004      ...       \\\n",
       "0         TA-00001  2013                0                0      ...        \n",
       "1         TA-00001  2013                0                0      ...        \n",
       "2         TA-00001  2013                0                0      ...        \n",
       "3         TA-00001  2013                0                0      ...        \n",
       "4         TA-00001  2013                0                0      ...        \n",
       "\n",
       "   CP-022  CP-023  CP-024  CP-025  CP-026  CP-027  CP-028  CP-029  OTHER  \\\n",
       "0       0       0   0.024   0.072       0       0       0       0      0   \n",
       "1       0       0   0.024   0.072       0       0       0       0      0   \n",
       "2       0       0   0.024   0.072       0       0       0       0      0   \n",
       "3       0       0   0.024   0.072       0       0       0       0      0   \n",
       "4       0       0   0.024   0.072       0       0       0       0      0   \n",
       "\n",
       "    tube_volume  \n",
       "0  81697.336868  \n",
       "1  81697.336868  \n",
       "2  81697.336868  \n",
       "3  81697.336868  \n",
       "4  81697.336868  \n",
       "\n",
       "[5 rows x 265 columns]"
      ]
     },
     "execution_count": 73,
     "metadata": {},
     "output_type": "execute_result"
    }
   ],
   "source": [
    "kaggle_test_df.head()"
   ]
  },
  {
   "cell_type": "code",
   "execution_count": 84,
   "metadata": {
    "collapsed": true
   },
   "outputs": [],
   "source": [
    "kaggle_test = pd.read_csv('../test_dummies_adjusted.csv')\n",
    "kaggle_test_df = pd.merge(kaggle_test, tube)\n",
    "kaggle_test_df = pd.merge(kaggle_test_df, spec)\n",
    "kaggle_test_df = pd.merge(kaggle_test_df, comp_type_weight)\n",
    "kaggle_test_df = pd.merge(kaggle_test_df, tube_vol)\n",
    "kaggle_test_vals = kaggle_test_df.drop(['tube_assembly_id', 'quote_date', 'cost', 'id'], axis=1).values\n",
    "preds = np.expm1(rf.predict(kaggle_test_vals))"
   ]
  },
  {
   "cell_type": "code",
   "execution_count": 85,
   "metadata": {
    "collapsed": false
   },
   "outputs": [
    {
     "data": {
      "text/plain": [
       "array([ 28.62403488,  24.8836941 ,  20.91606194,  10.27019523,\n",
       "         8.71596676,   8.64892847,   8.61588627,   8.59260788,\n",
       "        28.59496226,  20.44210586])"
      ]
     },
     "execution_count": 85,
     "metadata": {},
     "output_type": "execute_result"
    }
   ],
   "source": [
    "preds[:10]"
   ]
  },
  {
   "cell_type": "code",
   "execution_count": null,
   "metadata": {
    "collapsed": true
   },
   "outputs": [],
   "source": []
  }
 ],
 "metadata": {
  "kernelspec": {
   "display_name": "Python 2",
   "language": "python",
   "name": "python2"
  },
  "language_info": {
   "codemirror_mode": {
    "name": "ipython",
    "version": 2
   },
   "file_extension": ".py",
   "mimetype": "text/x-python",
   "name": "python",
   "nbconvert_exporter": "python",
   "pygments_lexer": "ipython2",
   "version": "2.7.10"
  }
 },
 "nbformat": 4,
 "nbformat_minor": 0
}
