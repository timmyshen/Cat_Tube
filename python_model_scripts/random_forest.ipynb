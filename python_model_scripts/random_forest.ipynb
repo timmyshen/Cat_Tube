{
 "cells": [
  {
   "cell_type": "code",
   "execution_count": 2,
   "metadata": {
    "collapsed": false
   },
   "outputs": [
    {
     "name": "stdout",
     "output_type": "stream",
     "text": [
      "Populating the interactive namespace from numpy and matplotlib\n"
     ]
    }
   ],
   "source": [
    "%pylab inline\n",
    "import pandas as pd\n",
    "import sklearn.ensemble as sk_ensemble\n",
    "import sklearn.cross_validation as sk_cv\n",
    "import xgboost as xgb"
   ]
  },
  {
   "cell_type": "code",
   "execution_count": 3,
   "metadata": {
    "collapsed": true
   },
   "outputs": [],
   "source": [
    "def rmsle(actual, predicted):\n",
    "    error = np.log1p(predicted) - np.log1p(actual)\n",
    "    return np.sqrt(np.mean(np.square(error)))"
   ]
  },
  {
   "cell_type": "code",
   "execution_count": 4,
   "metadata": {
    "collapsed": true
   },
   "outputs": [],
   "source": [
    "train_df = pd.read_csv('../train_set_adjusted.csv')"
   ]
  },
  {
   "cell_type": "code",
   "execution_count": 45,
   "metadata": {
    "collapsed": false
   },
   "outputs": [],
   "source": [
    "# print train_df.shape\n",
    "# print train_df.columns"
   ]
  },
  {
   "cell_type": "code",
   "execution_count": 6,
   "metadata": {
    "collapsed": true
   },
   "outputs": [],
   "source": [
    "tube = pd.read_csv('../tube_material_id_imputed_dummies_drop_ns.csv')"
   ]
  },
  {
   "cell_type": "code",
   "execution_count": 46,
   "metadata": {
    "collapsed": false
   },
   "outputs": [],
   "source": [
    "# print tube.shape\n",
    "# print tube.columns"
   ]
  },
  {
   "cell_type": "code",
   "execution_count": 8,
   "metadata": {
    "collapsed": true
   },
   "outputs": [],
   "source": [
    "spec = pd.read_csv('../spec_dummies.csv')"
   ]
  },
  {
   "cell_type": "code",
   "execution_count": 47,
   "metadata": {
    "collapsed": false
   },
   "outputs": [],
   "source": [
    "# print spec.shape\n",
    "# print spec.columns"
   ]
  },
  {
   "cell_type": "code",
   "execution_count": 10,
   "metadata": {
    "collapsed": true
   },
   "outputs": [],
   "source": [
    "comp = pd.read_csv('../comp_type_dummies.csv')"
   ]
  },
  {
   "cell_type": "code",
   "execution_count": 48,
   "metadata": {
    "collapsed": false
   },
   "outputs": [],
   "source": [
    "# print comp.shape\n",
    "# print comp.columns"
   ]
  },
  {
   "cell_type": "code",
   "execution_count": 12,
   "metadata": {
    "collapsed": true
   },
   "outputs": [],
   "source": [
    "comp_type_weight = pd.read_csv('../comp_type_weight.csv')"
   ]
  },
  {
   "cell_type": "code",
   "execution_count": 49,
   "metadata": {
    "collapsed": false
   },
   "outputs": [],
   "source": [
    "# print comp_type_weight.shape\n",
    "# print comp_type_weight.columns"
   ]
  },
  {
   "cell_type": "code",
   "execution_count": 14,
   "metadata": {
    "collapsed": true
   },
   "outputs": [],
   "source": [
    "tube_vol = pd.read_csv('../tube_volume.csv')"
   ]
  },
  {
   "cell_type": "code",
   "execution_count": 15,
   "metadata": {
    "collapsed": true
   },
   "outputs": [],
   "source": [
    "train = pd.merge(train_df, tube)\n",
    "train = pd.merge(train, spec)\n",
    "train = pd.merge(train, comp_type_weight)\n",
    "train = pd.merge(train, tube_vol)"
   ]
  },
  {
   "cell_type": "code",
   "execution_count": 30,
   "metadata": {
    "collapsed": false
   },
   "outputs": [
    {
     "data": {
      "text/plain": [
       "(30213, 264)"
      ]
     },
     "execution_count": 30,
     "metadata": {},
     "output_type": "execute_result"
    }
   ],
   "source": [
    "train.shape"
   ]
  },
  {
   "cell_type": "code",
   "execution_count": 31,
   "metadata": {
    "collapsed": false
   },
   "outputs": [],
   "source": [
    "train_sub_train, train_sub_cv = sk_cv.train_test_split(train.ix[:29000], train_size = 0.7, random_state = 0)\n",
    "train_sub_test = train.ix[29000:]"
   ]
  },
  {
   "cell_type": "code",
   "execution_count": 32,
   "metadata": {
    "collapsed": false
   },
   "outputs": [
    {
     "name": "stdout",
     "output_type": "stream",
     "text": [
      "(20300, 264)\n",
      "(8701, 264)\n"
     ]
    }
   ],
   "source": [
    "print train_sub_train.shape\n",
    "print train_sub_cv.shape"
   ]
  },
  {
   "cell_type": "code",
   "execution_count": 33,
   "metadata": {
    "collapsed": false
   },
   "outputs": [],
   "source": [
    "X = train_sub_train.drop(['tube_assembly_id', 'quote_date', 'cost'], axis=1).values\n",
    "Y = train_sub_train.cost\n",
    "# , random_state=0, verbose=0\n",
    "rf = sk_ensemble.RandomForestRegressor(n_estimators=400, n_jobs=4, oob_score=True)\n",
    "rf = rf.fit(X, Y)"
   ]
  },
  {
   "cell_type": "code",
   "execution_count": 34,
   "metadata": {
    "collapsed": false
   },
   "outputs": [],
   "source": [
    "X_cv = train_sub_cv.drop(['tube_assembly_id', 'quote_date', 'cost'], axis=1).values\n",
    "y_cv = train_sub_cv.cost\n",
    "X_test = train_sub_test.drop(['tube_assembly_id', 'quote_date', 'cost'], axis=1).values\n",
    "y_test = train_sub_test.cost\n",
    "y_cv_fitted = rf.predict(X_cv)"
   ]
  },
  {
   "cell_type": "code",
   "execution_count": 35,
   "metadata": {
    "collapsed": false
   },
   "outputs": [
    {
     "data": {
      "text/plain": [
       "0.25562184567559815"
      ]
     },
     "execution_count": 35,
     "metadata": {},
     "output_type": "execute_result"
    }
   ],
   "source": [
    "rmsle(y_cv, y_cv_fitted)"
   ]
  },
  {
   "cell_type": "code",
   "execution_count": 41,
   "metadata": {
    "collapsed": false
   },
   "outputs": [
    {
     "name": "stdout",
     "output_type": "stream",
     "text": [
      "1500 0.190494844002\n",
      "2000 0.187726062196\n",
      "2500 0.186332167469\n"
     ]
    }
   ],
   "source": [
    "params = {}\n",
    "params[\"objective\"] = \"reg:linear\"\n",
    "params[\"eta\"] = 0.1\n",
    "# params[\"min_child_weight\"] = 5\n",
    "# params[\"subsample\"] = 1.0\n",
    "# params[\"scale_pos_weight\"] = 1.0\n",
    "# params[\"silent\"] = 1\n",
    "# params[\"max_depth\"] = 7\n",
    "plst = list(params.items())"
   ]
  },
  {
   "cell_type": "code",
   "execution_count": 43,
   "metadata": {
    "collapsed": false
   },
   "outputs": [
    {
     "name": "stdout",
     "output_type": "stream",
     "text": [
      "1500 0.190494844002\n",
      "2000 0.187726062196\n",
      "2500 0.186332167469\n"
     ]
    }
   ],
   "source": [
    "xgtrain = xgb.DMatrix(X, label=np.log1p(Y))\n",
    "xgtest = xgb.DMatrix(X_cv)\n",
    "N = [1500,2000,2500]\n",
    "for i,num_rounds in enumerate(N):\n",
    "    # num_rounds = 120\n",
    "    model = xgb.train(plst, xgtrain, num_rounds)\n",
    "    preds = np.expm1(model.predict(xgtest))\n",
    "    print N[i],rmsle(y_cv, preds)"
   ]
  },
  {
   "cell_type": "code",
   "execution_count": 44,
   "metadata": {
    "collapsed": false
   },
   "outputs": [
    {
     "name": "stdout",
     "output_type": "stream",
     "text": [
      "[ 5.98402452  4.04146385  2.90155935  2.58758712  2.43880701]\n",
      "29000    5.978645\n",
      "29001    4.064588\n",
      "29002    2.918380\n",
      "29003    2.601225\n",
      "29004    2.459340\n",
      "Name: cost, dtype: float64\n"
     ]
    },
    {
     "data": {
      "text/plain": [
       "0.21605522456327003"
      ]
     },
     "execution_count": 44,
     "metadata": {},
     "output_type": "execute_result"
    }
   ],
   "source": [
    "test_pred = np.expm1(model.predict(xgb.DMatrix(X_test)))\n",
    "print test_pred[:5]\n",
    "print y_test[:5]\n",
    "rmsle(y_test, test_pred)"
   ]
  },
  {
   "cell_type": "code",
   "execution_count": null,
   "metadata": {
    "collapsed": true
   },
   "outputs": [],
   "source": []
  }
 ],
 "metadata": {
  "kernelspec": {
   "display_name": "Python 2",
   "language": "python",
   "name": "python2"
  },
  "language_info": {
   "codemirror_mode": {
    "name": "ipython",
    "version": 2
   },
   "file_extension": ".py",
   "mimetype": "text/x-python",
   "name": "python",
   "nbconvert_exporter": "python",
   "pygments_lexer": "ipython2",
   "version": "2.7.10"
  }
 },
 "nbformat": 4,
 "nbformat_minor": 0
}
