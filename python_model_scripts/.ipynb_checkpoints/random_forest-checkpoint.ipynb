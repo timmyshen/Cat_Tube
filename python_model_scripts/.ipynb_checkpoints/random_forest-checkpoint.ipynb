{
 "cells": [
  {
   "cell_type": "code",
   "execution_count": 24,
   "metadata": {
    "collapsed": false
   },
   "outputs": [
    {
     "name": "stdout",
     "output_type": "stream",
     "text": [
      "Populating the interactive namespace from numpy and matplotlib\n"
     ]
    },
    {
     "name": "stderr",
     "output_type": "stream",
     "text": [
      "WARNING: pylab import has clobbered these variables: ['clf']\n",
      "`%matplotlib` prevents importing * from pylab and numpy\n"
     ]
    }
   ],
   "source": [
    "%pylab inline\n",
    "import pandas as pd\n",
    "import sklearn.ensemble as sk_ensemble\n",
    "import sklearn.cross_validation as sk_cv"
   ]
  },
  {
   "cell_type": "code",
   "execution_count": 21,
   "metadata": {
    "collapsed": true
   },
   "outputs": [],
   "source": [
    "def rmsle(actual, predicted):\n",
    "    error = np.log1p(predicted) - np.log1p(actual)\n",
    "    return np.sqrt(np.mean(np.square(error)))"
   ]
  },
  {
   "cell_type": "code",
   "execution_count": 2,
   "metadata": {
    "collapsed": true
   },
   "outputs": [],
   "source": [
    "train_df = pd.read_csv('../train_set_adjusted.csv')"
   ]
  },
  {
   "cell_type": "code",
   "execution_count": 3,
   "metadata": {
    "collapsed": false
   },
   "outputs": [
    {
     "name": "stdout",
     "output_type": "stream",
     "text": [
      "(30213, 66)\n",
      "Index([u'tube_assembly_id', u'quote_date', u'annual_usage',\n",
      "       u'min_order_quantity', u'quantity', u'cost', u'year', u'quantity_rep',\n",
      "       u'supplier_S-0003', u'supplier_S-0004', u'supplier_S-0005',\n",
      "       u'supplier_S-0006', u'supplier_S-0007', u'supplier_S-0008',\n",
      "       u'supplier_S-0009', u'supplier_S-0011', u'supplier_S-0012',\n",
      "       u'supplier_S-0013', u'supplier_S-0014', u'supplier_S-0015',\n",
      "       u'supplier_S-0018', u'supplier_S-0022', u'supplier_S-0023',\n",
      "       u'supplier_S-0024', u'supplier_S-0025', u'supplier_S-0026',\n",
      "       u'supplier_S-0027', u'supplier_S-0029', u'supplier_S-0030',\n",
      "       u'supplier_S-0031', u'supplier_S-0041', u'supplier_S-0042',\n",
      "       u'supplier_S-0043', u'supplier_S-0046', u'supplier_S-0050',\n",
      "       u'supplier_S-0051', u'supplier_S-0054', u'supplier_S-0056',\n",
      "       u'supplier_S-0058', u'supplier_S-0059', u'supplier_S-0060',\n",
      "       u'supplier_S-0061', u'supplier_S-0062', u'supplier_S-0064',\n",
      "       u'supplier_S-0066', u'supplier_S-0068', u'supplier_S-0070',\n",
      "       u'supplier_S-0072', u'supplier_S-0074', u'supplier_S-0078',\n",
      "       u'supplier_S-0080', u'supplier_S-0081', u'supplier_S-0087',\n",
      "       u'supplier_S-0090', u'supplier_S-0092', u'supplier_S-0095',\n",
      "       u'supplier_S-0096', u'supplier_S-0097', u'supplier_S-0104',\n",
      "       u'supplier_S-0105', u'supplier_S-0106', u'supplier_S-0107',\n",
      "       u'supplier_S-0108', u'supplier_S-0109', u'supplier_S-0111',\n",
      "       u'bracket_pricing_Yes'],\n",
      "      dtype='object')\n"
     ]
    }
   ],
   "source": [
    "print train_df.shape\n",
    "print train_df.columns"
   ]
  },
  {
   "cell_type": "code",
   "execution_count": 4,
   "metadata": {
    "collapsed": true
   },
   "outputs": [],
   "source": [
    "tube = pd.read_csv('../tube_material_id_imputed_dummies_drop_ns.csv')"
   ]
  },
  {
   "cell_type": "code",
   "execution_count": 5,
   "metadata": {
    "collapsed": false
   },
   "outputs": [
    {
     "name": "stdout",
     "output_type": "stream",
     "text": [
      "(21198, 84)\n",
      "Index([u'tube_assembly_id', u'diameter', u'wall', u'length', u'num_bends',\n",
      "       u'bend_radius', u'num_boss', u'num_bracket', u'other',\n",
      "       u'material_id_SP-0008', u'material_id_SP-0019', u'material_id_SP-0028',\n",
      "       u'material_id_SP-0029', u'material_id_SP-0030', u'material_id_SP-0031',\n",
      "       u'material_id_SP-0032', u'material_id_SP-0033', u'material_id_SP-0034',\n",
      "       u'material_id_SP-0035', u'material_id_SP-0036', u'material_id_SP-0037',\n",
      "       u'material_id_SP-0038', u'material_id_SP-0039', u'material_id_SP-0041',\n",
      "       u'material_id_SP-0044', u'material_id_SP-0045', u'material_id_SP-0046',\n",
      "       u'material_id_SP-0048', u'end_a_1x_Y', u'end_a_2x_Y', u'end_x_1x_Y',\n",
      "       u'end_x_2x_Y', u'end_a_EF-001', u'end_a_EF-002', u'end_a_EF-003',\n",
      "       u'end_a_EF-004', u'end_a_EF-005', u'end_a_EF-006', u'end_a_EF-007',\n",
      "       u'end_a_EF-008', u'end_a_EF-009', u'end_a_EF-010', u'end_a_EF-011',\n",
      "       u'end_a_EF-012', u'end_a_EF-013', u'end_a_EF-014', u'end_a_EF-015',\n",
      "       u'end_a_EF-016', u'end_a_EF-017', u'end_a_EF-018', u'end_a_EF-019',\n",
      "       u'end_a_EF-020', u'end_a_EF-021', u'end_a_EF-022', u'end_a_EF-023',\n",
      "       u'end_a_EF-025', u'end_a_NONE', u'end_x_9999', u'end_x_EF-001',\n",
      "       u'end_x_EF-002', u'end_x_EF-003', u'end_x_EF-004', u'end_x_EF-005',\n",
      "       u'end_x_EF-006', u'end_x_EF-007', u'end_x_EF-008', u'end_x_EF-009',\n",
      "       u'end_x_EF-010', u'end_x_EF-011', u'end_x_EF-012', u'end_x_EF-013',\n",
      "       u'end_x_EF-014', u'end_x_EF-015', u'end_x_EF-016', u'end_x_EF-017',\n",
      "       u'end_x_EF-018', u'end_x_EF-019', u'end_x_EF-021', u'end_x_EF-022',\n",
      "       u'end_x_EF-023', u'end_x_EF-024', u'end_x_EF-025', u'end_x_EF-026',\n",
      "       u'end_x_NONE'],\n",
      "      dtype='object')\n"
     ]
    }
   ],
   "source": [
    "print tube.shape\n",
    "print tube.columns"
   ]
  },
  {
   "cell_type": "code",
   "execution_count": 6,
   "metadata": {
    "collapsed": true
   },
   "outputs": [],
   "source": [
    "spec = pd.read_csv('../spec_dummies.csv')"
   ]
  },
  {
   "cell_type": "code",
   "execution_count": 7,
   "metadata": {
    "collapsed": false
   },
   "outputs": [
    {
     "name": "stdout",
     "output_type": "stream",
     "text": [
      "(21198, 86)\n",
      "Index([u'tube_assembly_id', u'SP-0001', u'SP-0002', u'SP-0003', u'SP-0004',\n",
      "       u'SP-0005', u'SP-0006', u'SP-0007', u'SP-0009', u'SP-0010', u'SP-0011',\n",
      "       u'SP-0012', u'SP-0013', u'SP-0014', u'SP-0015', u'SP-0016', u'SP-0017',\n",
      "       u'SP-0018', u'SP-0019', u'SP-0020', u'SP-0021', u'SP-0022', u'SP-0023',\n",
      "       u'SP-0024', u'SP-0025', u'SP-0026', u'SP-0027', u'SP-0028', u'SP-0029',\n",
      "       u'SP-0030', u'SP-0033', u'SP-0035', u'SP-0036', u'SP-0037', u'SP-0038',\n",
      "       u'SP-0039', u'SP-0040', u'SP-0042', u'SP-0043', u'SP-0044', u'SP-0046',\n",
      "       u'SP-0047', u'SP-0049', u'SP-0050', u'SP-0051', u'SP-0052', u'SP-0053',\n",
      "       u'SP-0054', u'SP-0055', u'SP-0056', u'SP-0057', u'SP-0058', u'SP-0059',\n",
      "       u'SP-0060', u'SP-0061', u'SP-0062', u'SP-0063', u'SP-0064', u'SP-0065',\n",
      "       u'SP-0066', u'SP-0067', u'SP-0068', u'SP-0069', u'SP-0070', u'SP-0071',\n",
      "       u'SP-0072', u'SP-0073', u'SP-0074', u'SP-0075', u'SP-0076', u'SP-0077',\n",
      "       u'SP-0078', u'SP-0079', u'SP-0080', u'SP-0081', u'SP-0082', u'SP-0083',\n",
      "       u'SP-0084', u'SP-0085', u'SP-0086', u'SP-0087', u'SP-0088', u'SP-0091',\n",
      "       u'SP-0092', u'SP-0094', u'SP-0096'],\n",
      "      dtype='object')\n"
     ]
    }
   ],
   "source": [
    "print spec.shape\n",
    "print spec.columns"
   ]
  },
  {
   "cell_type": "code",
   "execution_count": 8,
   "metadata": {
    "collapsed": true
   },
   "outputs": [],
   "source": [
    "comp = pd.read_csv('../comp_type_dummies.csv')"
   ]
  },
  {
   "cell_type": "code",
   "execution_count": 9,
   "metadata": {
    "collapsed": false
   },
   "outputs": [
    {
     "name": "stdout",
     "output_type": "stream",
     "text": [
      "(21198, 30)\n",
      "Index([u'tube_assembly_id', u'CP-001', u'CP-002', u'CP-003', u'CP-004',\n",
      "       u'CP-005', u'CP-006', u'CP-007', u'CP-008', u'CP-009', u'CP-010',\n",
      "       u'CP-011', u'CP-012', u'CP-014', u'CP-015', u'CP-016', u'CP-017',\n",
      "       u'CP-018', u'CP-019', u'CP-020', u'CP-021', u'CP-022', u'CP-023',\n",
      "       u'CP-024', u'CP-025', u'CP-026', u'CP-027', u'CP-028', u'CP-029',\n",
      "       u'OTHER'],\n",
      "      dtype='object')\n"
     ]
    }
   ],
   "source": [
    "print comp.shape\n",
    "print comp.columns"
   ]
  },
  {
   "cell_type": "code",
   "execution_count": 10,
   "metadata": {
    "collapsed": true
   },
   "outputs": [],
   "source": [
    "comp_type_weight = pd.read_csv('../comp_type_weight.csv')"
   ]
  },
  {
   "cell_type": "code",
   "execution_count": 11,
   "metadata": {
    "collapsed": false
   },
   "outputs": [
    {
     "name": "stdout",
     "output_type": "stream",
     "text": [
      "(21198, 30)\n",
      "Index([u'tube_assembly_id', u'CP-001', u'CP-002', u'CP-003', u'CP-004',\n",
      "       u'CP-005', u'CP-006', u'CP-007', u'CP-008', u'CP-009', u'CP-010',\n",
      "       u'CP-011', u'CP-012', u'CP-014', u'CP-015', u'CP-016', u'CP-017',\n",
      "       u'CP-018', u'CP-019', u'CP-020', u'CP-021', u'CP-022', u'CP-023',\n",
      "       u'CP-024', u'CP-025', u'CP-026', u'CP-027', u'CP-028', u'CP-029',\n",
      "       u'OTHER'],\n",
      "      dtype='object')\n"
     ]
    }
   ],
   "source": [
    "print comp_type_weight.shape\n",
    "print comp_type_weight.columns"
   ]
  },
  {
   "cell_type": "code",
   "execution_count": 12,
   "metadata": {
    "collapsed": true
   },
   "outputs": [],
   "source": [
    "tube_vol = pd.read_csv('../tube_volume.csv')"
   ]
  },
  {
   "cell_type": "code",
   "execution_count": 14,
   "metadata": {
    "collapsed": true
   },
   "outputs": [],
   "source": [
    "train = pd.merge(train_df, tube)\n",
    "train = pd.merge(train, spec)\n",
    "train = pd.merge(train, comp_type_weight)\n",
    "train = pd.merge(train, tube_vol)"
   ]
  },
  {
   "cell_type": "code",
   "execution_count": 15,
   "metadata": {
    "collapsed": false
   },
   "outputs": [
    {
     "data": {
      "text/plain": [
       "tube_assembly_id       object\n",
       "quote_date             object\n",
       "annual_usage            int64\n",
       "min_order_quantity      int64\n",
       "quantity                int64\n",
       "cost                  float64\n",
       "year                    int64\n",
       "quantity_rep          float64\n",
       "supplier_S-0003       float64\n",
       "supplier_S-0004       float64\n",
       "supplier_S-0005       float64\n",
       "supplier_S-0006       float64\n",
       "supplier_S-0007       float64\n",
       "supplier_S-0008       float64\n",
       "supplier_S-0009       float64\n",
       "supplier_S-0011       float64\n",
       "supplier_S-0012       float64\n",
       "supplier_S-0013       float64\n",
       "supplier_S-0014       float64\n",
       "supplier_S-0015       float64\n",
       "supplier_S-0018       float64\n",
       "supplier_S-0022       float64\n",
       "supplier_S-0023       float64\n",
       "supplier_S-0024       float64\n",
       "supplier_S-0025       float64\n",
       "supplier_S-0026       float64\n",
       "supplier_S-0027       float64\n",
       "supplier_S-0029       float64\n",
       "supplier_S-0030       float64\n",
       "supplier_S-0031       float64\n",
       "                       ...   \n",
       "CP-001                float64\n",
       "CP-002                float64\n",
       "CP-003                float64\n",
       "CP-004                float64\n",
       "CP-005                float64\n",
       "CP-006                float64\n",
       "CP-007                float64\n",
       "CP-008                float64\n",
       "CP-009                float64\n",
       "CP-010                float64\n",
       "CP-011                float64\n",
       "CP-012                float64\n",
       "CP-014                float64\n",
       "CP-015                float64\n",
       "CP-016                float64\n",
       "CP-017                float64\n",
       "CP-018                float64\n",
       "CP-019                float64\n",
       "CP-020                float64\n",
       "CP-021                float64\n",
       "CP-022                float64\n",
       "CP-023                float64\n",
       "CP-024                float64\n",
       "CP-025                float64\n",
       "CP-026                float64\n",
       "CP-027                float64\n",
       "CP-028                float64\n",
       "CP-029                float64\n",
       "OTHER                 float64\n",
       "tube_volume           float64\n",
       "dtype: object"
      ]
     },
     "execution_count": 15,
     "metadata": {},
     "output_type": "execute_result"
    }
   ],
   "source": [
    "train.dtypes"
   ]
  },
  {
   "cell_type": "code",
   "execution_count": 31,
   "metadata": {
    "collapsed": false
   },
   "outputs": [],
   "source": [
    "train_sub_train, train_sub_cv = sk_cv.train_test_split(train, train_size = 0.7, random_state = 0)"
   ]
  },
  {
   "cell_type": "code",
   "execution_count": 32,
   "metadata": {
    "collapsed": false
   },
   "outputs": [
    {
     "name": "stdout",
     "output_type": "stream",
     "text": [
      "(21149, 264)\n",
      "(9064, 264)\n"
     ]
    }
   ],
   "source": [
    "print train_sub_train.shape\n",
    "print train_sub_cv.shape"
   ]
  },
  {
   "cell_type": "code",
   "execution_count": 43,
   "metadata": {
    "collapsed": false
   },
   "outputs": [],
   "source": [
    "X = train_sub_train.drop(['tube_assembly_id', 'quote_date', 'cost'], axis=1).values\n",
    "Y = train_sub_train.cost\n",
    "rf = sk_ensemble.RandomForestRegressor(n_estimators=100, verbose=0, random_state=0, n_jobs=4, oob_score=True)\n",
    "rf = rf.fit(X, Y)"
   ]
  },
  {
   "cell_type": "code",
   "execution_count": 44,
   "metadata": {
    "collapsed": false
   },
   "outputs": [],
   "source": [
    "X_cv = train_sub_cv.drop(['tube_assembly_id', 'quote_date', 'cost'], axis=1).values\n",
    "y_cv = train_sub_cv.cost\n",
    "y_cv_fitted = rf.predict(X_cv)"
   ]
  },
  {
   "cell_type": "code",
   "execution_count": 45,
   "metadata": {
    "collapsed": false
   },
   "outputs": [
    {
     "data": {
      "text/plain": [
       "0.24964471987586298"
      ]
     },
     "execution_count": 45,
     "metadata": {},
     "output_type": "execute_result"
    }
   ],
   "source": [
    "rmsle(y_cv, y_cv_fitted)"
   ]
  },
  {
   "cell_type": "code",
   "execution_count": null,
   "metadata": {
    "collapsed": true
   },
   "outputs": [],
   "source": []
  }
 ],
 "metadata": {
  "kernelspec": {
   "display_name": "Python 2",
   "language": "python",
   "name": "python2"
  },
  "language_info": {
   "codemirror_mode": {
    "name": "ipython",
    "version": 2
   },
   "file_extension": ".py",
   "mimetype": "text/x-python",
   "name": "python",
   "nbconvert_exporter": "python",
   "pygments_lexer": "ipython2",
   "version": "2.7.8"
  }
 },
 "nbformat": 4,
 "nbformat_minor": 0
}
