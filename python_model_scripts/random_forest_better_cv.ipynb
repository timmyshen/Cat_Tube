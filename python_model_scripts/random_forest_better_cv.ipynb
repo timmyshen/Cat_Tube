{
 "cells": [
  {
   "cell_type": "code",
   "execution_count": 1,
   "metadata": {
    "collapsed": false
   },
   "outputs": [
    {
     "name": "stdout",
     "output_type": "stream",
     "text": [
      "Populating the interactive namespace from numpy and matplotlib\n"
     ]
    }
   ],
   "source": [
    "%pylab inline\n",
    "import pandas as pd\n",
    "import sklearn.ensemble as sk_ensemble\n",
    "import sklearn.cross_validation as sk_cv\n",
    "import xgboost as xgb"
   ]
  },
  {
   "cell_type": "code",
   "execution_count": 2,
   "metadata": {
    "collapsed": true
   },
   "outputs": [],
   "source": [
    "def rmsle(actual, predicted):\n",
    "    error = np.log1p(predicted) - np.log1p(actual)\n",
    "    return np.sqrt(np.mean(np.square(error)))"
   ]
  },
  {
   "cell_type": "code",
   "execution_count": 86,
   "metadata": {
    "collapsed": true
   },
   "outputs": [],
   "source": [
    "train = pd.read_csv('../preprocessed_train.csv')"
   ]
  },
  {
   "cell_type": "code",
   "execution_count": 87,
   "metadata": {
    "collapsed": false
   },
   "outputs": [
    {
     "data": {
      "text/html": [
       "<div>\n",
       "<table border=\"1\" class=\"dataframe\">\n",
       "  <thead>\n",
       "    <tr style=\"text-align: right;\">\n",
       "      <th></th>\n",
       "      <th>tube_assembly_id</th>\n",
       "      <th>annual_usage</th>\n",
       "      <th>min_order_quantity</th>\n",
       "      <th>quantity</th>\n",
       "      <th>cost</th>\n",
       "      <th>year</th>\n",
       "      <th>supplier_S-0003</th>\n",
       "      <th>supplier_S-0004</th>\n",
       "      <th>supplier_S-0005</th>\n",
       "      <th>supplier_S-0006</th>\n",
       "      <th>...</th>\n",
       "      <th>CP-022</th>\n",
       "      <th>CP-023</th>\n",
       "      <th>CP-024</th>\n",
       "      <th>CP-025</th>\n",
       "      <th>CP-026</th>\n",
       "      <th>CP-027</th>\n",
       "      <th>CP-028</th>\n",
       "      <th>CP-029</th>\n",
       "      <th>OTHER</th>\n",
       "      <th>tube_volume</th>\n",
       "    </tr>\n",
       "  </thead>\n",
       "  <tbody>\n",
       "    <tr>\n",
       "      <th>0</th>\n",
       "      <td>TA-00002</td>\n",
       "      <td>0</td>\n",
       "      <td>0</td>\n",
       "      <td>1</td>\n",
       "      <td>21.905933</td>\n",
       "      <td>2013</td>\n",
       "      <td>0</td>\n",
       "      <td>0</td>\n",
       "      <td>0</td>\n",
       "      <td>0</td>\n",
       "      <td>...</td>\n",
       "      <td>0</td>\n",
       "      <td>0</td>\n",
       "      <td>0</td>\n",
       "      <td>0</td>\n",
       "      <td>0</td>\n",
       "      <td>0</td>\n",
       "      <td>2</td>\n",
       "      <td>0</td>\n",
       "      <td>0</td>\n",
       "      <td>17137.76743</td>\n",
       "    </tr>\n",
       "    <tr>\n",
       "      <th>1</th>\n",
       "      <td>TA-00002</td>\n",
       "      <td>0</td>\n",
       "      <td>0</td>\n",
       "      <td>2</td>\n",
       "      <td>12.341214</td>\n",
       "      <td>2013</td>\n",
       "      <td>0</td>\n",
       "      <td>0</td>\n",
       "      <td>0</td>\n",
       "      <td>0</td>\n",
       "      <td>...</td>\n",
       "      <td>0</td>\n",
       "      <td>0</td>\n",
       "      <td>0</td>\n",
       "      <td>0</td>\n",
       "      <td>0</td>\n",
       "      <td>0</td>\n",
       "      <td>2</td>\n",
       "      <td>0</td>\n",
       "      <td>0</td>\n",
       "      <td>17137.76743</td>\n",
       "    </tr>\n",
       "    <tr>\n",
       "      <th>2</th>\n",
       "      <td>TA-00002</td>\n",
       "      <td>0</td>\n",
       "      <td>0</td>\n",
       "      <td>5</td>\n",
       "      <td>6.601826</td>\n",
       "      <td>2013</td>\n",
       "      <td>0</td>\n",
       "      <td>0</td>\n",
       "      <td>0</td>\n",
       "      <td>0</td>\n",
       "      <td>...</td>\n",
       "      <td>0</td>\n",
       "      <td>0</td>\n",
       "      <td>0</td>\n",
       "      <td>0</td>\n",
       "      <td>0</td>\n",
       "      <td>0</td>\n",
       "      <td>2</td>\n",
       "      <td>0</td>\n",
       "      <td>0</td>\n",
       "      <td>17137.76743</td>\n",
       "    </tr>\n",
       "    <tr>\n",
       "      <th>3</th>\n",
       "      <td>TA-00002</td>\n",
       "      <td>0</td>\n",
       "      <td>0</td>\n",
       "      <td>10</td>\n",
       "      <td>4.687770</td>\n",
       "      <td>2013</td>\n",
       "      <td>0</td>\n",
       "      <td>0</td>\n",
       "      <td>0</td>\n",
       "      <td>0</td>\n",
       "      <td>...</td>\n",
       "      <td>0</td>\n",
       "      <td>0</td>\n",
       "      <td>0</td>\n",
       "      <td>0</td>\n",
       "      <td>0</td>\n",
       "      <td>0</td>\n",
       "      <td>2</td>\n",
       "      <td>0</td>\n",
       "      <td>0</td>\n",
       "      <td>17137.76743</td>\n",
       "    </tr>\n",
       "    <tr>\n",
       "      <th>4</th>\n",
       "      <td>TA-00002</td>\n",
       "      <td>0</td>\n",
       "      <td>0</td>\n",
       "      <td>25</td>\n",
       "      <td>3.541561</td>\n",
       "      <td>2013</td>\n",
       "      <td>0</td>\n",
       "      <td>0</td>\n",
       "      <td>0</td>\n",
       "      <td>0</td>\n",
       "      <td>...</td>\n",
       "      <td>0</td>\n",
       "      <td>0</td>\n",
       "      <td>0</td>\n",
       "      <td>0</td>\n",
       "      <td>0</td>\n",
       "      <td>0</td>\n",
       "      <td>2</td>\n",
       "      <td>0</td>\n",
       "      <td>0</td>\n",
       "      <td>17137.76743</td>\n",
       "    </tr>\n",
       "    <tr>\n",
       "      <th>5</th>\n",
       "      <td>TA-00002</td>\n",
       "      <td>0</td>\n",
       "      <td>0</td>\n",
       "      <td>50</td>\n",
       "      <td>3.224406</td>\n",
       "      <td>2013</td>\n",
       "      <td>0</td>\n",
       "      <td>0</td>\n",
       "      <td>0</td>\n",
       "      <td>0</td>\n",
       "      <td>...</td>\n",
       "      <td>0</td>\n",
       "      <td>0</td>\n",
       "      <td>0</td>\n",
       "      <td>0</td>\n",
       "      <td>0</td>\n",
       "      <td>0</td>\n",
       "      <td>2</td>\n",
       "      <td>0</td>\n",
       "      <td>0</td>\n",
       "      <td>17137.76743</td>\n",
       "    </tr>\n",
       "    <tr>\n",
       "      <th>6</th>\n",
       "      <td>TA-00002</td>\n",
       "      <td>0</td>\n",
       "      <td>0</td>\n",
       "      <td>100</td>\n",
       "      <td>3.082521</td>\n",
       "      <td>2013</td>\n",
       "      <td>0</td>\n",
       "      <td>0</td>\n",
       "      <td>0</td>\n",
       "      <td>0</td>\n",
       "      <td>...</td>\n",
       "      <td>0</td>\n",
       "      <td>0</td>\n",
       "      <td>0</td>\n",
       "      <td>0</td>\n",
       "      <td>0</td>\n",
       "      <td>0</td>\n",
       "      <td>2</td>\n",
       "      <td>0</td>\n",
       "      <td>0</td>\n",
       "      <td>17137.76743</td>\n",
       "    </tr>\n",
       "    <tr>\n",
       "      <th>7</th>\n",
       "      <td>TA-00002</td>\n",
       "      <td>0</td>\n",
       "      <td>0</td>\n",
       "      <td>250</td>\n",
       "      <td>2.999060</td>\n",
       "      <td>2013</td>\n",
       "      <td>0</td>\n",
       "      <td>0</td>\n",
       "      <td>0</td>\n",
       "      <td>0</td>\n",
       "      <td>...</td>\n",
       "      <td>0</td>\n",
       "      <td>0</td>\n",
       "      <td>0</td>\n",
       "      <td>0</td>\n",
       "      <td>0</td>\n",
       "      <td>0</td>\n",
       "      <td>2</td>\n",
       "      <td>0</td>\n",
       "      <td>0</td>\n",
       "      <td>17137.76743</td>\n",
       "    </tr>\n",
       "    <tr>\n",
       "      <th>8</th>\n",
       "      <td>TA-00004</td>\n",
       "      <td>0</td>\n",
       "      <td>0</td>\n",
       "      <td>1</td>\n",
       "      <td>21.972702</td>\n",
       "      <td>2013</td>\n",
       "      <td>0</td>\n",
       "      <td>0</td>\n",
       "      <td>0</td>\n",
       "      <td>0</td>\n",
       "      <td>...</td>\n",
       "      <td>0</td>\n",
       "      <td>0</td>\n",
       "      <td>0</td>\n",
       "      <td>0</td>\n",
       "      <td>0</td>\n",
       "      <td>0</td>\n",
       "      <td>2</td>\n",
       "      <td>0</td>\n",
       "      <td>0</td>\n",
       "      <td>17137.76743</td>\n",
       "    </tr>\n",
       "    <tr>\n",
       "      <th>9</th>\n",
       "      <td>TA-00004</td>\n",
       "      <td>0</td>\n",
       "      <td>0</td>\n",
       "      <td>2</td>\n",
       "      <td>12.407983</td>\n",
       "      <td>2013</td>\n",
       "      <td>0</td>\n",
       "      <td>0</td>\n",
       "      <td>0</td>\n",
       "      <td>0</td>\n",
       "      <td>...</td>\n",
       "      <td>0</td>\n",
       "      <td>0</td>\n",
       "      <td>0</td>\n",
       "      <td>0</td>\n",
       "      <td>0</td>\n",
       "      <td>0</td>\n",
       "      <td>2</td>\n",
       "      <td>0</td>\n",
       "      <td>0</td>\n",
       "      <td>17137.76743</td>\n",
       "    </tr>\n",
       "  </tbody>\n",
       "</table>\n",
       "<p>10 rows × 262 columns</p>\n",
       "</div>"
      ],
      "text/plain": [
       "  tube_assembly_id  annual_usage  min_order_quantity  quantity       cost  \\\n",
       "0         TA-00002             0                   0         1  21.905933   \n",
       "1         TA-00002             0                   0         2  12.341214   \n",
       "2         TA-00002             0                   0         5   6.601826   \n",
       "3         TA-00002             0                   0        10   4.687770   \n",
       "4         TA-00002             0                   0        25   3.541561   \n",
       "5         TA-00002             0                   0        50   3.224406   \n",
       "6         TA-00002             0                   0       100   3.082521   \n",
       "7         TA-00002             0                   0       250   2.999060   \n",
       "8         TA-00004             0                   0         1  21.972702   \n",
       "9         TA-00004             0                   0         2  12.407983   \n",
       "\n",
       "   year  supplier_S-0003  supplier_S-0004  supplier_S-0005  supplier_S-0006  \\\n",
       "0  2013                0                0                0                0   \n",
       "1  2013                0                0                0                0   \n",
       "2  2013                0                0                0                0   \n",
       "3  2013                0                0                0                0   \n",
       "4  2013                0                0                0                0   \n",
       "5  2013                0                0                0                0   \n",
       "6  2013                0                0                0                0   \n",
       "7  2013                0                0                0                0   \n",
       "8  2013                0                0                0                0   \n",
       "9  2013                0                0                0                0   \n",
       "\n",
       "      ...       CP-022  CP-023  CP-024  CP-025  CP-026  CP-027  CP-028  \\\n",
       "0     ...            0       0       0       0       0       0       2   \n",
       "1     ...            0       0       0       0       0       0       2   \n",
       "2     ...            0       0       0       0       0       0       2   \n",
       "3     ...            0       0       0       0       0       0       2   \n",
       "4     ...            0       0       0       0       0       0       2   \n",
       "5     ...            0       0       0       0       0       0       2   \n",
       "6     ...            0       0       0       0       0       0       2   \n",
       "7     ...            0       0       0       0       0       0       2   \n",
       "8     ...            0       0       0       0       0       0       2   \n",
       "9     ...            0       0       0       0       0       0       2   \n",
       "\n",
       "   CP-029  OTHER  tube_volume  \n",
       "0       0      0  17137.76743  \n",
       "1       0      0  17137.76743  \n",
       "2       0      0  17137.76743  \n",
       "3       0      0  17137.76743  \n",
       "4       0      0  17137.76743  \n",
       "5       0      0  17137.76743  \n",
       "6       0      0  17137.76743  \n",
       "7       0      0  17137.76743  \n",
       "8       0      0  17137.76743  \n",
       "9       0      0  17137.76743  \n",
       "\n",
       "[10 rows x 262 columns]"
      ]
     },
     "execution_count": 87,
     "metadata": {},
     "output_type": "execute_result"
    }
   ],
   "source": [
    "train.head(10)"
   ]
  },
  {
   "cell_type": "code",
   "execution_count": 10,
   "metadata": {
    "collapsed": true
   },
   "outputs": [],
   "source": [
    "bracket_pricing_ta_ids = train[train.bracket_pricing_Yes == 1].tube_assembly_id.unique()\n",
    "non_bracket_pricing_ta_ids = train[train.bracket_pricing_Yes != 1].tube_assembly_id.unique()"
   ]
  },
  {
   "cell_type": "code",
   "execution_count": 11,
   "metadata": {
    "collapsed": false
   },
   "outputs": [
    {
     "name": "stdout",
     "output_type": "stream",
     "text": [
      "(4925,)\n",
      "(3930,)\n"
     ]
    }
   ],
   "source": [
    "print bracket_pricing_ta_ids.shape\n",
    "print non_bracket_pricing_ta_ids.shape"
   ]
  },
  {
   "cell_type": "code",
   "execution_count": 88,
   "metadata": {
    "collapsed": false
   },
   "outputs": [
    {
     "name": "stdout",
     "output_type": "stream",
     "text": [
      "(26283, 262)\n",
      "(3930, 262)\n"
     ]
    }
   ],
   "source": [
    "print train[train.bracket_pricing_Yes == 1].shape\n",
    "print train[train.bracket_pricing_Yes != 1].shape"
   ]
  },
  {
   "cell_type": "code",
   "execution_count": 13,
   "metadata": {
    "collapsed": false
   },
   "outputs": [],
   "source": [
    "bp_ids_train_cv, bp_ids_test = \\\n",
    "sk_cv.train_test_split(bracket_pricing_ta_ids, train_size = 0.7, random_state = 0)"
   ]
  },
  {
   "cell_type": "code",
   "execution_count": 23,
   "metadata": {
    "collapsed": false
   },
   "outputs": [
    {
     "name": "stdout",
     "output_type": "stream",
     "text": [
      "(3447,)\n",
      "(1478,)\n",
      "<type 'numpy.ndarray'>\n"
     ]
    }
   ],
   "source": [
    "print bp_ids_train_cv.shape\n",
    "print bp_ids_test.shape\n",
    "print type(bp_ids_train_cv)"
   ]
  },
  {
   "cell_type": "code",
   "execution_count": 14,
   "metadata": {
    "collapsed": true
   },
   "outputs": [],
   "source": [
    "nbp_ids_train_cv, nbp_ids_test = \\\n",
    "sk_cv.train_test_split(non_bracket_pricing_ta_ids, train_size = 0.7, random_state = 0)"
   ]
  },
  {
   "cell_type": "code",
   "execution_count": 26,
   "metadata": {
    "collapsed": false
   },
   "outputs": [],
   "source": [
    "train_cv = train.ix[train.tube_assembly_id.isin(bp_ids_train_cv.tolist() + nbp_ids_train_cv.tolist()), ]\n",
    "holdout = train.ix[train.tube_assembly_id.isin(bp_ids_test.tolist() + nbp_ids_test.tolist()), ]"
   ]
  },
  {
   "cell_type": "code",
   "execution_count": 27,
   "metadata": {
    "collapsed": false
   },
   "outputs": [
    {
     "name": "stdout",
     "output_type": "stream",
     "text": [
      "(21148, 262)\n",
      "(9065, 262)\n"
     ]
    }
   ],
   "source": [
    "print train_cv.shape\n",
    "print holdout.shape"
   ]
  },
  {
   "cell_type": "code",
   "execution_count": 70,
   "metadata": {
    "collapsed": false
   },
   "outputs": [],
   "source": [
    "kfold_bp = sk_cv.KFold(bracket_pricing_ta_ids.shape[0], 10, shuffle=True, random_state=0)\n",
    "kfold_nbp = sk_cv.KFold(non_bracket_pricing_ta_ids.shape[0], 10, shuffle=True, random_state=0)"
   ]
  },
  {
   "cell_type": "code",
   "execution_count": 95,
   "metadata": {
    "collapsed": false
   },
   "outputs": [],
   "source": [
    "# print kfold_bp\n",
    "# print kfold_nbp"
   ]
  },
  {
   "cell_type": "code",
   "execution_count": 96,
   "metadata": {
    "collapsed": false
   },
   "outputs": [
    {
     "name": "stdout",
     "output_type": "stream",
     "text": [
      "0.213270124344\n",
      "0.206985965468\n",
      "0.219897603121\n",
      "0.214946107211\n",
      "0.247947453011\n",
      "0.269300904528\n",
      "0.241961392971\n",
      "0.205275566031\n",
      "0.26333088792\n",
      "0.220273870158\n"
     ]
    }
   ],
   "source": [
    "for train_kf, test_kf in kfold_bp:\n",
    "    ta_ids_in_train = bracket_pricing_ta_ids[train_kf, ].tolist()\n",
    "    ta_ids_in_cv = bracket_pricing_ta_ids[test_kf, ].tolist()\n",
    "    train_df = train.ix[train.tube_assembly_id.isin(ta_ids_in_train), ]\n",
    "    cv_df = train.ix[train.tube_assembly_id.isin(ta_ids_in_cv), ]\n",
    "    X = train_df.drop(['tube_assembly_id', 'cost'], axis=1).values\n",
    "    y = train_df.cost\n",
    "    rf = sk_ensemble.RandomForestRegressor(n_estimators=50, n_jobs=4, oob_score=True)\n",
    "    rf = rf.fit(X, np.log1p(y))\n",
    "    holdout_X = cv_df.drop(['tube_assembly_id', 'cost'], axis=1).values\n",
    "    holdout_y = cv_df.cost\n",
    "    holdout_y_fitted = np.expm1(rf.predict(holdout_X))\n",
    "    print rmsle(holdout_y, holdout_y_fitted)"
   ]
  },
  {
   "cell_type": "code",
   "execution_count": 100,
   "metadata": {
    "collapsed": false
   },
   "outputs": [
    {
     "name": "stdout",
     "output_type": "stream",
     "text": [
      "in sample: 0.176850.2\n",
      "cv: 0.414874.2\n",
      "in sample: 0.175543.2\n",
      "cv: 0.488300.2\n",
      "in sample: 0.175455.2\n",
      "cv: 0.450108.2\n",
      "in sample: 0.174941.2\n",
      "cv: 0.493398.2\n",
      "in sample: 0.174167.2\n",
      "cv: 0.470541.2\n",
      "in sample: 0.174378.2\n",
      "cv: 0.468248.2\n",
      "in sample: 0.175458.2\n",
      "cv: 0.497801.2\n",
      "in sample: 0.175697.2\n",
      "cv: 0.483645.2\n",
      "in sample: 0.175023.2\n",
      "cv: 0.474844.2\n",
      "in sample: 0.174496.2\n",
      "cv: 0.471503.2\n"
     ]
    }
   ],
   "source": [
    "for train_kf, test_kf in kfold_nbp:\n",
    "    ta_ids_in_train = non_bracket_pricing_ta_ids[train_kf, ].tolist()\n",
    "    ta_ids_in_cv = non_bracket_pricing_ta_ids[test_kf, ].tolist()\n",
    "    train_df = train.ix[train.tube_assembly_id.isin(ta_ids_in_train), ]\n",
    "    cv_df = train.ix[train.tube_assembly_id.isin(ta_ids_in_cv), ]\n",
    "    X = train_df.drop(['tube_assembly_id', 'cost'], axis=1).values\n",
    "    y = train_df.cost\n",
    "    rf = sk_ensemble.RandomForestRegressor(n_estimators=250, n_jobs=4, oob_score=True)\n",
    "    rf = rf.fit(X, np.log1p(y))\n",
    "    \n",
    "    y_fitted = np.expm1(rf.predict(X))\n",
    "    print 'in sample: %f.2' % rmsle(y_fitted, y)\n",
    "    \n",
    "    holdout_X = cv_df.drop(['tube_assembly_id', 'cost'], axis=1).values\n",
    "    holdout_y = cv_df.cost\n",
    "    holdout_y_fitted = np.expm1(rf.predict(holdout_X))\n",
    "    print 'cv: %f.2' %rmsle(holdout_y, holdout_y_fitted)"
   ]
  },
  {
   "cell_type": "code",
   "execution_count": 68,
   "metadata": {
    "collapsed": false
   },
   "outputs": [],
   "source": [
    "# train_sub_train, train_sub_cv = sk_cv.train_test_split(train.ix[:29000], train_size = 0.5, random_state = 346)\n",
    "# train_sub_test = train.ix[29000:]"
   ]
  },
  {
   "cell_type": "code",
   "execution_count": 54,
   "metadata": {
    "collapsed": false
   },
   "outputs": [],
   "source": [
    "X = train_cv.drop(['tube_assembly_id', 'cost'], axis=1).values\n",
    "y = train_cv.cost\n",
    "# , random_state=0, verbose=0\n",
    "rf = sk_ensemble.RandomForestRegressor(n_estimators=250, n_jobs=4, oob_score=True)\n",
    "rf = rf.fit(X, np.log1p(y))"
   ]
  },
  {
   "cell_type": "code",
   "execution_count": 57,
   "metadata": {
    "collapsed": false
   },
   "outputs": [
    {
     "name": "stdout",
     "output_type": "stream",
     "text": [
      "0.0878637867054\n"
     ]
    }
   ],
   "source": [
    "y_fitted = np.expm1(rf.predict(X))\n",
    "print rmsle(y, y_fitted)"
   ]
  },
  {
   "cell_type": "code",
   "execution_count": 55,
   "metadata": {
    "collapsed": true
   },
   "outputs": [],
   "source": [
    "holdout_X = holdout.drop(['tube_assembly_id', 'cost'], axis=1).values\n",
    "holdout_y = holdout.cost\n",
    "\n",
    "holdout_y_fitted = np.expm1(rf.predict(holdout_X))"
   ]
  },
  {
   "cell_type": "code",
   "execution_count": 56,
   "metadata": {
    "collapsed": false
   },
   "outputs": [
    {
     "name": "stdout",
     "output_type": "stream",
     "text": [
      "0.257597644825\n"
     ]
    }
   ],
   "source": [
    "print rmsle(holdout_y, holdout_y_fitted)"
   ]
  },
  {
   "cell_type": "code",
   "execution_count": 38,
   "metadata": {
    "collapsed": false
   },
   "outputs": [],
   "source": [
    "feats_imp = pd.DataFrame({'feats' : train_cv.drop(['tube_assembly_id', 'cost'], axis=1).columns, \\\n",
    "                         'imp' : rf.feature_importances_})"
   ]
  },
  {
   "cell_type": "code",
   "execution_count": 94,
   "metadata": {
    "collapsed": false
   },
   "outputs": [
    {
     "data": {
      "text/plain": [
       "<matplotlib.axes._subplots.AxesSubplot at 0x7fe1c50df950>"
      ]
     },
     "execution_count": 94,
     "metadata": {},
     "output_type": "execute_result"
    },
    {
     "data": {
      "image/png": "[encoded data removed]",
      "text/plain": [
       "<matplotlib.figure.Figure at 0x7fe1cd4340d0>"
      ]
     },
     "metadata": {},
     "output_type": "display_data"
    }
   ],
   "source": [
    "feats_imp.sort(columns=['imp'], ascending=False).head(50).plot(kind='bar')"
   ]
  },
  {
   "cell_type": "code",
   "execution_count": 82,
   "metadata": {
    "collapsed": false
   },
   "outputs": [],
   "source": [
    "X_cv = train_sub_cv.drop(['tube_assembly_id', 'quote_date', 'cost'], axis=1).values\n",
    "y_cv = train_sub_cv.cost\n",
    "X_test = train_sub_test.drop(['tube_assembly_id', 'quote_date', 'cost'], axis=1).values\n",
    "y_test = train_sub_test.cost\n",
    "y_cv_fitted = np.expm1(rf.predict(X_cv))"
   ]
  },
  {
   "cell_type": "code",
   "execution_count": 83,
   "metadata": {
    "collapsed": false
   },
   "outputs": [
    {
     "name": "stdout",
     "output_type": "stream",
     "text": [
      "0.248358061663\n",
      "8768      4.657167\n",
      "17279    21.115828\n",
      "11098     7.578329\n",
      "13415    13.033947\n",
      "26622    11.843225\n",
      "23383     8.696717\n",
      "25047     6.754839\n",
      "28684     1.986390\n",
      "26369    21.892023\n",
      "22634    18.687091\n",
      "Name: cost, dtype: float64\n",
      "[  4.78016727  22.18499406   7.70401672  13.63151068  11.24795093\n",
      "  10.80556044   6.64042232   2.15777853  21.26286314  15.32715093]\n"
     ]
    }
   ],
   "source": [
    "print rmsle(y_cv, y_cv_fitted)\n",
    "print y_cv[:10]\n",
    "print y_cv_fitted[:10]"
   ]
  },
  {
   "cell_type": "code",
   "execution_count": 73,
   "metadata": {
    "collapsed": false
   },
   "outputs": [
    {
     "data": {
      "text/html": [
       "<div>\n",
       "<table border=\"1\" class=\"dataframe\">\n",
       "  <thead>\n",
       "    <tr style=\"text-align: right;\">\n",
       "      <th></th>\n",
       "      <th>annual_usage</th>\n",
       "      <th>cost</th>\n",
       "      <th>min_order_quantity</th>\n",
       "      <th>quantity</th>\n",
       "      <th>quantity_rep</th>\n",
       "      <th>quote_date</th>\n",
       "      <th>tube_assembly_id</th>\n",
       "      <th>year</th>\n",
       "      <th>supplier_S-0003</th>\n",
       "      <th>supplier_S-0004</th>\n",
       "      <th>...</th>\n",
       "      <th>CP-022</th>\n",
       "      <th>CP-023</th>\n",
       "      <th>CP-024</th>\n",
       "      <th>CP-025</th>\n",
       "      <th>CP-026</th>\n",
       "      <th>CP-027</th>\n",
       "      <th>CP-028</th>\n",
       "      <th>CP-029</th>\n",
       "      <th>OTHER</th>\n",
       "      <th>tube_volume</th>\n",
       "    </tr>\n",
       "  </thead>\n",
       "  <tbody>\n",
       "    <tr>\n",
       "      <th>0</th>\n",
       "      <td>0</td>\n",
       "      <td>0</td>\n",
       "      <td>0</td>\n",
       "      <td>1</td>\n",
       "      <td>1.00</td>\n",
       "      <td>2013-06-23</td>\n",
       "      <td>TA-00001</td>\n",
       "      <td>2013</td>\n",
       "      <td>0</td>\n",
       "      <td>0</td>\n",
       "      <td>...</td>\n",
       "      <td>0</td>\n",
       "      <td>0</td>\n",
       "      <td>0.024</td>\n",
       "      <td>0.072</td>\n",
       "      <td>0</td>\n",
       "      <td>0</td>\n",
       "      <td>0</td>\n",
       "      <td>0</td>\n",
       "      <td>0</td>\n",
       "      <td>81697.336868</td>\n",
       "    </tr>\n",
       "    <tr>\n",
       "      <th>1</th>\n",
       "      <td>0</td>\n",
       "      <td>0</td>\n",
       "      <td>0</td>\n",
       "      <td>2</td>\n",
       "      <td>0.50</td>\n",
       "      <td>2013-06-23</td>\n",
       "      <td>TA-00001</td>\n",
       "      <td>2013</td>\n",
       "      <td>0</td>\n",
       "      <td>0</td>\n",
       "      <td>...</td>\n",
       "      <td>0</td>\n",
       "      <td>0</td>\n",
       "      <td>0.024</td>\n",
       "      <td>0.072</td>\n",
       "      <td>0</td>\n",
       "      <td>0</td>\n",
       "      <td>0</td>\n",
       "      <td>0</td>\n",
       "      <td>0</td>\n",
       "      <td>81697.336868</td>\n",
       "    </tr>\n",
       "    <tr>\n",
       "      <th>2</th>\n",
       "      <td>0</td>\n",
       "      <td>0</td>\n",
       "      <td>0</td>\n",
       "      <td>5</td>\n",
       "      <td>0.20</td>\n",
       "      <td>2013-06-23</td>\n",
       "      <td>TA-00001</td>\n",
       "      <td>2013</td>\n",
       "      <td>0</td>\n",
       "      <td>0</td>\n",
       "      <td>...</td>\n",
       "      <td>0</td>\n",
       "      <td>0</td>\n",
       "      <td>0.024</td>\n",
       "      <td>0.072</td>\n",
       "      <td>0</td>\n",
       "      <td>0</td>\n",
       "      <td>0</td>\n",
       "      <td>0</td>\n",
       "      <td>0</td>\n",
       "      <td>81697.336868</td>\n",
       "    </tr>\n",
       "    <tr>\n",
       "      <th>3</th>\n",
       "      <td>0</td>\n",
       "      <td>0</td>\n",
       "      <td>0</td>\n",
       "      <td>10</td>\n",
       "      <td>0.10</td>\n",
       "      <td>2013-06-23</td>\n",
       "      <td>TA-00001</td>\n",
       "      <td>2013</td>\n",
       "      <td>0</td>\n",
       "      <td>0</td>\n",
       "      <td>...</td>\n",
       "      <td>0</td>\n",
       "      <td>0</td>\n",
       "      <td>0.024</td>\n",
       "      <td>0.072</td>\n",
       "      <td>0</td>\n",
       "      <td>0</td>\n",
       "      <td>0</td>\n",
       "      <td>0</td>\n",
       "      <td>0</td>\n",
       "      <td>81697.336868</td>\n",
       "    </tr>\n",
       "    <tr>\n",
       "      <th>4</th>\n",
       "      <td>0</td>\n",
       "      <td>0</td>\n",
       "      <td>0</td>\n",
       "      <td>25</td>\n",
       "      <td>0.04</td>\n",
       "      <td>2013-06-23</td>\n",
       "      <td>TA-00001</td>\n",
       "      <td>2013</td>\n",
       "      <td>0</td>\n",
       "      <td>0</td>\n",
       "      <td>...</td>\n",
       "      <td>0</td>\n",
       "      <td>0</td>\n",
       "      <td>0.024</td>\n",
       "      <td>0.072</td>\n",
       "      <td>0</td>\n",
       "      <td>0</td>\n",
       "      <td>0</td>\n",
       "      <td>0</td>\n",
       "      <td>0</td>\n",
       "      <td>81697.336868</td>\n",
       "    </tr>\n",
       "  </tbody>\n",
       "</table>\n",
       "<p>5 rows × 265 columns</p>\n",
       "</div>"
      ],
      "text/plain": [
       "   annual_usage  cost  min_order_quantity  quantity  quantity_rep  quote_date  \\\n",
       "0             0     0                   0         1          1.00  2013-06-23   \n",
       "1             0     0                   0         2          0.50  2013-06-23   \n",
       "2             0     0                   0         5          0.20  2013-06-23   \n",
       "3             0     0                   0        10          0.10  2013-06-23   \n",
       "4             0     0                   0        25          0.04  2013-06-23   \n",
       "\n",
       "  tube_assembly_id  year  supplier_S-0003  supplier_S-0004      ...       \\\n",
       "0         TA-00001  2013                0                0      ...        \n",
       "1         TA-00001  2013                0                0      ...        \n",
       "2         TA-00001  2013                0                0      ...        \n",
       "3         TA-00001  2013                0                0      ...        \n",
       "4         TA-00001  2013                0                0      ...        \n",
       "\n",
       "   CP-022  CP-023  CP-024  CP-025  CP-026  CP-027  CP-028  CP-029  OTHER  \\\n",
       "0       0       0   0.024   0.072       0       0       0       0      0   \n",
       "1       0       0   0.024   0.072       0       0       0       0      0   \n",
       "2       0       0   0.024   0.072       0       0       0       0      0   \n",
       "3       0       0   0.024   0.072       0       0       0       0      0   \n",
       "4       0       0   0.024   0.072       0       0       0       0      0   \n",
       "\n",
       "    tube_volume  \n",
       "0  81697.336868  \n",
       "1  81697.336868  \n",
       "2  81697.336868  \n",
       "3  81697.336868  \n",
       "4  81697.336868  \n",
       "\n",
       "[5 rows x 265 columns]"
      ]
     },
     "execution_count": 73,
     "metadata": {},
     "output_type": "execute_result"
    }
   ],
   "source": [
    "kaggle_test_df.head()"
   ]
  },
  {
   "cell_type": "code",
   "execution_count": 84,
   "metadata": {
    "collapsed": true
   },
   "outputs": [],
   "source": [
    "kaggle_test = pd.read_csv('../test_dummies_adjusted.csv')\n",
    "kaggle_test_df = pd.merge(kaggle_test, tube)\n",
    "kaggle_test_df = pd.merge(kaggle_test_df, spec)\n",
    "kaggle_test_df = pd.merge(kaggle_test_df, comp_type_weight)\n",
    "kaggle_test_df = pd.merge(kaggle_test_df, tube_vol)\n",
    "kaggle_test_vals = kaggle_test_df.drop(['tube_assembly_id', 'quote_date', 'cost', 'id'], axis=1).values\n",
    "preds = np.expm1(rf.predict(kaggle_test_vals))"
   ]
  },
  {
   "cell_type": "code",
   "execution_count": 85,
   "metadata": {
    "collapsed": false
   },
   "outputs": [
    {
     "data": {
      "text/plain": [
       "array([ 28.62403488,  24.8836941 ,  20.91606194,  10.27019523,\n",
       "         8.71596676,   8.64892847,   8.61588627,   8.59260788,\n",
       "        28.59496226,  20.44210586])"
      ]
     },
     "execution_count": 85,
     "metadata": {},
     "output_type": "execute_result"
    }
   ],
   "source": [
    "preds[:10]"
   ]
  },
  {
   "cell_type": "code",
   "execution_count": null,
   "metadata": {
    "collapsed": true
   },
   "outputs": [],
   "source": []
  }
 ],
 "metadata": {
  "kernelspec": {
   "display_name": "Python 2",
   "language": "python",
   "name": "python2"
  },
  "language_info": {
   "codemirror_mode": {
    "name": "ipython",
    "version": 2
   },
   "file_extension": ".py",
   "mimetype": "text/x-python",
   "name": "python",
   "nbconvert_exporter": "python",
   "pygments_lexer": "ipython2",
   "version": "2.7.10"
  }
 },
 "nbformat": 4,
 "nbformat_minor": 0
}
