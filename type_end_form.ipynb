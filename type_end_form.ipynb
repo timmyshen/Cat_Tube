{
 "cells": [
  {
   "cell_type": "code",
   "execution_count": 1,
   "metadata": {
    "collapsed": false
   },
   "outputs": [
    {
     "name": "stdout",
     "output_type": "stream",
     "text": [
      "Populating the interactive namespace from numpy and matplotlib\n"
     ]
    }
   ],
   "source": [
    "%pylab inline\n",
    "import pandas as pd"
   ]
  },
  {
   "cell_type": "code",
   "execution_count": 2,
   "metadata": {
    "collapsed": true
   },
   "outputs": [],
   "source": [
    "type_end_form = pd.read_csv('./competition_data/type_end_form.csv')"
   ]
  },
  {
   "cell_type": "code",
   "execution_count": 3,
   "metadata": {
    "collapsed": false
   },
   "outputs": [
    {
     "name": "stdout",
     "output_type": "stream",
     "text": [
      "(8, 2)\n",
      "end_form_id    object\n",
      "name           object\n",
      "dtype: object\n",
      "  end_form_id               name\n",
      "0       A-001        Male (Stud)\n",
      "1       A-002      Male (Swivel)\n",
      "2       A-003    Braze-Weld Boss\n",
      "3       A-004  Braze-Weld Socket\n",
      "4       A-005         Swivel Nut\n",
      "5       A-006      Bulkhead Male\n",
      "6       A-007               Port\n",
      "7        9999              Other\n"
     ]
    }
   ],
   "source": [
    "print type_end_form.shape\n",
    "print type_end_form.dtypes\n",
    "print type_end_form"
   ]
  }
 ],
 "metadata": {
  "kernelspec": {
   "display_name": "Python 2",
   "language": "python",
   "name": "python2"
  },
  "language_info": {
   "codemirror_mode": {
    "name": "ipython",
    "version": 2
   },
   "file_extension": ".py",
   "mimetype": "text/x-python",
   "name": "python",
   "nbconvert_exporter": "python",
   "pygments_lexer": "ipython2",
   "version": "2.7.10"
  }
 },
 "nbformat": 4,
 "nbformat_minor": 0
}
