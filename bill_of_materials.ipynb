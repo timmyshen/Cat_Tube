{
 "cells": [
  {
   "cell_type": "code",
   "execution_count": 1,
   "metadata": {
    "collapsed": false
   },
   "outputs": [
    {
     "name": "stdout",
     "output_type": "stream",
     "text": [
      "Populating the interactive namespace from numpy and matplotlib\n"
     ]
    }
   ],
   "source": [
    "%pylab inline\n",
    "import pandas as pd"
   ]
  },
  {
   "cell_type": "code",
   "execution_count": 2,
   "metadata": {
    "collapsed": true
   },
   "outputs": [],
   "source": [
    "bill_of_materials = pd.read_csv('./competition_data/bill_of_materials.csv')"
   ]
  },
  {
   "cell_type": "code",
   "execution_count": 4,
   "metadata": {
    "collapsed": false
   },
   "outputs": [
    {
     "name": "stdout",
     "output_type": "stream",
     "text": [
      "(21198, 17)\n",
      "tube_assembly_id     object\n",
      "component_id_1       object\n",
      "quantity_1          float64\n",
      "component_id_2       object\n",
      "quantity_2          float64\n",
      "component_id_3       object\n",
      "quantity_3          float64\n",
      "component_id_4       object\n",
      "quantity_4          float64\n",
      "component_id_5       object\n",
      "quantity_5          float64\n",
      "component_id_6       object\n",
      "quantity_6          float64\n",
      "component_id_7       object\n",
      "quantity_7          float64\n",
      "component_id_8       object\n",
      "quantity_8          float64\n",
      "dtype: object\n",
      "  tube_assembly_id component_id_1  quantity_1 component_id_2  quantity_2  \\\n",
      "0         TA-00001         C-1622           2         C-1629           2   \n",
      "1         TA-00002         C-1312           2            NaN         NaN   \n",
      "2         TA-00003         C-1312           2            NaN         NaN   \n",
      "3         TA-00004         C-1312           2            NaN         NaN   \n",
      "4         TA-00005         C-1624           1         C-1631           1   \n",
      "\n",
      "  component_id_3  quantity_3 component_id_4  quantity_4 component_id_5  \\\n",
      "0            NaN         NaN            NaN         NaN            NaN   \n",
      "1            NaN         NaN            NaN         NaN            NaN   \n",
      "2            NaN         NaN            NaN         NaN            NaN   \n",
      "3            NaN         NaN            NaN         NaN            NaN   \n",
      "4         C-1641           1            NaN         NaN            NaN   \n",
      "\n",
      "   quantity_5 component_id_6  quantity_6 component_id_7  quantity_7  \\\n",
      "0         NaN            NaN         NaN            NaN         NaN   \n",
      "1         NaN            NaN         NaN            NaN         NaN   \n",
      "2         NaN            NaN         NaN            NaN         NaN   \n",
      "3         NaN            NaN         NaN            NaN         NaN   \n",
      "4         NaN            NaN         NaN            NaN         NaN   \n",
      "\n",
      "  component_id_8  quantity_8  \n",
      "0            NaN         NaN  \n",
      "1            NaN         NaN  \n",
      "2            NaN         NaN  \n",
      "3            NaN         NaN  \n",
      "4            NaN         NaN  \n"
     ]
    }
   ],
   "source": [
    "print bill_of_materials.shape\n",
    "print bill_of_materials.dtypes\n",
    "print bill_of_materials.head()"
   ]
  },
  {
   "cell_type": "code",
   "execution_count": null,
   "metadata": {
    "collapsed": true
   },
   "outputs": [],
   "source": []
  }
 ],
 "metadata": {
  "kernelspec": {
   "display_name": "Python 2",
   "language": "python",
   "name": "python2"
  },
  "language_info": {
   "codemirror_mode": {
    "name": "ipython",
    "version": 2
   },
   "file_extension": ".py",
   "mimetype": "text/x-python",
   "name": "python",
   "nbconvert_exporter": "python",
   "pygments_lexer": "ipython2",
   "version": "2.7.10"
  }
 },
 "nbformat": 4,
 "nbformat_minor": 0
}
