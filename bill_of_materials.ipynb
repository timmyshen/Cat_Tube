{
 "cells": [
  {
   "cell_type": "code",
   "execution_count": 1,
   "metadata": {
    "collapsed": false
   },
   "outputs": [
    {
     "name": "stdout",
     "output_type": "stream",
     "text": [
      "Populating the interactive namespace from numpy and matplotlib\n"
     ]
    }
   ],
   "source": [
    "%pylab inline\n",
    "import pandas as pd"
   ]
  },
  {
   "cell_type": "code",
   "execution_count": 20,
   "metadata": {
    "collapsed": true
   },
   "outputs": [],
   "source": [
    "bill_of_materials = pd.read_csv('./competition_data/bill_of_materials.csv')"
   ]
  },
  {
   "cell_type": "code",
   "execution_count": 21,
   "metadata": {
    "collapsed": false
   },
   "outputs": [
    {
     "name": "stdout",
     "output_type": "stream",
     "text": [
      "tube_assembly_id     object\n",
      "component_id_1       object\n",
      "quantity_1          float64\n",
      "component_id_2       object\n",
      "quantity_2          float64\n",
      "component_id_3       object\n",
      "quantity_3          float64\n",
      "component_id_4       object\n",
      "quantity_4          float64\n",
      "component_id_5       object\n",
      "quantity_5          float64\n",
      "component_id_6       object\n",
      "quantity_6          float64\n",
      "component_id_7       object\n",
      "quantity_7          float64\n",
      "component_id_8       object\n",
      "quantity_8          float64\n",
      "dtype: object\n"
     ]
    }
   ],
   "source": [
    "# print bill_of_materials.shape\n",
    "print bill_of_materials.dtypes\n",
    "# print bill_of_materials.head()"
   ]
  },
  {
   "cell_type": "code",
   "execution_count": 13,
   "metadata": {
    "collapsed": false
   },
   "outputs": [],
   "source": [
    "# bill_of_materials = bill_of_materials.ix[: ,0:3]"
   ]
  },
  {
   "cell_type": "code",
   "execution_count": 22,
   "metadata": {
    "collapsed": false
   },
   "outputs": [
    {
     "data": {
      "text/plain": [
       "Index([u'9999', u'C-0002', u'C-0004', u'C-0006', u'C-0007', u'C-0008',\n",
       "       u'C-0009', u'C-0010', u'C-0011', u'C-0012', \n",
       "       ...\n",
       "       u'C-2021', u'C-2022', u'C-2030', u'C-2038', u'C-2039', u'C-2040',\n",
       "       u'C-2041', u'C-2042', u'C-2043', u'C-2044'],\n",
       "      dtype='object', name=u'component_id_1', length=1079)"
      ]
     },
     "execution_count": 22,
     "metadata": {},
     "output_type": "execute_result"
    }
   ],
   "source": [
    "bill_of_materials1 = bill_of_materials.pivot(index='tube_assembly_id', columns='component_id_1', values='quantity_1')\n",
    "bill_of_materials1.drop([nan], axis=1, inplace=True)\n",
    "bill_of_materials1.columns"
   ]
  },
  {
   "cell_type": "code",
   "execution_count": 23,
   "metadata": {
    "collapsed": false
   },
   "outputs": [
    {
     "data": {
      "text/plain": [
       "Index([u'C-0001', u'C-0002', u'C-0003', u'C-0004', u'C-0008', u'C-0012',\n",
       "       u'C-0013', u'C-0014', u'C-0015', u'C-0016', \n",
       "       ...\n",
       "       u'C-2029', u'C-2030', u'C-2032', u'C-2033', u'C-2034', u'C-2036',\n",
       "       u'C-2037', u'C-2044', u'C-2045', u'C-2046'],\n",
       "      dtype='object', name=u'component_id_2', length=834)"
      ]
     },
     "execution_count": 23,
     "metadata": {},
     "output_type": "execute_result"
    }
   ],
   "source": [
    "bill_of_materials2 = bill_of_materials.pivot(index='tube_assembly_id', columns='component_id_2', values='quantity_2')\n",
    "bill_of_materials2.drop([nan], axis=1, inplace=True)\n",
    "bill_of_materials2.columns"
   ]
  },
  {
   "cell_type": "code",
   "execution_count": null,
   "metadata": {
    "collapsed": true
   },
   "outputs": [],
   "source": []
  }
 ],
 "metadata": {
  "kernelspec": {
   "display_name": "Python 2",
   "language": "python",
   "name": "python2"
  },
  "language_info": {
   "codemirror_mode": {
    "name": "ipython",
    "version": 2
   },
   "file_extension": ".py",
   "mimetype": "text/x-python",
   "name": "python",
   "nbconvert_exporter": "python",
   "pygments_lexer": "ipython2",
   "version": "2.7.8"
  }
 },
 "nbformat": 4,
 "nbformat_minor": 0
}
