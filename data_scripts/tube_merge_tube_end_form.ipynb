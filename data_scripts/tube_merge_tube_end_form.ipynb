{
 "cells": [
  {
   "cell_type": "code",
   "execution_count": null,
   "metadata": {
    "collapsed": false
   },
   "outputs": [],
   "source": [
    "%pylab inline\n",
    "import pandas as pd"
   ]
  },
  {
   "cell_type": "code",
   "execution_count": null,
   "metadata": {
    "collapsed": true
   },
   "outputs": [],
   "source": [
    "tube = pd.read_csv('../competition_data/tube.csv')\n",
    "tube_end_form = pd.read_csv('../competition_data/tube_end_form.csv')"
   ]
  },
  {
   "cell_type": "code",
   "execution_count": null,
   "metadata": {
    "collapsed": false
   },
   "outputs": [],
   "source": [
    "# print tube.head()"
   ]
  },
  {
   "cell_type": "code",
   "execution_count": null,
   "metadata": {
    "collapsed": false
   },
   "outputs": [],
   "source": [
    "# tube_end_form.head()"
   ]
  },
  {
   "cell_type": "code",
   "execution_count": null,
   "metadata": {
    "collapsed": false
   },
   "outputs": [],
   "source": [
    "tube_end_form = tube_end_form.append({'end_form_id' : 'NONE', 'forming' : 'No'} , ignore_index=True)"
   ]
  },
  {
   "cell_type": "code",
   "execution_count": null,
   "metadata": {
    "collapsed": true
   },
   "outputs": [],
   "source": [
    "tube_end_form_a = tube_end_form.copy()\n",
    "tube_end_form_a.columns = ['ef_id_a', 'forming_a']\n",
    "tube_end_form_x = tube_end_form.copy()\n",
    "tube_end_form_x.columns = ['ef_id_x', 'forming_x']"
   ]
  },
  {
   "cell_type": "code",
   "execution_count": null,
   "metadata": {
    "collapsed": false,
    "scrolled": true
   },
   "outputs": [],
   "source": [
    "tube_merge_end_form = pd.merge(tube, tube_end_form_a, how='left', left_on='end_a', right_on='ef_id_a')\n",
    "tube_merge_end_form = pd.merge(tube_merge_end_form, tube_end_form_x, how='left', left_on='end_x', right_on='ef_id_x')\n",
    "tube_merge_end_form.drop(['ef_id_a', 'ef_id_x'], axis=1, inplace=True)\n",
    "# tube_merge_end_form.tail(10)"
   ]
  },
  {
   "cell_type": "code",
   "execution_count": null,
   "metadata": {
    "collapsed": true
   },
   "outputs": [],
   "source": [
    "tube_merge_end_form.to_csv('tube_merge_end_form.csv', index=False)"
   ]
  }
 ],
 "metadata": {
  "kernelspec": {
   "display_name": "Python 2",
   "language": "python",
   "name": "python2"
  },
  "language_info": {
   "codemirror_mode": {
    "name": "ipython",
    "version": 2
   },
   "file_extension": ".py",
   "mimetype": "text/x-python",
   "name": "python",
   "nbconvert_exporter": "python",
   "pygments_lexer": "ipython2",
   "version": "2.7.8"
  }
 },
 "nbformat": 4,
 "nbformat_minor": 0
}
