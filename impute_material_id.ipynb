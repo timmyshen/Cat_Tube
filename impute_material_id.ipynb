{
 "cells": [
  {
   "cell_type": "code",
   "execution_count": 1,
   "metadata": {
    "collapsed": false
   },
   "outputs": [
    {
     "name": "stdout",
     "output_type": "stream",
     "text": [
      "Populating the interactive namespace from numpy and matplotlib\n"
     ]
    }
   ],
   "source": [
    "%pylab inline\n",
    "import pandas as pd\n",
    "from sklearn.neighbors import KNeighborsClassifier"
   ]
  },
  {
   "cell_type": "code",
   "execution_count": 2,
   "metadata": {
    "collapsed": true
   },
   "outputs": [],
   "source": [
    "tube = pd.read_csv('./competition_data/tube.csv')"
   ]
  },
  {
   "cell_type": "code",
   "execution_count": 3,
   "metadata": {
    "collapsed": false
   },
   "outputs": [
    {
     "name": "stdout",
     "output_type": "stream",
     "text": [
      "tube_assembly_id     object\n",
      "material_id          object\n",
      "diameter            float64\n",
      "wall                float64\n",
      "length              float64\n",
      "num_bends             int64\n",
      "bend_radius         float64\n",
      "end_a_1x             object\n",
      "end_a_2x             object\n",
      "end_x_1x             object\n",
      "end_x_2x             object\n",
      "end_a                object\n",
      "end_x                object\n",
      "num_boss              int64\n",
      "num_bracket           int64\n",
      "other                 int64\n",
      "dtype: object\n"
     ]
    }
   ],
   "source": [
    "print tube.dtypes"
   ]
  },
  {
   "cell_type": "code",
   "execution_count": 4,
   "metadata": {
    "collapsed": false
   },
   "outputs": [],
   "source": [
    "tube_isnull = tube.isnull()\n",
    "tube_isnull_row = tube_isnull.any(axis=1)\n",
    "# print tube_isnull_row.shape\n",
    "\n",
    "# print tube_isnull_row\n",
    "\n",
    "tube_train = tube[-tube_isnull_row]\n",
    "# tube_train_X = tube.drop(['material_id'], axis=1)\n",
    "tube_train_X = tube_train[['diameter', 'wall', 'length', 'num_bends', 'bend_radius',\\\n",
    "                     'num_boss', 'num_bracket', 'other']]\n",
    "tube_train_y = tube_train['material_id']\n",
    "\n",
    "tube_test = tube[tube_isnull_row]\n",
    "tube_test_X = tube_test[['diameter', 'wall', 'length', 'num_bends', 'bend_radius',\\\n",
    "                     'num_boss', 'num_bracket', 'other']]\n",
    "tube_test_y = tube_test['material_id']"
   ]
  },
  {
   "cell_type": "code",
   "execution_count": 5,
   "metadata": {
    "collapsed": false
   },
   "outputs": [],
   "source": [
    "# tube_test_y"
   ]
  },
  {
   "cell_type": "code",
   "execution_count": 6,
   "metadata": {
    "collapsed": false
   },
   "outputs": [
    {
     "name": "stdout",
     "output_type": "stream",
     "text": [
      "(20919, 16)\n",
      "(279, 16)\n"
     ]
    }
   ],
   "source": [
    "print tube_train.shape\n",
    "print tube_test.shape"
   ]
  },
  {
   "cell_type": "code",
   "execution_count": 7,
   "metadata": {
    "collapsed": true
   },
   "outputs": [],
   "source": [
    "knn5 = KNeighborsClassifier()"
   ]
  },
  {
   "cell_type": "code",
   "execution_count": 8,
   "metadata": {
    "collapsed": false
   },
   "outputs": [],
   "source": [
    "knn_fit = knn5.fit(tube_train_X, tube_train_y)"
   ]
  },
  {
   "cell_type": "code",
   "execution_count": 9,
   "metadata": {
    "collapsed": false
   },
   "outputs": [
    {
     "data": {
      "text/plain": [
       "{'algorithm': 'auto',\n",
       " 'leaf_size': 30,\n",
       " 'metric': 'minkowski',\n",
       " 'metric_params': None,\n",
       " 'n_neighbors': 5,\n",
       " 'p': 2,\n",
       " 'weights': 'uniform'}"
      ]
     },
     "execution_count": 9,
     "metadata": {},
     "output_type": "execute_result"
    }
   ],
   "source": [
    "knn_fit.get_params()"
   ]
  },
  {
   "cell_type": "code",
   "execution_count": 10,
   "metadata": {
    "collapsed": false
   },
   "outputs": [
    {
     "name": "stdout",
     "output_type": "stream",
     "text": [
      "['SP-0029' 'SP-0029' 'SP-0029' 'SP-0019' 'SP-0029' 'SP-0029' 'SP-0029'\n",
      " 'SP-0029' 'SP-0029' 'SP-0035' 'SP-0029' 'SP-0035' 'SP-0029' 'SP-0029'\n",
      " 'SP-0029' 'SP-0029' 'SP-0037' 'SP-0035' 'SP-0035' 'SP-0035' 'SP-0035'\n",
      " 'SP-0035' 'SP-0029' 'SP-0029' 'SP-0029' 'SP-0029' 'SP-0028' 'SP-0029'\n",
      " 'SP-0029' 'SP-0029' 'SP-0029' 'SP-0029' 'SP-0029' 'SP-0008' 'SP-0029'\n",
      " 'SP-0029' 'SP-0035' 'SP-0029' 'SP-0029' 'SP-0029' 'SP-0029' 'SP-0029'\n",
      " 'SP-0029' 'SP-0029' 'SP-0029' 'SP-0029' 'SP-0029' 'SP-0029' 'SP-0029'\n",
      " 'SP-0035' 'SP-0029' 'SP-0029' 'SP-0029' 'SP-0029' 'SP-0029' 'SP-0035'\n",
      " 'SP-0029' 'SP-0035' 'SP-0035' 'SP-0029' 'SP-0029' 'SP-0029' 'SP-0035'\n",
      " 'SP-0035' 'SP-0029' 'SP-0029' 'SP-0035' 'SP-0029' 'SP-0029' 'SP-0008'\n",
      " 'SP-0029' 'SP-0029' 'SP-0044' 'SP-0029' 'SP-0029' 'SP-0029' 'SP-0029'\n",
      " 'SP-0029' 'SP-0029' 'SP-0029' 'SP-0029' 'SP-0029' 'SP-0029' 'SP-0029'\n",
      " 'SP-0029' 'SP-0029' 'SP-0029' 'SP-0029' 'SP-0029' 'SP-0029' 'SP-0029'\n",
      " 'SP-0029' 'SP-0029' 'SP-0035' 'SP-0029' 'SP-0029' 'SP-0029' 'SP-0029'\n",
      " 'SP-0029' 'SP-0029' 'SP-0035' 'SP-0035' 'SP-0029' 'SP-0035' 'SP-0035'\n",
      " 'SP-0035' 'SP-0035' 'SP-0029' 'SP-0029' 'SP-0029' 'SP-0035' 'SP-0019'\n",
      " 'SP-0029' 'SP-0029' 'SP-0035' 'SP-0035' 'SP-0029' 'SP-0029' 'SP-0035'\n",
      " 'SP-0029' 'SP-0029' 'SP-0029' 'SP-0029' 'SP-0029' 'SP-0035' 'SP-0035'\n",
      " 'SP-0029' 'SP-0035' 'SP-0035' 'SP-0035' 'SP-0035' 'SP-0029' 'SP-0035'\n",
      " 'SP-0029' 'SP-0035' 'SP-0029' 'SP-0035' 'SP-0029' 'SP-0029' 'SP-0029'\n",
      " 'SP-0029' 'SP-0029' 'SP-0035' 'SP-0035' 'SP-0029' 'SP-0029' 'SP-0029'\n",
      " 'SP-0029' 'SP-0029' 'SP-0029' 'SP-0035' 'SP-0029' 'SP-0029' 'SP-0029'\n",
      " 'SP-0029' 'SP-0029' 'SP-0029' 'SP-0029' 'SP-0029' 'SP-0029' 'SP-0029'\n",
      " 'SP-0029' 'SP-0029' 'SP-0035' 'SP-0029' 'SP-0035' 'SP-0029' 'SP-0029'\n",
      " 'SP-0029' 'SP-0029' 'SP-0029' 'SP-0029' 'SP-0029' 'SP-0029' 'SP-0029'\n",
      " 'SP-0029' 'SP-0029' 'SP-0029' 'SP-0029' 'SP-0029' 'SP-0029' 'SP-0029'\n",
      " 'SP-0029' 'SP-0029' 'SP-0029' 'SP-0029' 'SP-0029' 'SP-0029' 'SP-0029'\n",
      " 'SP-0029' 'SP-0029' 'SP-0029' 'SP-0029' 'SP-0029' 'SP-0029' 'SP-0029'\n",
      " 'SP-0029' 'SP-0029' 'SP-0029' 'SP-0029' 'SP-0029' 'SP-0029' 'SP-0029'\n",
      " 'SP-0029' 'SP-0029' 'SP-0029' 'SP-0046' 'SP-0029' 'SP-0029' 'SP-0029'\n",
      " 'SP-0029' 'SP-0029' 'SP-0046' 'SP-0029' 'SP-0029' 'SP-0048' 'SP-0029'\n",
      " 'SP-0029' 'SP-0029' 'SP-0029' 'SP-0029' 'SP-0029' 'SP-0029' 'SP-0029'\n",
      " 'SP-0029' 'SP-0029' 'SP-0029' 'SP-0029' 'SP-0029' 'SP-0029' 'SP-0029'\n",
      " 'SP-0029' 'SP-0029' 'SP-0029' 'SP-0029' 'SP-0029' 'SP-0029' 'SP-0029'\n",
      " 'SP-0029' 'SP-0048' 'SP-0029' 'SP-0029' 'SP-0029' 'SP-0029' 'SP-0029'\n",
      " 'SP-0046' 'SP-0029' 'SP-0029' 'SP-0029' 'SP-0029' 'SP-0029' 'SP-0029'\n",
      " 'SP-0029' 'SP-0029' 'SP-0029' 'SP-0029' 'SP-0029' 'SP-0029' 'SP-0029'\n",
      " 'SP-0029' 'SP-0029' 'SP-0029' 'SP-0029' 'SP-0029' 'SP-0029' 'SP-0029'\n",
      " 'SP-0029' 'SP-0029' 'SP-0029' 'SP-0029' 'SP-0029' 'SP-0029' 'SP-0048'\n",
      " 'SP-0029' 'SP-0029' 'SP-0029' 'SP-0037' 'SP-0035' 'SP-0035']\n"
     ]
    }
   ],
   "source": [
    "material_pred = knn_fit.predict(tube_test_X)\n",
    "print material_pred"
   ]
  },
  {
   "cell_type": "code",
   "execution_count": 11,
   "metadata": {
    "collapsed": false
   },
   "outputs": [],
   "source": [
    "tube.ix[tube_isnull_row, 'material_id'] = material_pred"
   ]
  },
  {
   "cell_type": "code",
   "execution_count": 12,
   "metadata": {
    "collapsed": true
   },
   "outputs": [],
   "source": [
    "tube.to_csv('tube_material_id_imputed.csv', index=False)"
   ]
  },
  {
   "cell_type": "code",
   "execution_count": 16,
   "metadata": {
    "collapsed": false
   },
   "outputs": [
    {
     "data": {
      "text/plain": [
       "tube_assembly_id     object\n",
       "material_id          object\n",
       "diameter            float64\n",
       "wall                float64\n",
       "length              float64\n",
       "num_bends             int64\n",
       "bend_radius         float64\n",
       "end_a_1x             object\n",
       "end_a_2x             object\n",
       "end_x_1x             object\n",
       "end_x_2x             object\n",
       "end_a                object\n",
       "end_x                object\n",
       "num_boss              int64\n",
       "num_bracket           int64\n",
       "other                 int64\n",
       "dtype: object"
      ]
     },
     "execution_count": 16,
     "metadata": {},
     "output_type": "execute_result"
    }
   ],
   "source": [
    "tube.dtypes"
   ]
  },
  {
   "cell_type": "code",
   "execution_count": 17,
   "metadata": {
    "collapsed": true
   },
   "outputs": [],
   "source": [
    "tube_material_id_imputed_dummies = \\\n",
    "pd.get_dummies(tube, columns=['material_id', \\\n",
    "                              'end_a_1x', 'end_a_2x', \\\n",
    "                              'end_x_1x', 'end_x_2x', \\\n",
    "                              'end_a', 'end_x'])"
   ]
  },
  {
   "cell_type": "code",
   "execution_count": 22,
   "metadata": {
    "collapsed": false
   },
   "outputs": [
    {
     "data": {
      "text/plain": [
       "{'bend_radius': dtype('float64'),\n",
       " 'diameter': dtype('float64'),\n",
       " 'end_a_1x_N': dtype('float64'),\n",
       " 'end_a_1x_Y': dtype('float64'),\n",
       " 'end_a_2x_N': dtype('float64'),\n",
       " 'end_a_2x_Y': dtype('float64'),\n",
       " 'end_a_EF-001': dtype('float64'),\n",
       " 'end_a_EF-002': dtype('float64'),\n",
       " 'end_a_EF-003': dtype('float64'),\n",
       " 'end_a_EF-004': dtype('float64'),\n",
       " 'end_a_EF-005': dtype('float64'),\n",
       " 'end_a_EF-006': dtype('float64'),\n",
       " 'end_a_EF-007': dtype('float64'),\n",
       " 'end_a_EF-008': dtype('float64'),\n",
       " 'end_a_EF-009': dtype('float64'),\n",
       " 'end_a_EF-010': dtype('float64'),\n",
       " 'end_a_EF-011': dtype('float64'),\n",
       " 'end_a_EF-012': dtype('float64'),\n",
       " 'end_a_EF-013': dtype('float64'),\n",
       " 'end_a_EF-014': dtype('float64'),\n",
       " 'end_a_EF-015': dtype('float64'),\n",
       " 'end_a_EF-016': dtype('float64'),\n",
       " 'end_a_EF-017': dtype('float64'),\n",
       " 'end_a_EF-018': dtype('float64'),\n",
       " 'end_a_EF-019': dtype('float64'),\n",
       " 'end_a_EF-020': dtype('float64'),\n",
       " 'end_a_EF-021': dtype('float64'),\n",
       " 'end_a_EF-022': dtype('float64'),\n",
       " 'end_a_EF-023': dtype('float64'),\n",
       " 'end_a_EF-025': dtype('float64'),\n",
       " 'end_a_NONE': dtype('float64'),\n",
       " 'end_x_1x_N': dtype('float64'),\n",
       " 'end_x_1x_Y': dtype('float64'),\n",
       " 'end_x_2x_N': dtype('float64'),\n",
       " 'end_x_2x_Y': dtype('float64'),\n",
       " 'end_x_9999': dtype('float64'),\n",
       " 'end_x_EF-001': dtype('float64'),\n",
       " 'end_x_EF-002': dtype('float64'),\n",
       " 'end_x_EF-003': dtype('float64'),\n",
       " 'end_x_EF-004': dtype('float64'),\n",
       " 'end_x_EF-005': dtype('float64'),\n",
       " 'end_x_EF-006': dtype('float64'),\n",
       " 'end_x_EF-007': dtype('float64'),\n",
       " 'end_x_EF-008': dtype('float64'),\n",
       " 'end_x_EF-009': dtype('float64'),\n",
       " 'end_x_EF-010': dtype('float64'),\n",
       " 'end_x_EF-011': dtype('float64'),\n",
       " 'end_x_EF-012': dtype('float64'),\n",
       " 'end_x_EF-013': dtype('float64'),\n",
       " 'end_x_EF-014': dtype('float64'),\n",
       " 'end_x_EF-015': dtype('float64'),\n",
       " 'end_x_EF-016': dtype('float64'),\n",
       " 'end_x_EF-017': dtype('float64'),\n",
       " 'end_x_EF-018': dtype('float64'),\n",
       " 'end_x_EF-019': dtype('float64'),\n",
       " 'end_x_EF-021': dtype('float64'),\n",
       " 'end_x_EF-022': dtype('float64'),\n",
       " 'end_x_EF-023': dtype('float64'),\n",
       " 'end_x_EF-024': dtype('float64'),\n",
       " 'end_x_EF-025': dtype('float64'),\n",
       " 'end_x_EF-026': dtype('float64'),\n",
       " 'end_x_NONE': dtype('float64'),\n",
       " 'length': dtype('float64'),\n",
       " 'material_id_SP-0008': dtype('float64'),\n",
       " 'material_id_SP-0019': dtype('float64'),\n",
       " 'material_id_SP-0028': dtype('float64'),\n",
       " 'material_id_SP-0029': dtype('float64'),\n",
       " 'material_id_SP-0030': dtype('float64'),\n",
       " 'material_id_SP-0031': dtype('float64'),\n",
       " 'material_id_SP-0032': dtype('float64'),\n",
       " 'material_id_SP-0033': dtype('float64'),\n",
       " 'material_id_SP-0034': dtype('float64'),\n",
       " 'material_id_SP-0035': dtype('float64'),\n",
       " 'material_id_SP-0036': dtype('float64'),\n",
       " 'material_id_SP-0037': dtype('float64'),\n",
       " 'material_id_SP-0038': dtype('float64'),\n",
       " 'material_id_SP-0039': dtype('float64'),\n",
       " 'material_id_SP-0041': dtype('float64'),\n",
       " 'material_id_SP-0044': dtype('float64'),\n",
       " 'material_id_SP-0045': dtype('float64'),\n",
       " 'material_id_SP-0046': dtype('float64'),\n",
       " 'material_id_SP-0048': dtype('float64'),\n",
       " 'num_bends': dtype('int64'),\n",
       " 'num_boss': dtype('int64'),\n",
       " 'num_bracket': dtype('int64'),\n",
       " 'other': dtype('int64'),\n",
       " 'tube_assembly_id': dtype('O'),\n",
       " 'wall': dtype('float64')}"
      ]
     },
     "execution_count": 22,
     "metadata": {},
     "output_type": "execute_result"
    }
   ],
   "source": [
    "tube_material_id_imputed_dummies.dtypes.to_dict()"
   ]
  },
  {
   "cell_type": "code",
   "execution_count": 25,
   "metadata": {
    "collapsed": false
   },
   "outputs": [],
   "source": [
    "tube_material_id_imputed_dummies_drop_ns = \\\n",
    "tube_material_id_imputed_dummies.drop(['end_a_1x_N', 'end_a_2x_N', \\\n",
    "                                       'end_x_1x_N', 'end_x_2x_N'], axis=1)"
   ]
  },
  {
   "cell_type": "code",
   "execution_count": 27,
   "metadata": {
    "collapsed": true
   },
   "outputs": [],
   "source": [
    "tube_material_id_imputed_dummies_drop_ns.to_csv(\\\n",
    "                                                'tube_material_id_imputed_dummies_drop_ns.csv', \\\n",
    "                                                index=False)"
   ]
  },
  {
   "cell_type": "code",
   "execution_count": null,
   "metadata": {
    "collapsed": true
   },
   "outputs": [],
   "source": []
  }
 ],
 "metadata": {
  "kernelspec": {
   "display_name": "Python 2",
   "language": "python",
   "name": "python2"
  },
  "language_info": {
   "codemirror_mode": {
    "name": "ipython",
    "version": 2
   },
   "file_extension": ".py",
   "mimetype": "text/x-python",
   "name": "python",
   "nbconvert_exporter": "python",
   "pygments_lexer": "ipython2",
   "version": "2.7.10"
  }
 },
 "nbformat": 4,
 "nbformat_minor": 0
}
