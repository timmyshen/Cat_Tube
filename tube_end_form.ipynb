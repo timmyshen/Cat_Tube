{
 "cells": [
  {
   "cell_type": "code",
   "execution_count": 1,
   "metadata": {
    "collapsed": false
   },
   "outputs": [
    {
     "name": "stdout",
     "output_type": "stream",
     "text": [
      "Populating the interactive namespace from numpy and matplotlib\n"
     ]
    }
   ],
   "source": [
    "%pylab inline\n",
    "import pandas as pd"
   ]
  },
  {
   "cell_type": "code",
   "execution_count": 2,
   "metadata": {
    "collapsed": true
   },
   "outputs": [],
   "source": [
    "tube_end_form = pd.read_csv('./competition_data/tube_end_form.csv')"
   ]
  },
  {
   "cell_type": "code",
   "execution_count": 5,
   "metadata": {
    "collapsed": false
   },
   "outputs": [
    {
     "name": "stdout",
     "output_type": "stream",
     "text": [
      "(27, 2)\n",
      "end_form_id    object\n",
      "forming        object\n",
      "dtype: object\n",
      "   end_form_id forming\n",
      "0       EF-001     Yes\n",
      "1       EF-002      No\n",
      "2       EF-003      No\n",
      "3       EF-004      No\n",
      "4       EF-005     Yes\n",
      "5       EF-006     Yes\n",
      "6       EF-007     Yes\n",
      "7       EF-008     Yes\n",
      "8       EF-009     Yes\n",
      "9       EF-010     Yes\n",
      "10      EF-011      No\n",
      "11      EF-012      No\n",
      "12      EF-013     Yes\n",
      "13      EF-014     Yes\n",
      "14      EF-015      No\n",
      "15      EF-016     Yes\n",
      "16      EF-017     Yes\n",
      "17      EF-018     Yes\n",
      "18      EF-019     Yes\n",
      "19      EF-020      No\n",
      "20      EF-021      No\n",
      "21      EF-022     Yes\n",
      "22      EF-023      No\n",
      "23      EF-024      No\n",
      "24      EF-025      No\n",
      "25      EF-026      No\n",
      "26        9999      No\n"
     ]
    }
   ],
   "source": [
    "print tube_end_form.shape\n",
    "print tube_end_form.dtypes\n",
    "print tube_end_form"
   ]
  }
 ],
 "metadata": {
  "kernelspec": {
   "display_name": "Python 2",
   "language": "python",
   "name": "python2"
  },
  "language_info": {
   "codemirror_mode": {
    "name": "ipython",
    "version": 2
   },
   "file_extension": ".py",
   "mimetype": "text/x-python",
   "name": "python",
   "nbconvert_exporter": "python",
   "pygments_lexer": "ipython2",
   "version": "2.7.10"
  }
 },
 "nbformat": 4,
 "nbformat_minor": 0
}
