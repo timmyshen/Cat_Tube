{
 "cells": [
  {
   "cell_type": "code",
   "execution_count": 1,
   "metadata": {
    "collapsed": false
   },
   "outputs": [
    {
     "name": "stdout",
     "output_type": "stream",
     "text": [
      "Populating the interactive namespace from numpy and matplotlib\n"
     ]
    }
   ],
   "source": [
    "%pylab inline\n",
    "import pandas as pd"
   ]
  },
  {
   "cell_type": "code",
   "execution_count": 2,
   "metadata": {
    "collapsed": true
   },
   "outputs": [],
   "source": [
    "components = pd.read_csv('./competition_data/components.csv')"
   ]
  },
  {
   "cell_type": "code",
   "execution_count": 4,
   "metadata": {
    "collapsed": false
   },
   "outputs": [
    {
     "name": "stdout",
     "output_type": "stream",
     "text": [
      "(2048, 3)\n",
      "component_id         object\n",
      "name                 object\n",
      "component_type_id    object\n",
      "dtype: object\n",
      "  component_id             name component_type_id\n",
      "0         9999            OTHER             OTHER\n",
      "1       C-0001           SLEEVE            CP-024\n",
      "2       C-0002           SLEEVE            CP-024\n",
      "3       C-0003    SLEEVE-FLARED            CP-024\n",
      "4       C-0004              NUT            CP-026\n",
      "5       C-0005      ADAPTER-STR            CP-028\n",
      "6       C-0006      ADAPTER-STR            CP-028\n",
      "7       C-0007  CONNECTOR-FLARE            CP-014\n",
      "8       C-0008             BOSS            CP-018\n",
      "9       C-0009             BOSS            CP-018\n"
     ]
    }
   ],
   "source": [
    "print components.shape\n",
    "print components.dtypes\n",
    "print components.head(10)"
   ]
  }
 ],
 "metadata": {
  "kernelspec": {
   "display_name": "Python 2",
   "language": "python",
   "name": "python2"
  },
  "language_info": {
   "codemirror_mode": {
    "name": "ipython",
    "version": 2
   },
   "file_extension": ".py",
   "mimetype": "text/x-python",
   "name": "python",
   "nbconvert_exporter": "python",
   "pygments_lexer": "ipython2",
   "version": "2.7.10"
  }
 },
 "nbformat": 4,
 "nbformat_minor": 0
}
