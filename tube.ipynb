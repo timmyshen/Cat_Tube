{
 "cells": [
  {
   "cell_type": "markdown",
   "metadata": {},
   "source": [
    "#Analysis of tube.csv"
   ]
  },
  {
   "cell_type": "markdown",
   "metadata": {},
   "source": [
    "##Environment set up"
   ]
  },
  {
   "cell_type": "code",
   "execution_count": 1,
   "metadata": {
    "collapsed": false
   },
   "outputs": [
    {
     "name": "stdout",
     "output_type": "stream",
     "text": [
      "Populating the interactive namespace from numpy and matplotlib\n"
     ]
    }
   ],
   "source": [
    "%pylab inline\n",
    "import pandas as pd"
   ]
  },
  {
   "cell_type": "markdown",
   "metadata": {},
   "source": [
    "##Read in data file"
   ]
  },
  {
   "cell_type": "code",
   "execution_count": 2,
   "metadata": {
    "collapsed": true
   },
   "outputs": [],
   "source": [
    "tube = pd.read_csv('./competition_data/tube.csv')"
   ]
  },
  {
   "cell_type": "markdown",
   "metadata": {},
   "source": [
    "##Explore the data set"
   ]
  },
  {
   "cell_type": "code",
   "execution_count": 3,
   "metadata": {
    "collapsed": false
   },
   "outputs": [
    {
     "name": "stdout",
     "output_type": "stream",
     "text": [
      "(21198, 16)\n",
      "tube_assembly_id     object\n",
      "material_id          object\n",
      "diameter            float64\n",
      "wall                float64\n",
      "length              float64\n",
      "num_bends             int64\n",
      "bend_radius         float64\n",
      "end_a_1x             object\n",
      "end_a_2x             object\n",
      "end_x_1x             object\n",
      "end_x_2x             object\n",
      "end_a                object\n",
      "end_x                object\n",
      "num_boss              int64\n",
      "num_bracket           int64\n",
      "other                 int64\n",
      "dtype: object\n",
      "      tube_assembly_id material_id  diameter  wall  length  num_bends  \\\n",
      "9258          TA-09259     SP-0029      9.52  1.65      74          6   \n",
      "6255          TA-06256     SP-0028     25.40  1.65      32          2   \n",
      "5653          TA-05654     SP-0029     19.05  2.11      74          3   \n",
      "449           TA-00450     SP-0028     25.40  1.65      77          4   \n",
      "14694         TA-14695     SP-0029     63.50  1.65      45          0   \n",
      "19962         TA-19964     SP-0019      6.35  0.71      45          4   \n",
      "12335         TA-12336     SP-0029      9.52  1.24      86          4   \n",
      "15664         TA-15665     SP-0029      9.52  1.65      82          5   \n",
      "14435         TA-14436     SP-0029     19.05  2.11      50          2   \n",
      "15108         TA-15109     SP-0039      6.35  0.71     122          7   \n",
      "\n",
      "       bend_radius end_a_1x end_a_2x end_x_1x end_x_2x   end_a   end_x  \\\n",
      "9258         19.05        N        Y        N        N  EF-003  EF-003   \n",
      "6255         63.50        N        N        N        N  EF-009  EF-003   \n",
      "5653         38.10        N        N        N        N  EF-003  EF-003   \n",
      "449          50.80        N        N        N        N  EF-009  EF-009   \n",
      "14694         0.00        N        N        N        N  EF-009  EF-009   \n",
      "19962        19.05        N        N        N        N  EF-008  EF-008   \n",
      "12335        31.75        N        N        N        N  EF-003  EF-003   \n",
      "15664        31.75        N        N        N        N  EF-003  EF-003   \n",
      "14435        38.10        N        N        N        N  EF-003  EF-003   \n",
      "15108        19.05        N        N        N        N  EF-008  EF-008   \n",
      "\n",
      "       num_boss  num_bracket  other  \n",
      "9258          0            0      0  \n",
      "6255          0            0      0  \n",
      "5653          0            0      0  \n",
      "449           0            0      0  \n",
      "14694         0            0      0  \n",
      "19962         0            0      0  \n",
      "12335         0            0      0  \n",
      "15664         0            0      0  \n",
      "14435         0            0      0  \n",
      "15108         0            0      0  \n"
     ]
    }
   ],
   "source": [
    "print tube.shape\n",
    "print tube.dtypes\n",
    "print tube.sample(10, random_state=0)"
   ]
  },
  {
   "cell_type": "code",
   "execution_count": 37,
   "metadata": {
    "collapsed": false
   },
   "outputs": [
    {
     "name": "stdout",
     "output_type": "stream",
     "text": [
      "(21198,)\n",
      "     tube_assembly_id material_id  diameter  wall  length  num_bends  \\\n",
      "1701         TA-01702         NaN     17.48  2.41     115          3   \n",
      "2003         TA-02004         NaN     17.30  2.30      30          0   \n",
      "3359         TA-03360         NaN     19.05  2.11     151          4   \n",
      "3895         TA-03896         NaN      6.35  2.26      34          4   \n",
      "4011         TA-04012         NaN     15.88  1.65     182         10   \n",
      "\n",
      "      bend_radius end_a_1x end_a_2x end_x_1x end_x_2x   end_a   end_x  \\\n",
      "1701         63.5        N        N        N        N    NONE    NONE   \n",
      "2003          0.0        Y        Y        Y        Y  EF-023    NONE   \n",
      "3359         50.8        N        N        N        N  EF-003  EF-003   \n",
      "3895         25.4        N        N        N        N  EF-015  EF-015   \n",
      "4011         38.1        N        N        N        N  EF-003  EF-003   \n",
      "\n",
      "      num_boss  num_bracket  other  \n",
      "1701         0            0      0  \n",
      "2003         0            0      2  \n",
      "3359         0            0      0  \n",
      "3895         0            0      0  \n",
      "4011         0            0      0  \n"
     ]
    }
   ],
   "source": [
    "tube_isnull = tube.isnull()\n",
    "tube_isnull_row = tube_isnull.any(axis=1)\n",
    "print tube_isnull_row.shape\n",
    "print tube[tube_isnull_row].head()"
   ]
  },
  {
   "cell_type": "code",
   "execution_count": 30,
   "metadata": {
    "collapsed": false
   },
   "outputs": [
    {
     "name": "stdout",
     "output_type": "stream",
     "text": [
      "(0, 16)\n"
     ]
    }
   ],
   "source": [
    "tube_is_null = tube[tube.isnull()]\n",
    "print tube_is_null.shape"
   ]
  },
  {
   "cell_type": "code",
   "execution_count": 4,
   "metadata": {
    "collapsed": true
   },
   "outputs": [],
   "source": [
    "tube_ta_mat = tube[['tube_assembly_id', 'material_id']]"
   ]
  },
  {
   "cell_type": "code",
   "execution_count": 5,
   "metadata": {
    "collapsed": false
   },
   "outputs": [
    {
     "data": {
      "text/html": [
       "<div>\n",
       "<table border=\"1\" class=\"dataframe\">\n",
       "  <thead>\n",
       "    <tr style=\"text-align: right;\">\n",
       "      <th></th>\n",
       "      <th>tube_assembly_id</th>\n",
       "      <th>material_id</th>\n",
       "    </tr>\n",
       "  </thead>\n",
       "  <tbody>\n",
       "    <tr>\n",
       "      <th>0</th>\n",
       "      <td>TA-00001</td>\n",
       "      <td>SP-0035</td>\n",
       "    </tr>\n",
       "    <tr>\n",
       "      <th>1</th>\n",
       "      <td>TA-00002</td>\n",
       "      <td>SP-0019</td>\n",
       "    </tr>\n",
       "    <tr>\n",
       "      <th>2</th>\n",
       "      <td>TA-00003</td>\n",
       "      <td>SP-0019</td>\n",
       "    </tr>\n",
       "    <tr>\n",
       "      <th>3</th>\n",
       "      <td>TA-00004</td>\n",
       "      <td>SP-0019</td>\n",
       "    </tr>\n",
       "    <tr>\n",
       "      <th>4</th>\n",
       "      <td>TA-00005</td>\n",
       "      <td>SP-0029</td>\n",
       "    </tr>\n",
       "  </tbody>\n",
       "</table>\n",
       "</div>"
      ],
      "text/plain": [
       "  tube_assembly_id material_id\n",
       "0         TA-00001     SP-0035\n",
       "1         TA-00002     SP-0019\n",
       "2         TA-00003     SP-0019\n",
       "3         TA-00004     SP-0019\n",
       "4         TA-00005     SP-0029"
      ]
     },
     "execution_count": 5,
     "metadata": {},
     "output_type": "execute_result"
    }
   ],
   "source": [
    "tube_ta_mat.head()"
   ]
  },
  {
   "cell_type": "code",
   "execution_count": 15,
   "metadata": {
    "collapsed": false
   },
   "outputs": [
    {
     "name": "stdout",
     "output_type": "stream",
     "text": [
      "(279, 2)\n",
      "     tube_assembly_id material_id\n",
      "1701         TA-01702         NaN\n",
      "2003         TA-02004         NaN\n",
      "3359         TA-03360         NaN\n",
      "3895         TA-03896         NaN\n",
      "4011         TA-04012         NaN\n"
     ]
    }
   ],
   "source": [
    "ta_mat_nan = tube_ta_mat[tube_ta_mat.material_id.isnull()]\n",
    "print ta_mat_nan.shape\n",
    "print ta_mat_nan.head()"
   ]
  },
  {
   "cell_type": "code",
   "execution_count": 7,
   "metadata": {
    "collapsed": true
   },
   "outputs": [],
   "source": [
    "tube_dummies = pd.get_dummies(tube, columns=['material_id'])"
   ]
  },
  {
   "cell_type": "code",
   "execution_count": 9,
   "metadata": {
    "collapsed": false
   },
   "outputs": [
    {
     "name": "stdout",
     "output_type": "stream",
     "text": [
      "(21198, 34)\n",
      "Index([u'tube_assembly_id', u'diameter', u'wall', u'length', u'num_bends',\n",
      "       u'bend_radius', u'end_a_1x', u'end_a_2x', u'end_x_1x', u'end_x_2x',\n",
      "       u'end_a', u'end_x', u'num_boss', u'num_bracket', u'other',\n",
      "       u'material_id_SP-0008', u'material_id_SP-0019', u'material_id_SP-0028',\n",
      "       u'material_id_SP-0029', u'material_id_SP-0030', u'material_id_SP-0031',\n",
      "       u'material_id_SP-0032', u'material_id_SP-0033', u'material_id_SP-0034',\n",
      "       u'material_id_SP-0035', u'material_id_SP-0036', u'material_id_SP-0037',\n",
      "       u'material_id_SP-0038', u'material_id_SP-0039', u'material_id_SP-0041',\n",
      "       u'material_id_SP-0044', u'material_id_SP-0045', u'material_id_SP-0046',\n",
      "       u'material_id_SP-0048'],\n",
      "      dtype='object')\n",
      "  tube_assembly_id  diameter  wall  length  num_bends  bend_radius end_a_1x  \\\n",
      "0         TA-00001     12.70  1.65     164          5        38.10        N   \n",
      "1         TA-00002      6.35  0.71     137          8        19.05        N   \n",
      "2         TA-00003      6.35  0.71     127          7        19.05        N   \n",
      "3         TA-00004      6.35  0.71     137          9        19.05        N   \n",
      "4         TA-00005     19.05  1.24     109          4        50.80        N   \n",
      "\n",
      "  end_a_2x end_x_1x end_x_2x         ...          material_id_SP-0035  \\\n",
      "0        N        N        N         ...                            1   \n",
      "1        N        N        N         ...                            0   \n",
      "2        N        N        N         ...                            0   \n",
      "3        N        N        N         ...                            0   \n",
      "4        N        N        N         ...                            0   \n",
      "\n",
      "  material_id_SP-0036  material_id_SP-0037  material_id_SP-0038  \\\n",
      "0                   0                    0                    0   \n",
      "1                   0                    0                    0   \n",
      "2                   0                    0                    0   \n",
      "3                   0                    0                    0   \n",
      "4                   0                    0                    0   \n",
      "\n",
      "   material_id_SP-0039  material_id_SP-0041  material_id_SP-0044  \\\n",
      "0                    0                    0                    0   \n",
      "1                    0                    0                    0   \n",
      "2                    0                    0                    0   \n",
      "3                    0                    0                    0   \n",
      "4                    0                    0                    0   \n",
      "\n",
      "   material_id_SP-0045  material_id_SP-0046  material_id_SP-0048  \n",
      "0                    0                    0                    0  \n",
      "1                    0                    0                    0  \n",
      "2                    0                    0                    0  \n",
      "3                    0                    0                    0  \n",
      "4                    0                    0                    0  \n",
      "\n",
      "[5 rows x 34 columns]\n"
     ]
    }
   ],
   "source": [
    "print tube_dummies.shape\n",
    "print tube_dummies.columns\n",
    "print tube_dummies.head()"
   ]
  },
  {
   "cell_type": "code",
   "execution_count": null,
   "metadata": {
    "collapsed": true
   },
   "outputs": [],
   "source": []
  }
 ],
 "metadata": {
  "kernelspec": {
   "display_name": "Python 2",
   "language": "python",
   "name": "python2"
  },
  "language_info": {
   "codemirror_mode": {
    "name": "ipython",
    "version": 2
   },
   "file_extension": ".py",
   "mimetype": "text/x-python",
   "name": "python",
   "nbconvert_exporter": "python",
   "pygments_lexer": "ipython2",
   "version": "2.7.10"
  }
 },
 "nbformat": 4,
 "nbformat_minor": 0
}
