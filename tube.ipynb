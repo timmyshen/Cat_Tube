{
 "cells": [
  {
   "cell_type": "code",
   "execution_count": 1,
   "metadata": {
    "collapsed": false
   },
   "outputs": [
    {
     "name": "stdout",
     "output_type": "stream",
     "text": [
      "Populating the interactive namespace from numpy and matplotlib\n"
     ]
    }
   ],
   "source": [
    "%pylab inline\n",
    "import pandas as pd"
   ]
  },
  {
   "cell_type": "code",
   "execution_count": 2,
   "metadata": {
    "collapsed": true
   },
   "outputs": [],
   "source": [
    "tube_df = pd.read_csv('./competition_data/tube.csv')"
   ]
  },
  {
   "cell_type": "code",
   "execution_count": 3,
   "metadata": {
    "collapsed": false
   },
   "outputs": [
    {
     "name": "stdout",
     "output_type": "stream",
     "text": [
      "(21198, 16)\n",
      "tube_assembly_id     object\n",
      "material_id          object\n",
      "diameter            float64\n",
      "wall                float64\n",
      "length              float64\n",
      "num_bends             int64\n",
      "bend_radius         float64\n",
      "end_a_1x             object\n",
      "end_a_2x             object\n",
      "end_x_1x             object\n",
      "end_x_2x             object\n",
      "end_a                object\n",
      "end_x                object\n",
      "num_boss              int64\n",
      "num_bracket           int64\n",
      "other                 int64\n",
      "dtype: object\n",
      "      tube_assembly_id material_id  diameter  wall  length  num_bends  \\\n",
      "9258          TA-09259     SP-0029      9.52  1.65      74          6   \n",
      "6255          TA-06256     SP-0028     25.40  1.65      32          2   \n",
      "5653          TA-05654     SP-0029     19.05  2.11      74          3   \n",
      "449           TA-00450     SP-0028     25.40  1.65      77          4   \n",
      "14694         TA-14695     SP-0029     63.50  1.65      45          0   \n",
      "19962         TA-19964     SP-0019      6.35  0.71      45          4   \n",
      "12335         TA-12336     SP-0029      9.52  1.24      86          4   \n",
      "15664         TA-15665     SP-0029      9.52  1.65      82          5   \n",
      "14435         TA-14436     SP-0029     19.05  2.11      50          2   \n",
      "15108         TA-15109     SP-0039      6.35  0.71     122          7   \n",
      "\n",
      "       bend_radius end_a_1x end_a_2x end_x_1x end_x_2x   end_a   end_x  \\\n",
      "9258         19.05        N        Y        N        N  EF-003  EF-003   \n",
      "6255         63.50        N        N        N        N  EF-009  EF-003   \n",
      "5653         38.10        N        N        N        N  EF-003  EF-003   \n",
      "449          50.80        N        N        N        N  EF-009  EF-009   \n",
      "14694         0.00        N        N        N        N  EF-009  EF-009   \n",
      "19962        19.05        N        N        N        N  EF-008  EF-008   \n",
      "12335        31.75        N        N        N        N  EF-003  EF-003   \n",
      "15664        31.75        N        N        N        N  EF-003  EF-003   \n",
      "14435        38.10        N        N        N        N  EF-003  EF-003   \n",
      "15108        19.05        N        N        N        N  EF-008  EF-008   \n",
      "\n",
      "       num_boss  num_bracket  other  \n",
      "9258          0            0      0  \n",
      "6255          0            0      0  \n",
      "5653          0            0      0  \n",
      "449           0            0      0  \n",
      "14694         0            0      0  \n",
      "19962         0            0      0  \n",
      "12335         0            0      0  \n",
      "15664         0            0      0  \n",
      "14435         0            0      0  \n",
      "15108         0            0      0  \n"
     ]
    }
   ],
   "source": [
    "print tube_df.shape\n",
    "print tube_df.dtypes\n",
    "print tube_df.sample(10, random_state=0)"
   ]
  }
 ],
 "metadata": {
  "kernelspec": {
   "display_name": "Python 2",
   "language": "python",
   "name": "python2"
  },
  "language_info": {
   "codemirror_mode": {
    "name": "ipython",
    "version": 2
   },
   "file_extension": ".py",
   "mimetype": "text/x-python",
   "name": "python",
   "nbconvert_exporter": "python",
   "pygments_lexer": "ipython2",
   "version": "2.7.10"
  }
 },
 "nbformat": 4,
 "nbformat_minor": 0
}
