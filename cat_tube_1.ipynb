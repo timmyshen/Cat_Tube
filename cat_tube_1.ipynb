{
 "cells": [
  {
   "cell_type": "code",
   "execution_count": 1,
   "metadata": {
    "collapsed": false
   },
   "outputs": [
    {
     "name": "stdout",
     "output_type": "stream",
     "text": [
      "Populating the interactive namespace from numpy and matplotlib\n"
     ]
    }
   ],
   "source": [
    "%pylab inline\n",
    "import pandas as pd"
   ]
  },
  {
   "cell_type": "code",
   "execution_count": 3,
   "metadata": {
    "collapsed": false
   },
   "outputs": [],
   "source": [
    "components = pd.read_csv('./competition_data/components.csv')\n",
    "comp_adaptor = pd.read_csv('./competition_data/comp_adaptor.csv')\n",
    "comp_boss = pd.read_csv('./competition_data/comp_boss.csv')\n",
    "comp_elbow = pd.read_csv('./competition_data/comp_elbow.csv')\n",
    "comp_float = pd.read_csv('./competition_data/comp_float.csv')\n",
    "comp_hfl = pd.read_csv('./competition_data/comp_hfl.csv')\n",
    "comp_nut = pd.read_csv('./competition_data/comp_nut.csv')\n",
    "comp_other = pd.read_csv('./competition_data/comp_other.csv')\n",
    "comp_sleeve = pd.read_csv('./competition_data/comp_sleeve.csv')\n",
    "comp_straight = pd.read_csv('./competition_data/comp_straight.csv')\n",
    "comp_tee = pd.read_csv('./competition_data/comp_tee.csv')\n",
    "comp_threaded = pd.read_csv('./competition_data/comp_threaded.csv')\n",
    "comp_id_dict = components.set_index('component_id')['component_type_id'].to_dict()"
   ]
  },
  {
   "cell_type": "code",
   "execution_count": 58,
   "metadata": {
    "collapsed": false
   },
   "outputs": [
    {
     "name": "stdout",
     "output_type": "stream",
     "text": [
      "['OTHER' 'CP-024' 'CP-026' 'CP-028' 'CP-014' 'CP-018' 'CP-001' 'CP-008'\n",
      " 'CP-009' 'CP-002' 'CP-010' 'CP-021' 'CP-011' 'CP-015' 'CP-027' 'CP-003'\n",
      " 'CP-004' 'CP-005' 'CP-019' 'CP-025' 'CP-006' 'CP-016' 'CP-020' 'CP-012'\n",
      " 'CP-022' 'CP-007' 'CP-017' 'CP-023' 'CP-029']\n",
      "['CP-028' 'CP-029']\n",
      "['CP-018' 'CP-019' 'CP-020']\n",
      "['CP-008' 'CP-009' 'CP-010' 'CP-011' 'CP-012']\n",
      "['CP-021' 'CP-022']\n",
      "['CP-023']\n",
      "['CP-025' 'CP-026' 'CP-027']\n",
      "['CP-024']\n",
      "['CP-001' 'CP-002' 'CP-003' 'CP-004' 'CP-005' 'CP-006' 'CP-007']\n",
      "['OTHER']\n",
      "['CP-014' 'CP-015' 'CP-016' 'CP-017']\n",
      "Empty DataFrame\n",
      "Columns: [component_id, component_type_id, adaptor_angle, overall_length, end_form_id_1, connection_type_id_1, length_1, thread_size_1, thread_pitch_1, nominal_size_1, end_form_id_2, connection_type_id_2, length_2, thread_size_2, thread_pitch_2, nominal_size_2, hex_size, unique_feature, orientation, weight]\n",
      "Index: []\n"
     ]
    }
   ],
   "source": [
    "print components['component_type_id'].unique()\n",
    "print comp_adaptor['component_type_id'].unique()\n",
    "print comp_boss['component_type_id'].unique()\n",
    "print comp_elbow['component_type_id'].unique()\n",
    "print comp_float['component_type_id'].unique()\n",
    "print comp_hfl['component_type_id'].unique()\n",
    "print comp_nut['component_type_id'].unique()\n",
    "# comp_other does not contain component_type_id column\n",
    "print comp_sleeve['component_type_id'].unique()\n",
    "print comp_straight['component_type_id'].unique()\n",
    "print comp_tee['component_type_id'].unique()\n",
    "print comp_threaded['component_type_id'].unique()\n",
    "\n",
    "print comp_adaptor[comp_adaptor['component_id']=='9999']"
   ]
  },
  {
   "cell_type": "code",
   "execution_count": 23,
   "metadata": {
    "collapsed": false
   },
   "outputs": [],
   "source": [
    "bill_of_materials = pd.read_csv('./competition_data/bill_of_materials.csv')\n",
    "bill_of_materials.fillna(0,inplace=True)"
   ]
  },
  {
   "cell_type": "code",
   "execution_count": 24,
   "metadata": {
    "collapsed": false
   },
   "outputs": [
    {
     "name": "stdout",
     "output_type": "stream",
     "text": [
      "Index([u'tube_assembly_id', u'component_id_1', u'quantity_1',\n",
      "       u'component_id_2', u'quantity_2', u'component_id_3', u'quantity_3',\n",
      "       u'component_id_4', u'quantity_4', u'component_id_5', u'quantity_5',\n",
      "       u'component_id_6', u'quantity_6', u'component_id_7', u'quantity_7',\n",
      "       u'component_id_8', u'quantity_8'],\n",
      "      dtype='object')\n",
      "tube_assembly_id    TA-00002\n",
      "component_id_1        C-1312\n",
      "quantity_1                 2\n",
      "component_id_2             0\n",
      "quantity_2                 0\n",
      "component_id_3             0\n",
      "quantity_3                 0\n",
      "component_id_4             0\n",
      "quantity_4                 0\n",
      "component_id_5             0\n",
      "quantity_5                 0\n",
      "component_id_6             0\n",
      "quantity_6                 0\n",
      "component_id_7             0\n",
      "quantity_7                 0\n",
      "component_id_8             0\n",
      "quantity_8                 0\n",
      "Name: 1, dtype: object\n"
     ]
    }
   ],
   "source": [
    "print bill_of_materials.columns\n",
    "print bill_of_materials.ix[1,]"
   ]
  },
  {
   "cell_type": "code",
   "execution_count": 51,
   "metadata": {
    "collapsed": false
   },
   "outputs": [
    {
     "name": "stdout",
     "output_type": "stream",
     "text": [
      "  component_id   name component_type_id\n",
      "0         9999  OTHER             OTHER\n"
     ]
    }
   ],
   "source": [
    "comp_list = [comp_adaptor,comp_boss,comp_elbow,comp_float,comp_hfl,comp_nut,comp_other,\\\n",
    "            comp_sleeve,comp_straight,comp_tee,comp_threaded]\n",
    "comp_weight = pd.concat([pd.DataFrame(c,columns=['component_id','weight']) for c in comp_list])\n",
    "comp_id_weight = comp_weight.set_index('component_id')['weight'].to_dict()\n",
    "print comp_other[components['component_id']=='9999']"
   ]
  },
  {
   "cell_type": "code",
   "execution_count": 60,
   "metadata": {
    "collapsed": false
   },
   "outputs": [],
   "source": [
    "tube_assembly_comp = pd.DataFrame()\n",
    "tube_assembly_comp['tube_assembly_id'] = bill_of_materials['tube_assembly_id']\n",
    "tube_assembly_comp['comp_quant'] = bill_of_materials['quantity_1']+bill_of_materials['quantity_2']+\\\n",
    "bill_of_materials['quantity_3']+bill_of_materials['quantity_4']+bill_of_materials['quantity_5']+\\\n",
    "bill_of_materials['quantity_6']+bill_of_materials['quantity_7']+bill_of_materials['quantity_8']\n",
    "comp_id_weight[0] = 0\n",
    "# cannot find component_id == '9999' in comp table\n",
    "# but '9999' can be found in component table\n",
    "comp_id_weight['9999'] = 0\n",
    "def f(s):\n",
    "    weight = []\n",
    "    for i in range(1,9):\n",
    "        weight.append(float(comp_id_weight[s['component_id_'+str(i)]]) * s['quantity_'+str(i)])\n",
    "    return sum(weight)\n",
    "tube_assembly_comp['weight'] = bill_of_materials.apply(f,axis=1)\n"
   ]
  },
  {
   "cell_type": "code",
   "execution_count": 61,
   "metadata": {
    "collapsed": false
   },
   "outputs": [
    {
     "data": {
      "text/plain": [
       "<matplotlib.axes._subplots.AxesSubplot at 0x7f8d71a2e9d0>"
      ]
     },
     "execution_count": 61,
     "metadata": {},
     "output_type": "execute_result"
    },
    {
     "data": {
      "image/png": "[encoded data removed]",
      "text/plain": [
       "<matplotlib.figure.Figure at 0x7f8d72185890>"
      ]
     },
     "metadata": {},
     "output_type": "display_data"
    }
   ],
   "source": [
    "tube_assembly_comp.plot()"
   ]
  },
  {
   "cell_type": "code",
   "execution_count": 78,
   "metadata": {
    "collapsed": false
   },
   "outputs": [],
   "source": [
    "train_df = pd.read_csv('./competition_data/train_set.csv', parse_dates=['quote_date'])\n",
    "train_df_weight_quant = train_df.set_index('tube_assembly_id').join(tube_assembly_comp.set_index('tube_assembly_id'))"
   ]
  },
  {
   "cell_type": "code",
   "execution_count": 84,
   "metadata": {
    "collapsed": false
   },
   "outputs": [
    {
     "data": {
      "text/plain": [
       "<matplotlib.collections.PathCollection at 0x7f8d71c377d0>"
      ]
     },
     "execution_count": 84,
     "metadata": {},
     "output_type": "execute_result"
    },
    {
     "data": {
      "image/png": "[encoded data removed]",
      "text/plain": [
       "<matplotlib.figure.Figure at 0x7f8d722fe090>"
      ]
     },
     "metadata": {},
     "output_type": "display_data"
    }
   ],
   "source": [
    "x_weight = train_df_weight_quant[train_df_weight_quant['quantity']==1]['weight']\n",
    "y = train_df_weight_quant[train_df_weight_quant['quantity']==1]['cost']\n",
    "plt.subplot(2,1,1)\n",
    "plt.scatter(x_weight,y)\n",
    "x_quant = train_df_weight_quant[train_df_weight_quant['quantity']==1]['comp_quant']\n",
    "plt.subplot(2,1,2)\n",
    "plt.scatter(x_quant,y)"
   ]
  },
  {
   "cell_type": "code",
   "execution_count": 85,
   "metadata": {
    "collapsed": false
   },
   "outputs": [
    {
     "name": "stdout",
     "output_type": "stream",
     "text": [
      "                            OLS Regression Results                            \n",
      "==============================================================================\n",
      "Dep. Variable:                   cost   R-squared:                       0.199\n",
      "Model:                            OLS   Adj. R-squared:                  0.199\n",
      "Method:                 Least Squares   F-statistic:                     3730.\n",
      "Date:                Thu, 09 Jul 2015   Prob (F-statistic):               0.00\n",
      "Time:                        22:09:31   Log-Likelihood:            -1.4042e+05\n",
      "No. Observations:               30109   AIC:                         2.809e+05\n",
      "Df Residuals:                   30106   BIC:                         2.809e+05\n",
      "Df Model:                           2                                         \n",
      "Covariance Type:            nonrobust                                         \n",
      "==============================================================================\n",
      "                 coef    std err          t      P>|t|      [95.0% Conf. Int.]\n",
      "------------------------------------------------------------------------------\n",
      "Intercept     12.0728      0.175     69.033      0.000        11.730    12.416\n",
      "weight        18.8433      0.234     80.508      0.000        18.385    19.302\n",
      "quantity      -0.0572      0.002    -27.369      0.000        -0.061    -0.053\n",
      "==============================================================================\n",
      "Omnibus:                    54066.536   Durbin-Watson:                   1.281\n",
      "Prob(Omnibus):                  0.000   Jarque-Bera (JB):        114022207.714\n",
      "Skew:                          12.928   Prob(JB):                         0.00\n",
      "Kurtosis:                     303.365   Cond. No.                         133.\n",
      "==============================================================================\n",
      "\n",
      "Warnings:\n",
      "[1] Standard Errors assume that the covariance matrix of the errors is correctly specified.\n"
     ]
    }
   ],
   "source": [
    "import statsmodels.formula.api as sm\n",
    "result = sm.ols(formula=\"cost ~ weight + quantity\", data=train_df_weight_quant).fit()\n",
    "print result.summary()"
   ]
  },
  {
   "cell_type": "code",
   "execution_count": null,
   "metadata": {
    "collapsed": true
   },
   "outputs": [],
   "source": []
  }
 ],
 "metadata": {
  "kernelspec": {
   "display_name": "Python 2",
   "language": "python",
   "name": "python2"
  },
  "language_info": {
   "codemirror_mode": {
    "name": "ipython",
    "version": 2
   },
   "file_extension": ".py",
   "mimetype": "text/x-python",
   "name": "python",
   "nbconvert_exporter": "python",
   "pygments_lexer": "ipython2",
   "version": "2.7.10"
  }
 },
 "nbformat": 4,
 "nbformat_minor": 0
}
