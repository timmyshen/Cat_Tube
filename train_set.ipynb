{
 "cells": [
  {
   "cell_type": "code",
   "execution_count": 1,
   "metadata": {
    "collapsed": false
   },
   "outputs": [
    {
     "name": "stdout",
     "output_type": "stream",
     "text": [
      "Populating the interactive namespace from numpy and matplotlib\n"
     ]
    }
   ],
   "source": [
    "%pylab inline\n",
    "import pandas as pd"
   ]
  },
  {
   "cell_type": "code",
   "execution_count": 2,
   "metadata": {
    "collapsed": true
   },
   "outputs": [],
   "source": [
    "train_set = pd.read_csv('./competition_data/train_set.csv')"
   ]
  },
  {
   "cell_type": "code",
   "execution_count": 6,
   "metadata": {
    "collapsed": false
   },
   "outputs": [
    {
     "name": "stdout",
     "output_type": "stream",
     "text": [
      "(30213, 8)\n",
      "tube_assembly_id       object\n",
      "supplier               object\n",
      "quote_date             object\n",
      "annual_usage            int64\n",
      "min_order_quantity      int64\n",
      "bracket_pricing        object\n",
      "quantity                int64\n",
      "cost                  float64\n",
      "dtype: object\n",
      "      tube_assembly_id supplier  quote_date  annual_usage  min_order_quantity  \\\n",
      "9730          TA-05679   S-0066  2013-08-04             0                   0   \n",
      "7442          TA-04183   S-0066  2013-10-01             0                   0   \n",
      "19179         TA-13388   S-0054  2009-05-26             1                   0   \n",
      "9565          TA-05576   S-0072  2002-08-30            88                   1   \n",
      "718           TA-00338   S-0066  2013-07-01             0                   0   \n",
      "14127         TA-08815   S-0058  2008-12-01           129                  35   \n",
      "252           TA-00108   S-0066  2013-10-01             0                   0   \n",
      "990           TA-00497   S-0066  2013-09-01             0                   0   \n",
      "19822         TA-14032   S-0041  2013-08-05             1                  20   \n",
      "26509         TA-19805   S-0066  2013-08-01             0                   0   \n",
      "\n",
      "      bracket_pricing  quantity       cost  \n",
      "9730              Yes         1  28.616259  \n",
      "7442              Yes       100   6.279107  \n",
      "19179             Yes         1  20.078120  \n",
      "9565               No         1   4.434602  \n",
      "718               Yes        10   4.609872  \n",
      "14127              No        35   6.167825  \n",
      "252               Yes       100  11.178313  \n",
      "990               Yes         5   9.178013  \n",
      "19822              No        20   6.732583  \n",
      "26509             Yes         1  21.513663  \n"
     ]
    }
   ],
   "source": [
    "print train_set.shape\n",
    "print train_set.dtypes\n",
    "print train_set.sample(10, random_state=0)"
   ]
  },
  {
   "cell_type": "code",
   "execution_count": 4,
   "metadata": {
    "collapsed": false
   },
   "outputs": [
    {
     "data": {
      "text/html": [
       "<div>\n",
       "<table border=\"1\" class=\"dataframe\">\n",
       "  <thead>\n",
       "    <tr style=\"text-align: right;\">\n",
       "      <th></th>\n",
       "      <th>tube_assembly_id</th>\n",
       "      <th>supplier</th>\n",
       "      <th>quote_date</th>\n",
       "      <th>annual_usage</th>\n",
       "      <th>min_order_quantity</th>\n",
       "      <th>quantity</th>\n",
       "      <th>cost</th>\n",
       "    </tr>\n",
       "    <tr>\n",
       "      <th>bracket_pricing</th>\n",
       "      <th></th>\n",
       "      <th></th>\n",
       "      <th></th>\n",
       "      <th></th>\n",
       "      <th></th>\n",
       "      <th></th>\n",
       "      <th></th>\n",
       "    </tr>\n",
       "  </thead>\n",
       "  <tbody>\n",
       "    <tr>\n",
       "      <th>No</th>\n",
       "      <td>3930</td>\n",
       "      <td>3930</td>\n",
       "      <td>3930</td>\n",
       "      <td>3930</td>\n",
       "      <td>3930</td>\n",
       "      <td>3930</td>\n",
       "      <td>3930</td>\n",
       "    </tr>\n",
       "    <tr>\n",
       "      <th>Yes</th>\n",
       "      <td>26283</td>\n",
       "      <td>26283</td>\n",
       "      <td>26283</td>\n",
       "      <td>26283</td>\n",
       "      <td>26283</td>\n",
       "      <td>26283</td>\n",
       "      <td>26283</td>\n",
       "    </tr>\n",
       "  </tbody>\n",
       "</table>\n",
       "</div>"
      ],
      "text/plain": [
       "                 tube_assembly_id  supplier  quote_date  annual_usage  \\\n",
       "bracket_pricing                                                         \n",
       "No                           3930      3930        3930          3930   \n",
       "Yes                         26283     26283       26283         26283   \n",
       "\n",
       "                 min_order_quantity  quantity   cost  \n",
       "bracket_pricing                                       \n",
       "No                             3930      3930   3930  \n",
       "Yes                           26283     26283  26283  "
      ]
     },
     "execution_count": 4,
     "metadata": {},
     "output_type": "execute_result"
    }
   ],
   "source": [
    "train_set.groupby('bracket_pricing').count()"
   ]
  },
  {
   "cell_type": "code",
   "execution_count": 4,
   "metadata": {
    "collapsed": true
   },
   "outputs": [],
   "source": [
    "train_set_supplier_dummies = pd.get_dummies(train_set, columns=['supplier'])"
   ]
  },
  {
   "cell_type": "code",
   "execution_count": 6,
   "metadata": {
    "collapsed": true
   },
   "outputs": [],
   "source": [
    "train_set_supplier_dummies.to_csv('train_set_supplier_dummies.csv', index=False)"
   ]
  },
  {
   "cell_type": "code",
   "execution_count": 9,
   "metadata": {
    "collapsed": false
   },
   "outputs": [],
   "source": [
    "train_set_no_date = train_set.drop(['quote_date'], axis=1)"
   ]
  },
  {
   "cell_type": "code",
   "execution_count": 10,
   "metadata": {
    "collapsed": true
   },
   "outputs": [],
   "source": [
    "train_set_no_date_dummies = pd.get_dummies(train_set_no_date, columns=['supplier', 'bracket_pricing'])"
   ]
  },
  {
   "cell_type": "code",
   "execution_count": 12,
   "metadata": {
    "collapsed": false
   },
   "outputs": [],
   "source": [
    "train_set_no_date_dummies_drop_bracket_n = \\\n",
    "train_set_no_date_dummies.drop(['bracket_pricing_No'], axis=1)"
   ]
  },
  {
   "cell_type": "code",
   "execution_count": 14,
   "metadata": {
    "collapsed": true
   },
   "outputs": [],
   "source": [
    "train_set_no_date_dummies_drop_bracket_n.to_csv('train_set_no_date_dummies_drop_bracket_n.csv', index=False)"
   ]
  },
  {
   "cell_type": "code",
   "execution_count": null,
   "metadata": {
    "collapsed": true
   },
   "outputs": [],
   "source": []
  }
 ],
 "metadata": {
  "kernelspec": {
   "display_name": "Python 2",
   "language": "python",
   "name": "python2"
  },
  "language_info": {
   "codemirror_mode": {
    "name": "ipython",
    "version": 2
   },
   "file_extension": ".py",
   "mimetype": "text/x-python",
   "name": "python",
   "nbconvert_exporter": "python",
   "pygments_lexer": "ipython2",
   "version": "2.7.10"
  }
 },
 "nbformat": 4,
 "nbformat_minor": 0
}
