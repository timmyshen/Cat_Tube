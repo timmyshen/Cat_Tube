{
 "cells": [
  {
   "cell_type": "code",
   "execution_count": 1,
   "metadata": {
    "collapsed": false
   },
   "outputs": [
    {
     "name": "stdout",
     "output_type": "stream",
     "text": [
      "Populating the interactive namespace from numpy and matplotlib\n"
     ]
    }
   ],
   "source": [
    "%pylab inline\n",
    "import pandas as pd"
   ]
  },
  {
   "cell_type": "code",
   "execution_count": 2,
   "metadata": {
    "collapsed": true
   },
   "outputs": [],
   "source": [
    "train_set = pd.read_csv('./competition_data/train_set.csv')"
   ]
  },
  {
   "cell_type": "code",
   "execution_count": 3,
   "metadata": {
    "collapsed": false
   },
   "outputs": [
    {
     "name": "stdout",
     "output_type": "stream",
     "text": [
      "(30213, 8)\n",
      "  tube_assembly_id supplier  quote_date  annual_usage  min_order_quantity  \\\n",
      "0         TA-00002   S-0066  2013-07-07             0                   0   \n",
      "1         TA-00002   S-0066  2013-07-07             0                   0   \n",
      "2         TA-00002   S-0066  2013-07-07             0                   0   \n",
      "3         TA-00002   S-0066  2013-07-07             0                   0   \n",
      "4         TA-00002   S-0066  2013-07-07             0                   0   \n",
      "\n",
      "  bracket_pricing  quantity       cost  \n",
      "0             Yes         1  21.905933  \n",
      "1             Yes         2  12.341214  \n",
      "2             Yes         5   6.601826  \n",
      "3             Yes        10   4.687770  \n",
      "4             Yes        25   3.541561  \n"
     ]
    }
   ],
   "source": [
    "print train_set.shape\n",
    "print train_set.head()"
   ]
  },
  {
   "cell_type": "code",
   "execution_count": 4,
   "metadata": {
    "collapsed": true
   },
   "outputs": [],
   "source": [
    "train_set_supplier_dummies = pd.get_dummies(train_set, columns=['supplier'])"
   ]
  },
  {
   "cell_type": "code",
   "execution_count": 6,
   "metadata": {
    "collapsed": true
   },
   "outputs": [],
   "source": [
    "train_set_supplier_dummies.to_csv('train_set_supplier_dummies.csv', index=False)"
   ]
  },
  {
   "cell_type": "code",
   "execution_count": null,
   "metadata": {
    "collapsed": true
   },
   "outputs": [],
   "source": []
  }
 ],
 "metadata": {
  "kernelspec": {
   "display_name": "Python 2",
   "language": "python",
   "name": "python2"
  },
  "language_info": {
   "codemirror_mode": {
    "name": "ipython",
    "version": 2
   },
   "file_extension": ".py",
   "mimetype": "text/x-python",
   "name": "python",
   "nbconvert_exporter": "python",
   "pygments_lexer": "ipython2",
   "version": "2.7.10"
  }
 },
 "nbformat": 4,
 "nbformat_minor": 0
}
