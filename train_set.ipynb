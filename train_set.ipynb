{
 "cells": [
  {
   "cell_type": "code",
   "execution_count": 1,
   "metadata": {
    "collapsed": false
   },
   "outputs": [
    {
     "name": "stdout",
     "output_type": "stream",
     "text": [
      "Populating the interactive namespace from numpy and matplotlib\n"
     ]
    }
   ],
   "source": [
    "%pylab inline\n",
    "import pandas as pd"
   ]
  },
  {
   "cell_type": "code",
   "execution_count": 2,
   "metadata": {
    "collapsed": true
   },
   "outputs": [],
   "source": [
    "train_set = pd.read_csv('./competition_data/train_set.csv', parse_dates=['quote_date'])"
   ]
  },
  {
   "cell_type": "code",
   "execution_count": 3,
   "metadata": {
    "collapsed": false
   },
   "outputs": [
    {
     "name": "stdout",
     "output_type": "stream",
     "text": [
      "(30213, 8)\n",
      "tube_assembly_id              object\n",
      "supplier                      object\n",
      "quote_date            datetime64[ns]\n",
      "annual_usage                   int64\n",
      "min_order_quantity             int64\n",
      "bracket_pricing               object\n",
      "quantity                       int64\n",
      "cost                         float64\n",
      "dtype: object\n",
      "      tube_assembly_id supplier quote_date  annual_usage  min_order_quantity  \\\n",
      "9730          TA-05679   S-0066 2013-08-04             0                   0   \n",
      "7442          TA-04183   S-0066 2013-10-01             0                   0   \n",
      "19179         TA-13388   S-0054 2009-05-26             1                   0   \n",
      "9565          TA-05576   S-0072 2002-08-30            88                   1   \n",
      "718           TA-00338   S-0066 2013-07-01             0                   0   \n",
      "14127         TA-08815   S-0058 2008-12-01           129                  35   \n",
      "252           TA-00108   S-0066 2013-10-01             0                   0   \n",
      "990           TA-00497   S-0066 2013-09-01             0                   0   \n",
      "19822         TA-14032   S-0041 2013-08-05             1                  20   \n",
      "26509         TA-19805   S-0066 2013-08-01             0                   0   \n",
      "\n",
      "      bracket_pricing  quantity       cost  \n",
      "9730              Yes         1  28.616259  \n",
      "7442              Yes       100   6.279107  \n",
      "19179             Yes         1  20.078120  \n",
      "9565               No         1   4.434602  \n",
      "718               Yes        10   4.609872  \n",
      "14127              No        35   6.167825  \n",
      "252               Yes       100  11.178313  \n",
      "990               Yes         5   9.178013  \n",
      "19822              No        20   6.732583  \n",
      "26509             Yes         1  21.513663  \n"
     ]
    }
   ],
   "source": [
    "print train_set.shape\n",
    "print train_set.dtypes\n",
    "print train_set.sample(10, random_state=0)"
   ]
  },
  {
   "cell_type": "code",
   "execution_count": 4,
   "metadata": {
    "collapsed": false
   },
   "outputs": [
    {
     "data": {
      "text/html": [
       "<div>\n",
       "<table border=\"1\" class=\"dataframe\">\n",
       "  <thead>\n",
       "    <tr style=\"text-align: right;\">\n",
       "      <th></th>\n",
       "      <th>tube_assembly_id</th>\n",
       "      <th>supplier</th>\n",
       "      <th>quote_date</th>\n",
       "      <th>annual_usage</th>\n",
       "      <th>min_order_quantity</th>\n",
       "      <th>quantity</th>\n",
       "      <th>cost</th>\n",
       "    </tr>\n",
       "    <tr>\n",
       "      <th>bracket_pricing</th>\n",
       "      <th></th>\n",
       "      <th></th>\n",
       "      <th></th>\n",
       "      <th></th>\n",
       "      <th></th>\n",
       "      <th></th>\n",
       "      <th></th>\n",
       "    </tr>\n",
       "  </thead>\n",
       "  <tbody>\n",
       "    <tr>\n",
       "      <th>No</th>\n",
       "      <td>3930</td>\n",
       "      <td>3930</td>\n",
       "      <td>3930</td>\n",
       "      <td>3930</td>\n",
       "      <td>3930</td>\n",
       "      <td>3930</td>\n",
       "      <td>3930</td>\n",
       "    </tr>\n",
       "    <tr>\n",
       "      <th>Yes</th>\n",
       "      <td>26283</td>\n",
       "      <td>26283</td>\n",
       "      <td>26283</td>\n",
       "      <td>26283</td>\n",
       "      <td>26283</td>\n",
       "      <td>26283</td>\n",
       "      <td>26283</td>\n",
       "    </tr>\n",
       "  </tbody>\n",
       "</table>\n",
       "</div>"
      ],
      "text/plain": [
       "                 tube_assembly_id  supplier  quote_date  annual_usage  \\\n",
       "bracket_pricing                                                         \n",
       "No                           3930      3930        3930          3930   \n",
       "Yes                         26283     26283       26283         26283   \n",
       "\n",
       "                 min_order_quantity  quantity   cost  \n",
       "bracket_pricing                                       \n",
       "No                             3930      3930   3930  \n",
       "Yes                           26283     26283  26283  "
      ]
     },
     "execution_count": 4,
     "metadata": {},
     "output_type": "execute_result"
    }
   ],
   "source": [
    "train_set.groupby('bracket_pricing').count()"
   ]
  },
  {
   "cell_type": "code",
   "execution_count": 8,
   "metadata": {
    "collapsed": true
   },
   "outputs": [],
   "source": [
    "train_set['year'] = train_set.quote_date.apply(lambda x : x.year)\n",
    "train_set['quantity_rep'] = train_set.quantity.apply(lambda x : 1.0 / x)"
   ]
  },
  {
   "cell_type": "code",
   "execution_count": 9,
   "metadata": {
    "collapsed": false
   },
   "outputs": [
    {
     "data": {
      "text/html": [
       "<div>\n",
       "<table border=\"1\" class=\"dataframe\">\n",
       "  <thead>\n",
       "    <tr style=\"text-align: right;\">\n",
       "      <th></th>\n",
       "      <th>tube_assembly_id</th>\n",
       "      <th>supplier</th>\n",
       "      <th>quote_date</th>\n",
       "      <th>annual_usage</th>\n",
       "      <th>min_order_quantity</th>\n",
       "      <th>bracket_pricing</th>\n",
       "      <th>quantity</th>\n",
       "      <th>cost</th>\n",
       "      <th>year</th>\n",
       "      <th>quantity_rep</th>\n",
       "    </tr>\n",
       "  </thead>\n",
       "  <tbody>\n",
       "    <tr>\n",
       "      <th>0</th>\n",
       "      <td>TA-00002</td>\n",
       "      <td>S-0066</td>\n",
       "      <td>2013-07-07</td>\n",
       "      <td>0</td>\n",
       "      <td>0</td>\n",
       "      <td>Yes</td>\n",
       "      <td>1</td>\n",
       "      <td>21.905933</td>\n",
       "      <td>2013</td>\n",
       "      <td>1.00</td>\n",
       "    </tr>\n",
       "    <tr>\n",
       "      <th>1</th>\n",
       "      <td>TA-00002</td>\n",
       "      <td>S-0066</td>\n",
       "      <td>2013-07-07</td>\n",
       "      <td>0</td>\n",
       "      <td>0</td>\n",
       "      <td>Yes</td>\n",
       "      <td>2</td>\n",
       "      <td>12.341214</td>\n",
       "      <td>2013</td>\n",
       "      <td>0.50</td>\n",
       "    </tr>\n",
       "    <tr>\n",
       "      <th>2</th>\n",
       "      <td>TA-00002</td>\n",
       "      <td>S-0066</td>\n",
       "      <td>2013-07-07</td>\n",
       "      <td>0</td>\n",
       "      <td>0</td>\n",
       "      <td>Yes</td>\n",
       "      <td>5</td>\n",
       "      <td>6.601826</td>\n",
       "      <td>2013</td>\n",
       "      <td>0.20</td>\n",
       "    </tr>\n",
       "    <tr>\n",
       "      <th>3</th>\n",
       "      <td>TA-00002</td>\n",
       "      <td>S-0066</td>\n",
       "      <td>2013-07-07</td>\n",
       "      <td>0</td>\n",
       "      <td>0</td>\n",
       "      <td>Yes</td>\n",
       "      <td>10</td>\n",
       "      <td>4.687770</td>\n",
       "      <td>2013</td>\n",
       "      <td>0.10</td>\n",
       "    </tr>\n",
       "    <tr>\n",
       "      <th>4</th>\n",
       "      <td>TA-00002</td>\n",
       "      <td>S-0066</td>\n",
       "      <td>2013-07-07</td>\n",
       "      <td>0</td>\n",
       "      <td>0</td>\n",
       "      <td>Yes</td>\n",
       "      <td>25</td>\n",
       "      <td>3.541561</td>\n",
       "      <td>2013</td>\n",
       "      <td>0.04</td>\n",
       "    </tr>\n",
       "  </tbody>\n",
       "</table>\n",
       "</div>"
      ],
      "text/plain": [
       "  tube_assembly_id supplier quote_date  annual_usage  min_order_quantity  \\\n",
       "0         TA-00002   S-0066 2013-07-07             0                   0   \n",
       "1         TA-00002   S-0066 2013-07-07             0                   0   \n",
       "2         TA-00002   S-0066 2013-07-07             0                   0   \n",
       "3         TA-00002   S-0066 2013-07-07             0                   0   \n",
       "4         TA-00002   S-0066 2013-07-07             0                   0   \n",
       "\n",
       "  bracket_pricing  quantity       cost  year  quantity_rep  \n",
       "0             Yes         1  21.905933  2013          1.00  \n",
       "1             Yes         2  12.341214  2013          0.50  \n",
       "2             Yes         5   6.601826  2013          0.20  \n",
       "3             Yes        10   4.687770  2013          0.10  \n",
       "4             Yes        25   3.541561  2013          0.04  "
      ]
     },
     "execution_count": 9,
     "metadata": {},
     "output_type": "execute_result"
    }
   ],
   "source": [
    "train_set.head()"
   ]
  },
  {
   "cell_type": "code",
   "execution_count": 11,
   "metadata": {
    "collapsed": true
   },
   "outputs": [],
   "source": [
    "train_set_dummies = pd.get_dummies(train_set, columns=['supplier', 'bracket_pricing'])\n",
    "train_set_dummies = train_set_dummies.drop(['bracket_pricing_No'], axis=1)"
   ]
  },
  {
   "cell_type": "code",
   "execution_count": 12,
   "metadata": {
    "collapsed": false
   },
   "outputs": [
    {
     "data": {
      "text/html": [
       "<div>\n",
       "<table border=\"1\" class=\"dataframe\">\n",
       "  <thead>\n",
       "    <tr style=\"text-align: right;\">\n",
       "      <th></th>\n",
       "      <th>tube_assembly_id</th>\n",
       "      <th>quote_date</th>\n",
       "      <th>annual_usage</th>\n",
       "      <th>min_order_quantity</th>\n",
       "      <th>quantity</th>\n",
       "      <th>cost</th>\n",
       "      <th>year</th>\n",
       "      <th>quantity_rep</th>\n",
       "      <th>supplier_S-0003</th>\n",
       "      <th>supplier_S-0004</th>\n",
       "      <th>...</th>\n",
       "      <th>supplier_S-0096</th>\n",
       "      <th>supplier_S-0097</th>\n",
       "      <th>supplier_S-0104</th>\n",
       "      <th>supplier_S-0105</th>\n",
       "      <th>supplier_S-0106</th>\n",
       "      <th>supplier_S-0107</th>\n",
       "      <th>supplier_S-0108</th>\n",
       "      <th>supplier_S-0109</th>\n",
       "      <th>supplier_S-0111</th>\n",
       "      <th>bracket_pricing_Yes</th>\n",
       "    </tr>\n",
       "  </thead>\n",
       "  <tbody>\n",
       "    <tr>\n",
       "      <th>0</th>\n",
       "      <td>TA-00002</td>\n",
       "      <td>2013-07-07</td>\n",
       "      <td>0</td>\n",
       "      <td>0</td>\n",
       "      <td>1</td>\n",
       "      <td>21.905933</td>\n",
       "      <td>2013</td>\n",
       "      <td>1.00</td>\n",
       "      <td>0</td>\n",
       "      <td>0</td>\n",
       "      <td>...</td>\n",
       "      <td>0</td>\n",
       "      <td>0</td>\n",
       "      <td>0</td>\n",
       "      <td>0</td>\n",
       "      <td>0</td>\n",
       "      <td>0</td>\n",
       "      <td>0</td>\n",
       "      <td>0</td>\n",
       "      <td>0</td>\n",
       "      <td>1</td>\n",
       "    </tr>\n",
       "    <tr>\n",
       "      <th>1</th>\n",
       "      <td>TA-00002</td>\n",
       "      <td>2013-07-07</td>\n",
       "      <td>0</td>\n",
       "      <td>0</td>\n",
       "      <td>2</td>\n",
       "      <td>12.341214</td>\n",
       "      <td>2013</td>\n",
       "      <td>0.50</td>\n",
       "      <td>0</td>\n",
       "      <td>0</td>\n",
       "      <td>...</td>\n",
       "      <td>0</td>\n",
       "      <td>0</td>\n",
       "      <td>0</td>\n",
       "      <td>0</td>\n",
       "      <td>0</td>\n",
       "      <td>0</td>\n",
       "      <td>0</td>\n",
       "      <td>0</td>\n",
       "      <td>0</td>\n",
       "      <td>1</td>\n",
       "    </tr>\n",
       "    <tr>\n",
       "      <th>2</th>\n",
       "      <td>TA-00002</td>\n",
       "      <td>2013-07-07</td>\n",
       "      <td>0</td>\n",
       "      <td>0</td>\n",
       "      <td>5</td>\n",
       "      <td>6.601826</td>\n",
       "      <td>2013</td>\n",
       "      <td>0.20</td>\n",
       "      <td>0</td>\n",
       "      <td>0</td>\n",
       "      <td>...</td>\n",
       "      <td>0</td>\n",
       "      <td>0</td>\n",
       "      <td>0</td>\n",
       "      <td>0</td>\n",
       "      <td>0</td>\n",
       "      <td>0</td>\n",
       "      <td>0</td>\n",
       "      <td>0</td>\n",
       "      <td>0</td>\n",
       "      <td>1</td>\n",
       "    </tr>\n",
       "    <tr>\n",
       "      <th>3</th>\n",
       "      <td>TA-00002</td>\n",
       "      <td>2013-07-07</td>\n",
       "      <td>0</td>\n",
       "      <td>0</td>\n",
       "      <td>10</td>\n",
       "      <td>4.687770</td>\n",
       "      <td>2013</td>\n",
       "      <td>0.10</td>\n",
       "      <td>0</td>\n",
       "      <td>0</td>\n",
       "      <td>...</td>\n",
       "      <td>0</td>\n",
       "      <td>0</td>\n",
       "      <td>0</td>\n",
       "      <td>0</td>\n",
       "      <td>0</td>\n",
       "      <td>0</td>\n",
       "      <td>0</td>\n",
       "      <td>0</td>\n",
       "      <td>0</td>\n",
       "      <td>1</td>\n",
       "    </tr>\n",
       "    <tr>\n",
       "      <th>4</th>\n",
       "      <td>TA-00002</td>\n",
       "      <td>2013-07-07</td>\n",
       "      <td>0</td>\n",
       "      <td>0</td>\n",
       "      <td>25</td>\n",
       "      <td>3.541561</td>\n",
       "      <td>2013</td>\n",
       "      <td>0.04</td>\n",
       "      <td>0</td>\n",
       "      <td>0</td>\n",
       "      <td>...</td>\n",
       "      <td>0</td>\n",
       "      <td>0</td>\n",
       "      <td>0</td>\n",
       "      <td>0</td>\n",
       "      <td>0</td>\n",
       "      <td>0</td>\n",
       "      <td>0</td>\n",
       "      <td>0</td>\n",
       "      <td>0</td>\n",
       "      <td>1</td>\n",
       "    </tr>\n",
       "  </tbody>\n",
       "</table>\n",
       "<p>5 rows × 66 columns</p>\n",
       "</div>"
      ],
      "text/plain": [
       "  tube_assembly_id quote_date  annual_usage  min_order_quantity  quantity  \\\n",
       "0         TA-00002 2013-07-07             0                   0         1   \n",
       "1         TA-00002 2013-07-07             0                   0         2   \n",
       "2         TA-00002 2013-07-07             0                   0         5   \n",
       "3         TA-00002 2013-07-07             0                   0        10   \n",
       "4         TA-00002 2013-07-07             0                   0        25   \n",
       "\n",
       "        cost  year  quantity_rep  supplier_S-0003  supplier_S-0004  \\\n",
       "0  21.905933  2013          1.00                0                0   \n",
       "1  12.341214  2013          0.50                0                0   \n",
       "2   6.601826  2013          0.20                0                0   \n",
       "3   4.687770  2013          0.10                0                0   \n",
       "4   3.541561  2013          0.04                0                0   \n",
       "\n",
       "          ...           supplier_S-0096  supplier_S-0097  supplier_S-0104  \\\n",
       "0         ...                         0                0                0   \n",
       "1         ...                         0                0                0   \n",
       "2         ...                         0                0                0   \n",
       "3         ...                         0                0                0   \n",
       "4         ...                         0                0                0   \n",
       "\n",
       "   supplier_S-0105  supplier_S-0106  supplier_S-0107  supplier_S-0108  \\\n",
       "0                0                0                0                0   \n",
       "1                0                0                0                0   \n",
       "2                0                0                0                0   \n",
       "3                0                0                0                0   \n",
       "4                0                0                0                0   \n",
       "\n",
       "   supplier_S-0109  supplier_S-0111  bracket_pricing_Yes  \n",
       "0                0                0                    1  \n",
       "1                0                0                    1  \n",
       "2                0                0                    1  \n",
       "3                0                0                    1  \n",
       "4                0                0                    1  \n",
       "\n",
       "[5 rows x 66 columns]"
      ]
     },
     "execution_count": 12,
     "metadata": {},
     "output_type": "execute_result"
    }
   ],
   "source": [
    "train_set_dummies.head()"
   ]
  },
  {
   "cell_type": "code",
   "execution_count": 13,
   "metadata": {
    "collapsed": true
   },
   "outputs": [],
   "source": [
    "train_set_dummies.to_csv('train_set_adjusted.csv', index=False)"
   ]
  },
  {
   "cell_type": "code",
   "execution_count": 9,
   "metadata": {
    "collapsed": false
   },
   "outputs": [],
   "source": [
    "# train_set_no_date = train_set.drop(['quote_date'], axis=1)"
   ]
  },
  {
   "cell_type": "code",
   "execution_count": 10,
   "metadata": {
    "collapsed": true
   },
   "outputs": [],
   "source": [
    "# train_set_no_date_dummies = pd.get_dummies(train_set_no_date, columns=['supplier', 'bracket_pricing'])"
   ]
  },
  {
   "cell_type": "code",
   "execution_count": 12,
   "metadata": {
    "collapsed": false
   },
   "outputs": [],
   "source": [
    "# train_set_no_date_dummies_drop_bracket_n = \\\n",
    "# train_set_no_date_dummies.drop(['bracket_pricing_No'], axis=1)"
   ]
  },
  {
   "cell_type": "code",
   "execution_count": 14,
   "metadata": {
    "collapsed": true
   },
   "outputs": [],
   "source": [
    "# train_set_no_date_dummies_drop_bracket_n.to_csv('train_set_no_date_dummies_drop_bracket_n.csv', index=False)"
   ]
  },
  {
   "cell_type": "code",
   "execution_count": null,
   "metadata": {
    "collapsed": true
   },
   "outputs": [],
   "source": []
  }
 ],
 "metadata": {
  "kernelspec": {
   "display_name": "Python 2",
   "language": "python",
   "name": "python2"
  },
  "language_info": {
   "codemirror_mode": {
    "name": "ipython",
    "version": 2
   },
   "file_extension": ".py",
   "mimetype": "text/x-python",
   "name": "python",
   "nbconvert_exporter": "python",
   "pygments_lexer": "ipython2",
   "version": "2.7.10"
  }
 },
 "nbformat": 4,
 "nbformat_minor": 0
}
