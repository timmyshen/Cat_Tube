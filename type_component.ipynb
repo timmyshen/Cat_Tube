{
 "cells": [
  {
   "cell_type": "code",
   "execution_count": 1,
   "metadata": {
    "collapsed": false
   },
   "outputs": [
    {
     "name": "stdout",
     "output_type": "stream",
     "text": [
      "Populating the interactive namespace from numpy and matplotlib\n"
     ]
    }
   ],
   "source": [
    "%pylab inline\n",
    "import pandas as pd"
   ]
  },
  {
   "cell_type": "code",
   "execution_count": 2,
   "metadata": {
    "collapsed": true
   },
   "outputs": [],
   "source": [
    "type_component = pd.read_csv('./competition_data/type_component.csv')"
   ]
  },
  {
   "cell_type": "code",
   "execution_count": 3,
   "metadata": {
    "collapsed": false
   },
   "outputs": [
    {
     "name": "stdout",
     "output_type": "stream",
     "text": [
      "(29, 2)\n",
      "component_type_id    object\n",
      "name                 object\n",
      "dtype: object\n",
      "   component_type_id                                 name\n",
      "0             CP-001                  4-bolt Tig Straight\n",
      "1             CP-002                   4-bolt MJ Straight\n",
      "2             CP-003           4-bolt Braze/Weld Straight\n",
      "3             CP-004           2-bolt Braze/Weld Straight\n",
      "4             CP-005                   2-bolt MJ Straight\n",
      "5             CP-006               Braze/Weld Flange Head\n",
      "6             CP-007                       MJ Flange Head\n",
      "7             CP-008              4-bolt Braze/Weld Elbow\n",
      "8             CP-009                     4-bolt Tig Elbow\n",
      "9             CP-010              2-bolt Braze/Weld Elbow\n",
      "10            CP-011                      4-bolt MJ Elbow\n",
      "11            CP-012                              MJ Plug\n",
      "12            CP-013                        4-bolt MJ Tee\n",
      "13            CP-014                    Threaded Straight\n",
      "14            CP-015                       Threaded Elbow\n",
      "15            CP-016                         Threaded Tee\n",
      "16            CP-017               Threaded Lateral Cross\n",
      "17            CP-018                        Threaded Boss\n",
      "18            CP-019                          4-bolt Boss\n",
      "19            CP-020                          2-bolt Boss\n",
      "20            CP-021          Free-Floating 4-bolt Spacer\n",
      "21            CP-022  Free-Floating 4-bolt Captive Flange\n",
      "22            CP-023                     Stems and Shells\n",
      "23            CP-024                              Sleeves\n",
      "24            CP-025                             ORFS Nut\n",
      "25            CP-026                      JIC 37 - 45 Nut\n",
      "26            CP-027                          Weld On Nut\n",
      "27            CP-028                     Straight Adapter\n",
      "28            CP-029                        Elbow Adapter\n"
     ]
    }
   ],
   "source": [
    "print type_component.shape\n",
    "print type_component.dtypes\n",
    "print type_component"
   ]
  }
 ],
 "metadata": {
  "kernelspec": {
   "display_name": "Python 2",
   "language": "python",
   "name": "python2"
  },
  "language_info": {
   "codemirror_mode": {
    "name": "ipython",
    "version": 2
   },
   "file_extension": ".py",
   "mimetype": "text/x-python",
   "name": "python",
   "nbconvert_exporter": "python",
   "pygments_lexer": "ipython2",
   "version": "2.7.10"
  }
 },
 "nbformat": 4,
 "nbformat_minor": 0
}
