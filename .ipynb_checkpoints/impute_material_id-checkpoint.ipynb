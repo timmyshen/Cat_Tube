{
 "cells": [
  {
   "cell_type": "code",
   "execution_count": 1,
   "metadata": {
    "collapsed": false
   },
   "outputs": [
    {
     "name": "stdout",
     "output_type": "stream",
     "text": [
      "Populating the interactive namespace from numpy and matplotlib\n"
     ]
    }
   ],
   "source": [
    "%pylab inline\n",
    "import pandas as pd\n",
    "from sklearn.neighbors import KNeighborsClassifier"
   ]
  },
  {
   "cell_type": "code",
   "execution_count": 2,
   "metadata": {
    "collapsed": true
   },
   "outputs": [],
   "source": [
    "tube = pd.read_csv('./competition_data/tube.csv')"
   ]
  },
  {
   "cell_type": "code",
   "execution_count": 3,
   "metadata": {
    "collapsed": false
   },
   "outputs": [
    {
     "name": "stdout",
     "output_type": "stream",
     "text": [
      "tube_assembly_id     object\n",
      "material_id          object\n",
      "diameter            float64\n",
      "wall                float64\n",
      "length              float64\n",
      "num_bends             int64\n",
      "bend_radius         float64\n",
      "end_a_1x             object\n",
      "end_a_2x             object\n",
      "end_x_1x             object\n",
      "end_x_2x             object\n",
      "end_a                object\n",
      "end_x                object\n",
      "num_boss              int64\n",
      "num_bracket           int64\n",
      "other                 int64\n",
      "dtype: object\n"
     ]
    }
   ],
   "source": [
    "print tube.dtypes"
   ]
  },
  {
   "cell_type": "code",
   "execution_count": 4,
   "metadata": {
    "collapsed": false
   },
   "outputs": [],
   "source": [
    "tube_isnull = tube.isnull()\n",
    "tube_isnull_row = tube_isnull.any(axis=1)\n",
    "# print tube_isnull_row.shape\n",
    "\n",
    "# print tube_isnull_row\n",
    "\n",
    "tube_train = tube[-tube_isnull_row]\n",
    "# tube_train_X = tube.drop(['material_id'], axis=1)\n",
    "tube_train_X = tube_train[['diameter', 'wall', 'length', 'num_bends', 'bend_radius',\\\n",
    "                     'num_boss', 'num_bracket', 'other']]\n",
    "tube_train_y = tube_train['material_id']\n",
    "\n",
    "tube_test = tube[tube_isnull_row]\n",
    "tube_test_X = tube_test[['diameter', 'wall', 'length', 'num_bends', 'bend_radius',\\\n",
    "                     'num_boss', 'num_bracket', 'other']]\n",
    "tube_test_y = tube_test['material_id']"
   ]
  },
  {
   "cell_type": "code",
   "execution_count": 5,
   "metadata": {
    "collapsed": false
   },
   "outputs": [],
   "source": [
    "# tube_test_y"
   ]
  },
  {
   "cell_type": "code",
   "execution_count": 6,
   "metadata": {
    "collapsed": false
   },
   "outputs": [
    {
     "name": "stdout",
     "output_type": "stream",
     "text": [
      "(20919, 16)\n",
      "(279, 16)\n"
     ]
    }
   ],
   "source": [
    "print tube_train.shape\n",
    "print tube_test.shape"
   ]
  },
  {
   "cell_type": "code",
   "execution_count": 7,
   "metadata": {
    "collapsed": true
   },
   "outputs": [],
   "source": [
    "knn5 = KNeighborsClassifier()"
   ]
  },
  {
   "cell_type": "code",
   "execution_count": 8,
   "metadata": {
    "collapsed": false
   },
   "outputs": [],
   "source": [
    "knn_fit = knn5.fit(tube_train_X, tube_train_y)"
   ]
  },
  {
   "cell_type": "code",
   "execution_count": 9,
   "metadata": {
    "collapsed": false
   },
   "outputs": [
    {
     "data": {
      "text/plain": [
       "{'algorithm': 'auto',\n",
       " 'leaf_size': 30,\n",
       " 'metric': 'minkowski',\n",
       " 'metric_params': None,\n",
       " 'n_neighbors': 5,\n",
       " 'p': 2,\n",
       " 'weights': 'uniform'}"
      ]
     },
     "execution_count": 9,
     "metadata": {},
     "output_type": "execute_result"
    }
   ],
   "source": [
    "knn_fit.get_params()"
   ]
  },
  {
   "cell_type": "code",
   "execution_count": 10,
   "metadata": {
    "collapsed": false
   },
   "outputs": [
    {
     "name": "stdout",
     "output_type": "stream",
     "text": [
      "['SP-0029' 'SP-0029' 'SP-0029' 'SP-0019' 'SP-0029' 'SP-0029' 'SP-0029'\n",
      " 'SP-0029' 'SP-0029' 'SP-0035' 'SP-0029' 'SP-0035' 'SP-0029' 'SP-0029'\n",
      " 'SP-0029' 'SP-0029' 'SP-0037' 'SP-0035' 'SP-0035' 'SP-0035' 'SP-0035'\n",
      " 'SP-0035' 'SP-0029' 'SP-0029' 'SP-0029' 'SP-0029' 'SP-0028' 'SP-0029'\n",
      " 'SP-0029' 'SP-0029' 'SP-0029' 'SP-0029' 'SP-0029' 'SP-0008' 'SP-0029'\n",
      " 'SP-0029' 'SP-0035' 'SP-0029' 'SP-0029' 'SP-0029' 'SP-0029' 'SP-0029'\n",
      " 'SP-0029' 'SP-0029' 'SP-0029' 'SP-0029' 'SP-0029' 'SP-0029' 'SP-0029'\n",
      " 'SP-0035' 'SP-0029' 'SP-0029' 'SP-0029' 'SP-0029' 'SP-0029' 'SP-0035'\n",
      " 'SP-0029' 'SP-0035' 'SP-0035' 'SP-0029' 'SP-0029' 'SP-0029' 'SP-0035'\n",
      " 'SP-0035' 'SP-0029' 'SP-0029' 'SP-0035' 'SP-0029' 'SP-0029' 'SP-0008'\n",
      " 'SP-0029' 'SP-0029' 'SP-0044' 'SP-0029' 'SP-0029' 'SP-0029' 'SP-0029'\n",
      " 'SP-0029' 'SP-0029' 'SP-0029' 'SP-0029' 'SP-0029' 'SP-0029' 'SP-0029'\n",
      " 'SP-0029' 'SP-0029' 'SP-0029' 'SP-0029' 'SP-0029' 'SP-0029' 'SP-0029'\n",
      " 'SP-0029' 'SP-0029' 'SP-0035' 'SP-0029' 'SP-0029' 'SP-0029' 'SP-0029'\n",
      " 'SP-0029' 'SP-0029' 'SP-0035' 'SP-0035' 'SP-0029' 'SP-0035' 'SP-0035'\n",
      " 'SP-0035' 'SP-0035' 'SP-0029' 'SP-0029' 'SP-0029' 'SP-0035' 'SP-0019'\n",
      " 'SP-0029' 'SP-0029' 'SP-0035' 'SP-0035' 'SP-0029' 'SP-0029' 'SP-0035'\n",
      " 'SP-0029' 'SP-0029' 'SP-0029' 'SP-0029' 'SP-0029' 'SP-0035' 'SP-0035'\n",
      " 'SP-0029' 'SP-0035' 'SP-0035' 'SP-0035' 'SP-0035' 'SP-0029' 'SP-0035'\n",
      " 'SP-0029' 'SP-0035' 'SP-0029' 'SP-0035' 'SP-0029' 'SP-0029' 'SP-0029'\n",
      " 'SP-0029' 'SP-0029' 'SP-0035' 'SP-0035' 'SP-0029' 'SP-0029' 'SP-0029'\n",
      " 'SP-0029' 'SP-0029' 'SP-0029' 'SP-0035' 'SP-0029' 'SP-0029' 'SP-0029'\n",
      " 'SP-0029' 'SP-0029' 'SP-0029' 'SP-0029' 'SP-0029' 'SP-0029' 'SP-0029'\n",
      " 'SP-0029' 'SP-0029' 'SP-0035' 'SP-0029' 'SP-0035' 'SP-0029' 'SP-0029'\n",
      " 'SP-0029' 'SP-0029' 'SP-0029' 'SP-0029' 'SP-0029' 'SP-0029' 'SP-0029'\n",
      " 'SP-0029' 'SP-0029' 'SP-0029' 'SP-0029' 'SP-0029' 'SP-0029' 'SP-0029'\n",
      " 'SP-0029' 'SP-0029' 'SP-0029' 'SP-0029' 'SP-0029' 'SP-0029' 'SP-0029'\n",
      " 'SP-0029' 'SP-0029' 'SP-0029' 'SP-0029' 'SP-0029' 'SP-0029' 'SP-0029'\n",
      " 'SP-0029' 'SP-0029' 'SP-0029' 'SP-0029' 'SP-0029' 'SP-0029' 'SP-0029'\n",
      " 'SP-0029' 'SP-0029' 'SP-0029' 'SP-0046' 'SP-0029' 'SP-0029' 'SP-0029'\n",
      " 'SP-0029' 'SP-0029' 'SP-0046' 'SP-0029' 'SP-0029' 'SP-0048' 'SP-0029'\n",
      " 'SP-0029' 'SP-0029' 'SP-0029' 'SP-0029' 'SP-0029' 'SP-0029' 'SP-0029'\n",
      " 'SP-0029' 'SP-0029' 'SP-0029' 'SP-0029' 'SP-0029' 'SP-0029' 'SP-0029'\n",
      " 'SP-0029' 'SP-0029' 'SP-0029' 'SP-0029' 'SP-0029' 'SP-0029' 'SP-0029'\n",
      " 'SP-0029' 'SP-0048' 'SP-0029' 'SP-0029' 'SP-0029' 'SP-0029' 'SP-0029'\n",
      " 'SP-0046' 'SP-0029' 'SP-0029' 'SP-0029' 'SP-0029' 'SP-0029' 'SP-0029'\n",
      " 'SP-0029' 'SP-0029' 'SP-0029' 'SP-0029' 'SP-0029' 'SP-0029' 'SP-0029'\n",
      " 'SP-0029' 'SP-0029' 'SP-0029' 'SP-0029' 'SP-0029' 'SP-0029' 'SP-0029'\n",
      " 'SP-0029' 'SP-0029' 'SP-0029' 'SP-0029' 'SP-0029' 'SP-0029' 'SP-0048'\n",
      " 'SP-0029' 'SP-0029' 'SP-0029' 'SP-0037' 'SP-0035' 'SP-0035']\n"
     ]
    }
   ],
   "source": [
    "material_pred = knn_fit.predict(tube_test_X)\n",
    "print material_pred"
   ]
  },
  {
   "cell_type": "code",
   "execution_count": 11,
   "metadata": {
    "collapsed": false
   },
   "outputs": [],
   "source": [
    "tube.ix[tube_isnull_row, 'material_id'] = material_pred"
   ]
  },
  {
   "cell_type": "code",
   "execution_count": 12,
   "metadata": {
    "collapsed": true
   },
   "outputs": [],
   "source": [
    "tube.to_csv('tube_material_id_imputed.csv', index=False)"
   ]
  }
 ],
 "metadata": {
  "kernelspec": {
   "display_name": "Python 2",
   "language": "python",
   "name": "python2"
  },
  "language_info": {
   "codemirror_mode": {
    "name": "ipython",
    "version": 2
   },
   "file_extension": ".py",
   "mimetype": "text/x-python",
   "name": "python",
   "nbconvert_exporter": "python",
   "pygments_lexer": "ipython2",
   "version": "2.7.10"
  }
 },
 "nbformat": 4,
 "nbformat_minor": 0
}
