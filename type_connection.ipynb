{
 "cells": [
  {
   "cell_type": "code",
   "execution_count": 1,
   "metadata": {
    "collapsed": false
   },
   "outputs": [
    {
     "name": "stdout",
     "output_type": "stream",
     "text": [
      "Populating the interactive namespace from numpy and matplotlib\n"
     ]
    }
   ],
   "source": [
    "%pylab inline\n",
    "import pandas as pd"
   ]
  },
  {
   "cell_type": "code",
   "execution_count": 2,
   "metadata": {
    "collapsed": true
   },
   "outputs": [],
   "source": [
    "type_connection = pd.read_csv('./competition_data/type_connection.csv')"
   ]
  },
  {
   "cell_type": "code",
   "execution_count": 3,
   "metadata": {
    "collapsed": false
   },
   "outputs": [
    {
     "name": "stdout",
     "output_type": "stream",
     "text": [
      "(14, 2)\n",
      "connection_type_id    object\n",
      "name                  object\n",
      "dtype: object\n",
      "   connection_type_id                       name\n",
      "0               B-001      37 deg Flare-SAE J514\n",
      "1               B-002             ORFS-SAE J1453\n",
      "2               B-003                    Hi-Duty\n",
      "3               B-004         NPTF-SAE J476/J514\n",
      "4               B-005         SAE STOR-SAE J1926\n",
      "5               B-006      45 deg Flare-SAE J512\n",
      "6               B-007  45 deg Inv Flare-SAE J512\n",
      "7               B-008                        A-C\n",
      "8               B-009       Metric STOR-ISO 6149\n",
      "9               B-010                      Plain\n",
      "10              B-011  Metric Flat Face-ISO 9974\n",
      "11              B-012             Code 61 Flange\n",
      "12              B-013             Code 62 Flange\n",
      "13               9999                      Other\n"
     ]
    }
   ],
   "source": [
    "print type_connection.shape\n",
    "print type_connection.dtypes\n",
    "print type_connection"
   ]
  }
 ],
 "metadata": {
  "kernelspec": {
   "display_name": "Python 2",
   "language": "python",
   "name": "python2"
  },
  "language_info": {
   "codemirror_mode": {
    "name": "ipython",
    "version": 2
   },
   "file_extension": ".py",
   "mimetype": "text/x-python",
   "name": "python",
   "nbconvert_exporter": "python",
   "pygments_lexer": "ipython2",
   "version": "2.7.10"
  }
 },
 "nbformat": 4,
 "nbformat_minor": 0
}
