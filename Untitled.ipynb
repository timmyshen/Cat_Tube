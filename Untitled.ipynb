{
 "cells": [
  {
   "cell_type": "code",
   "execution_count": 47,
   "metadata": {
    "collapsed": false
   },
   "outputs": [
    {
     "name": "stdout",
     "output_type": "stream",
     "text": [
      "Populating the interactive namespace from numpy and matplotlib\n"
     ]
    }
   ],
   "source": [
    "%pylab inline\n",
    "import pandas as pd\n",
    "from sklearn import linear_model"
   ]
  },
  {
   "cell_type": "code",
   "execution_count": 9,
   "metadata": {
    "collapsed": false
   },
   "outputs": [
    {
     "name": "stdout",
     "output_type": "stream",
     "text": [
      "(30213, 8)\n",
      "tube_assembly_id              object\n",
      "supplier                      object\n",
      "quote_date            datetime64[ns]\n",
      "annual_usage                   int64\n",
      "min_order_quantity             int64\n",
      "bracket_pricing               object\n",
      "quantity                       int64\n",
      "cost                         float64\n",
      "dtype: object\n",
      "      tube_assembly_id supplier quote_date  annual_usage  min_order_quantity  \\\n",
      "9730          TA-05679   S-0066 2013-08-04             0                   0   \n",
      "7442          TA-04183   S-0066 2013-10-01             0                   0   \n",
      "19179         TA-13388   S-0054 2009-05-26             1                   0   \n",
      "9565          TA-05576   S-0072 2002-08-30            88                   1   \n",
      "718           TA-00338   S-0066 2013-07-01             0                   0   \n",
      "14127         TA-08815   S-0058 2008-12-01           129                  35   \n",
      "252           TA-00108   S-0066 2013-10-01             0                   0   \n",
      "990           TA-00497   S-0066 2013-09-01             0                   0   \n",
      "19822         TA-14032   S-0041 2013-08-05             1                  20   \n",
      "26509         TA-19805   S-0066 2013-08-01             0                   0   \n",
      "\n",
      "      bracket_pricing  quantity       cost  \n",
      "9730              Yes         1  28.616259  \n",
      "7442              Yes       100   6.279107  \n",
      "19179             Yes         1  20.078120  \n",
      "9565               No         1   4.434602  \n",
      "718               Yes        10   4.609872  \n",
      "14127              No        35   6.167825  \n",
      "252               Yes       100  11.178313  \n",
      "990               Yes         5   9.178013  \n",
      "19822              No        20   6.732583  \n",
      "26509             Yes         1  21.513663  \n"
     ]
    }
   ],
   "source": [
    "train_df = pd.read_csv('./competition_data/train_set.csv', parse_dates=['quote_date'])\n",
    "print train_df.shape\n",
    "print train_df.dtypes\n",
    "print train_df.sample(n=10, random_state=0)"
   ]
  },
  {
   "cell_type": "code",
   "execution_count": 6,
   "metadata": {
    "collapsed": false
   },
   "outputs": [
    {
     "data": {
      "text/html": [
       "<div>\n",
       "<table border=\"1\" class=\"dataframe\">\n",
       "  <thead>\n",
       "    <tr style=\"text-align: right;\">\n",
       "      <th></th>\n",
       "      <th>tube_assembly_id</th>\n",
       "      <th>supplier</th>\n",
       "      <th>quote_date</th>\n",
       "      <th>annual_usage</th>\n",
       "      <th>min_order_quantity</th>\n",
       "      <th>bracket_pricing</th>\n",
       "      <th>quantity</th>\n",
       "      <th>cost</th>\n",
       "    </tr>\n",
       "  </thead>\n",
       "  <tbody>\n",
       "    <tr>\n",
       "      <th>14289</th>\n",
       "      <td>TA-08933</td>\n",
       "      <td>S-0066</td>\n",
       "      <td>2011-08-01</td>\n",
       "      <td>52</td>\n",
       "      <td>14</td>\n",
       "      <td>No</td>\n",
       "      <td>10</td>\n",
       "      <td>52.497454</td>\n",
       "    </tr>\n",
       "    <tr>\n",
       "      <th>15382</th>\n",
       "      <td>TA-09767</td>\n",
       "      <td>S-0066</td>\n",
       "      <td>2011-08-01</td>\n",
       "      <td>265</td>\n",
       "      <td>32</td>\n",
       "      <td>No</td>\n",
       "      <td>3</td>\n",
       "      <td>24.245645</td>\n",
       "    </tr>\n",
       "    <tr>\n",
       "      <th>15819</th>\n",
       "      <td>TA-10173</td>\n",
       "      <td>S-0066</td>\n",
       "      <td>2011-08-01</td>\n",
       "      <td>75</td>\n",
       "      <td>30</td>\n",
       "      <td>No</td>\n",
       "      <td>12</td>\n",
       "      <td>5.358246</td>\n",
       "    </tr>\n",
       "    <tr>\n",
       "      <th>20444</th>\n",
       "      <td>TA-14751</td>\n",
       "      <td>S-0066</td>\n",
       "      <td>2011-08-01</td>\n",
       "      <td>245</td>\n",
       "      <td>5</td>\n",
       "      <td>No</td>\n",
       "      <td>4</td>\n",
       "      <td>17.796832</td>\n",
       "    </tr>\n",
       "  </tbody>\n",
       "</table>\n",
       "</div>"
      ],
      "text/plain": [
       "      tube_assembly_id supplier quote_date  annual_usage  min_order_quantity  \\\n",
       "14289         TA-08933   S-0066 2011-08-01            52                  14   \n",
       "15382         TA-09767   S-0066 2011-08-01           265                  32   \n",
       "15819         TA-10173   S-0066 2011-08-01            75                  30   \n",
       "20444         TA-14751   S-0066 2011-08-01           245                   5   \n",
       "\n",
       "      bracket_pricing  quantity       cost  \n",
       "14289              No        10  52.497454  \n",
       "15382              No         3  24.245645  \n",
       "15819              No        12   5.358246  \n",
       "20444              No         4  17.796832  "
      ]
     },
     "execution_count": 6,
     "metadata": {},
     "output_type": "execute_result"
    }
   ],
   "source": [
    "train_df[(train_df.bracket_pricing == 'No') & \\\n",
    "         (train_df.quantity > 1) & \\\n",
    "         (train_df.min_order_quantity != train_df.quantity)]"
   ]
  },
  {
   "cell_type": "code",
   "execution_count": 10,
   "metadata": {
    "collapsed": false
   },
   "outputs": [],
   "source": [
    "train_df_no_bracket = train_df[(train_df.bracket_pricing == 'No')]"
   ]
  },
  {
   "cell_type": "code",
   "execution_count": 32,
   "metadata": {
    "collapsed": false
   },
   "outputs": [
    {
     "name": "stdout",
     "output_type": "stream",
     "text": [
      "3930\n",
      "(3930, 8)\n"
     ]
    }
   ],
   "source": [
    "print train_df_no_bracket.tube_assembly_id.unique().size\n",
    "print train_df_no_bracket.shape"
   ]
  },
  {
   "cell_type": "code",
   "execution_count": 18,
   "metadata": {
    "collapsed": false
   },
   "outputs": [
    {
     "name": "stdout",
     "output_type": "stream",
     "text": [
      "(21198, 17)\n",
      "tube_assembly_id     object\n",
      "component_id_1       object\n",
      "quantity_1          float64\n",
      "component_id_2       object\n",
      "quantity_2          float64\n",
      "component_id_3       object\n",
      "quantity_3          float64\n",
      "component_id_4       object\n",
      "quantity_4          float64\n",
      "component_id_5       object\n",
      "quantity_5          float64\n",
      "component_id_6       object\n",
      "quantity_6          float64\n",
      "component_id_7       object\n",
      "quantity_7          float64\n",
      "component_id_8       object\n",
      "quantity_8          float64\n",
      "dtype: object\n",
      "      tube_assembly_id component_id_1  quantity_1 component_id_2  quantity_2  \\\n",
      "9258          TA-09259         C-1621           2         C-1628           2   \n",
      "6255          TA-06256         C-0442           1            NaN         NaN   \n",
      "5653          TA-05654         C-1624           1         C-1625           1   \n",
      "449           TA-00450            NaN         NaN            NaN         NaN   \n",
      "14694         TA-14695            NaN         NaN            NaN         NaN   \n",
      "19962         TA-19964         C-1312           2            NaN         NaN   \n",
      "12335         TA-12336         C-1638           2            NaN         NaN   \n",
      "15664         TA-15665         C-1621           2         C-1628           2   \n",
      "14435         TA-14436         C-1624           1         C-1631           1   \n",
      "15108         TA-15109         C-1312           2            NaN         NaN   \n",
      "\n",
      "      component_id_3  quantity_3 component_id_4  quantity_4 component_id_5  \\\n",
      "9258             NaN         NaN            NaN         NaN            NaN   \n",
      "6255             NaN         NaN            NaN         NaN            NaN   \n",
      "5653          C-1631           1         C-1652           1            NaN   \n",
      "449              NaN         NaN            NaN         NaN            NaN   \n",
      "14694            NaN         NaN            NaN         NaN            NaN   \n",
      "19962            NaN         NaN            NaN         NaN            NaN   \n",
      "12335            NaN         NaN            NaN         NaN            NaN   \n",
      "15664            NaN         NaN            NaN         NaN            NaN   \n",
      "14435         C-0264           1            NaN         NaN            NaN   \n",
      "15108            NaN         NaN            NaN         NaN            NaN   \n",
      "\n",
      "       quantity_5 component_id_6  quantity_6 component_id_7  quantity_7  \\\n",
      "9258          NaN            NaN         NaN            NaN         NaN   \n",
      "6255          NaN            NaN         NaN            NaN         NaN   \n",
      "5653          NaN            NaN         NaN            NaN         NaN   \n",
      "449           NaN            NaN         NaN            NaN         NaN   \n",
      "14694         NaN            NaN         NaN            NaN         NaN   \n",
      "19962         NaN            NaN         NaN            NaN         NaN   \n",
      "12335         NaN            NaN         NaN            NaN         NaN   \n",
      "15664         NaN            NaN         NaN            NaN         NaN   \n",
      "14435         NaN            NaN         NaN            NaN         NaN   \n",
      "15108         NaN            NaN         NaN            NaN         NaN   \n",
      "\n",
      "      component_id_8  quantity_8  \n",
      "9258             NaN         NaN  \n",
      "6255             NaN         NaN  \n",
      "5653             NaN         NaN  \n",
      "449              NaN         NaN  \n",
      "14694            NaN         NaN  \n",
      "19962            NaN         NaN  \n",
      "12335            NaN         NaN  \n",
      "15664            NaN         NaN  \n",
      "14435            NaN         NaN  \n",
      "15108            NaN         NaN  \n"
     ]
    }
   ],
   "source": [
    "bill_materials_df = pd.read_csv('./competition_data/bill_of_materials.csv')\n",
    "print bill_materials_df.shape\n",
    "print bill_materials_df.dtypes\n",
    "print bill_materials_df.sample(10, random_state=0)"
   ]
  },
  {
   "cell_type": "code",
   "execution_count": 42,
   "metadata": {
    "collapsed": true
   },
   "outputs": [],
   "source": [
    "tube_df = pd.read_csv('./competition_data/tube.csv')"
   ]
  },
  {
   "cell_type": "code",
   "execution_count": 44,
   "metadata": {
    "collapsed": false
   },
   "outputs": [],
   "source": [
    "train_df_no_bracket_indexed_by_id = train_df_no_bracket.set_index('tube_assembly_id')\n",
    "bill_materials_df_indexed_by_id = bill_materials_df.set_index('tube_assembly_id')\n",
    "tube_df_indexed_by_id = tube_df.set_index('tube_assembly_id')\n",
    "# model_df = train_df_no_bracket_indexed_by_id.join(bill_materials_df_indexed_by_id)\n",
    "model_df = pd.concat([train_df_no_bracket_indexed_by_id, bill_materials_df_indexed_by_id, tube_df_indexed_by_id], \\\n",
    "          axis=1, join='inner')"
   ]
  },
  {
   "cell_type": "code",
   "execution_count": 46,
   "metadata": {
    "collapsed": false
   },
   "outputs": [
    {
     "name": "stdout",
     "output_type": "stream",
     "text": [
      "(3930, 38)\n",
      "supplier                      object\n",
      "quote_date            datetime64[ns]\n",
      "annual_usage                   int64\n",
      "min_order_quantity             int64\n",
      "bracket_pricing               object\n",
      "quantity                       int64\n",
      "cost                         float64\n",
      "component_id_1                object\n",
      "quantity_1                   float64\n",
      "component_id_2                object\n",
      "quantity_2                   float64\n",
      "component_id_3                object\n",
      "quantity_3                   float64\n",
      "component_id_4                object\n",
      "quantity_4                   float64\n",
      "component_id_5                object\n",
      "quantity_5                   float64\n",
      "component_id_6                object\n",
      "quantity_6                   float64\n",
      "component_id_7                object\n",
      "quantity_7                   float64\n",
      "component_id_8                object\n",
      "quantity_8                   float64\n",
      "material_id                   object\n",
      "diameter                     float64\n",
      "wall                         float64\n",
      "length                       float64\n",
      "num_bends                      int64\n",
      "bend_radius                  float64\n",
      "end_a_1x                      object\n",
      "end_a_2x                      object\n",
      "end_x_1x                      object\n",
      "end_x_2x                      object\n",
      "end_a                         object\n",
      "end_x                         object\n",
      "num_boss                       int64\n",
      "num_bracket                    int64\n",
      "other                          int64\n",
      "dtype: object\n"
     ]
    }
   ],
   "source": [
    "print model_df.shape\n",
    "# print model_df.head()\n",
    "print model_df.dtypes"
   ]
  },
  {
   "cell_type": "code",
   "execution_count": 52,
   "metadata": {
    "collapsed": false
   },
   "outputs": [],
   "source": [
    "model_X = model_df[['annual_usage', 'diameter', 'wall', 'length', 'num_bends']].values\n",
    "model_y = model_df['cost'].values\n",
    "# model_X"
   ]
  },
  {
   "cell_type": "code",
   "execution_count": 55,
   "metadata": {
    "collapsed": false
   },
   "outputs": [
    {
     "data": {
      "text/plain": [
       "0.15001114716437591"
      ]
     },
     "execution_count": 55,
     "metadata": {},
     "output_type": "execute_result"
    }
   ],
   "source": [
    "lin_reg = linear_model.LinearRegression()\n",
    "lin_reg.fit(model_X, model_y)\n",
    "lin_reg.score(model_X, model_y)"
   ]
  }
 ],
 "metadata": {
  "kernelspec": {
   "display_name": "Python 2",
   "language": "python",
   "name": "python2"
  },
  "language_info": {
   "codemirror_mode": {
    "name": "ipython",
    "version": 2
   },
   "file_extension": ".py",
   "mimetype": "text/x-python",
   "name": "python",
   "nbconvert_exporter": "python",
   "pygments_lexer": "ipython2",
   "version": "2.7.10"
  }
 },
 "nbformat": 4,
 "nbformat_minor": 0
}
