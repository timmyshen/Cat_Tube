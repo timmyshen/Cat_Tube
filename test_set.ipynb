{
 "cells": [
  {
   "cell_type": "code",
   "execution_count": 1,
   "metadata": {
    "collapsed": false
   },
   "outputs": [
    {
     "name": "stdout",
     "output_type": "stream",
     "text": [
      "Populating the interactive namespace from numpy and matplotlib\n"
     ]
    }
   ],
   "source": [
    "%pylab inline\n",
    "import pandas as pd"
   ]
  },
  {
   "cell_type": "code",
   "execution_count": 2,
   "metadata": {
    "collapsed": true
   },
   "outputs": [],
   "source": [
    "test_set = pd.read_csv('competition_data/test_set.csv')"
   ]
  },
  {
   "cell_type": "code",
   "execution_count": 7,
   "metadata": {
    "collapsed": false
   },
   "outputs": [
    {
     "name": "stdout",
     "output_type": "stream",
     "text": [
      "(30235, 8)\n",
      "id                     int64\n",
      "tube_assembly_id      object\n",
      "supplier              object\n",
      "quote_date            object\n",
      "annual_usage           int64\n",
      "min_order_quantity     int64\n",
      "bracket_pricing       object\n",
      "quantity               int64\n",
      "dtype: object\n"
     ]
    },
    {
     "data": {
      "text/html": [
       "<div>\n",
       "<table border=\"1\" class=\"dataframe\">\n",
       "  <thead>\n",
       "    <tr style=\"text-align: right;\">\n",
       "      <th></th>\n",
       "      <th>id</th>\n",
       "      <th>tube_assembly_id</th>\n",
       "      <th>supplier</th>\n",
       "      <th>quote_date</th>\n",
       "      <th>annual_usage</th>\n",
       "      <th>min_order_quantity</th>\n",
       "      <th>bracket_pricing</th>\n",
       "      <th>quantity</th>\n",
       "    </tr>\n",
       "  </thead>\n",
       "  <tbody>\n",
       "    <tr>\n",
       "      <th>7898</th>\n",
       "      <td>7899</td>\n",
       "      <td>TA-04496</td>\n",
       "      <td>S-0066</td>\n",
       "      <td>2013-09-01</td>\n",
       "      <td>0</td>\n",
       "      <td>0</td>\n",
       "      <td>Yes</td>\n",
       "      <td>100</td>\n",
       "    </tr>\n",
       "    <tr>\n",
       "      <th>3977</th>\n",
       "      <td>3978</td>\n",
       "      <td>TA-02094</td>\n",
       "      <td>S-0041</td>\n",
       "      <td>2012-03-26</td>\n",
       "      <td>1</td>\n",
       "      <td>0</td>\n",
       "      <td>Yes</td>\n",
       "      <td>5</td>\n",
       "    </tr>\n",
       "    <tr>\n",
       "      <th>8255</th>\n",
       "      <td>8256</td>\n",
       "      <td>TA-04719</td>\n",
       "      <td>S-0066</td>\n",
       "      <td>2012-05-11</td>\n",
       "      <td>5</td>\n",
       "      <td>0</td>\n",
       "      <td>Yes</td>\n",
       "      <td>2</td>\n",
       "    </tr>\n",
       "    <tr>\n",
       "      <th>9304</th>\n",
       "      <td>9305</td>\n",
       "      <td>TA-05313</td>\n",
       "      <td>S-0066</td>\n",
       "      <td>2013-11-02</td>\n",
       "      <td>1</td>\n",
       "      <td>0</td>\n",
       "      <td>Yes</td>\n",
       "      <td>250</td>\n",
       "    </tr>\n",
       "    <tr>\n",
       "      <th>20327</th>\n",
       "      <td>20328</td>\n",
       "      <td>TA-14257</td>\n",
       "      <td>S-0066</td>\n",
       "      <td>2012-08-13</td>\n",
       "      <td>78</td>\n",
       "      <td>0</td>\n",
       "      <td>Yes</td>\n",
       "      <td>6</td>\n",
       "    </tr>\n",
       "  </tbody>\n",
       "</table>\n",
       "</div>"
      ],
      "text/plain": [
       "          id tube_assembly_id supplier  quote_date  annual_usage  \\\n",
       "7898    7899         TA-04496   S-0066  2013-09-01             0   \n",
       "3977    3978         TA-02094   S-0041  2012-03-26             1   \n",
       "8255    8256         TA-04719   S-0066  2012-05-11             5   \n",
       "9304    9305         TA-05313   S-0066  2013-11-02             1   \n",
       "20327  20328         TA-14257   S-0066  2012-08-13            78   \n",
       "\n",
       "       min_order_quantity bracket_pricing  quantity  \n",
       "7898                    0             Yes       100  \n",
       "3977                    0             Yes         5  \n",
       "8255                    0             Yes         2  \n",
       "9304                    0             Yes       250  \n",
       "20327                   0             Yes         6  "
      ]
     },
     "execution_count": 7,
     "metadata": {},
     "output_type": "execute_result"
    }
   ],
   "source": [
    "print test_set.shape\n",
    "print test_set.dtypes\n",
    "test_set.sample(n=5, random_state=0)"
   ]
  },
  {
   "cell_type": "code",
   "execution_count": 11,
   "metadata": {
    "collapsed": false
   },
   "outputs": [],
   "source": [
    "test_set_by_bracket = test_set.groupby(by='bracket_pricing')"
   ]
  },
  {
   "cell_type": "code",
   "execution_count": 12,
   "metadata": {
    "collapsed": false
   },
   "outputs": [
    {
     "data": {
      "text/html": [
       "<div>\n",
       "<table border=\"1\" class=\"dataframe\">\n",
       "  <thead>\n",
       "    <tr style=\"text-align: right;\">\n",
       "      <th></th>\n",
       "      <th>id</th>\n",
       "      <th>tube_assembly_id</th>\n",
       "      <th>supplier</th>\n",
       "      <th>quote_date</th>\n",
       "      <th>annual_usage</th>\n",
       "      <th>min_order_quantity</th>\n",
       "      <th>quantity</th>\n",
       "    </tr>\n",
       "    <tr>\n",
       "      <th>bracket_pricing</th>\n",
       "      <th></th>\n",
       "      <th></th>\n",
       "      <th></th>\n",
       "      <th></th>\n",
       "      <th></th>\n",
       "      <th></th>\n",
       "      <th></th>\n",
       "    </tr>\n",
       "  </thead>\n",
       "  <tbody>\n",
       "    <tr>\n",
       "      <th>No</th>\n",
       "      <td>3956</td>\n",
       "      <td>3956</td>\n",
       "      <td>3956</td>\n",
       "      <td>3956</td>\n",
       "      <td>3956</td>\n",
       "      <td>3956</td>\n",
       "      <td>3956</td>\n",
       "    </tr>\n",
       "    <tr>\n",
       "      <th>Yes</th>\n",
       "      <td>26279</td>\n",
       "      <td>26279</td>\n",
       "      <td>26279</td>\n",
       "      <td>26279</td>\n",
       "      <td>26279</td>\n",
       "      <td>26279</td>\n",
       "      <td>26279</td>\n",
       "    </tr>\n",
       "  </tbody>\n",
       "</table>\n",
       "</div>"
      ],
      "text/plain": [
       "                    id  tube_assembly_id  supplier  quote_date  annual_usage  \\\n",
       "bracket_pricing                                                                \n",
       "No                3956              3956      3956        3956          3956   \n",
       "Yes              26279             26279     26279       26279         26279   \n",
       "\n",
       "                 min_order_quantity  quantity  \n",
       "bracket_pricing                                \n",
       "No                             3956      3956  \n",
       "Yes                           26279     26279  "
      ]
     },
     "execution_count": 12,
     "metadata": {},
     "output_type": "execute_result"
    }
   ],
   "source": [
    "test_set_by_bracket.count()"
   ]
  },
  {
   "cell_type": "code",
   "execution_count": null,
   "metadata": {
    "collapsed": true
   },
   "outputs": [],
   "source": []
  }
 ],
 "metadata": {
  "kernelspec": {
   "display_name": "Python 2",
   "language": "python",
   "name": "python2"
  },
  "language_info": {
   "codemirror_mode": {
    "name": "ipython",
    "version": 2
   },
   "file_extension": ".py",
   "mimetype": "text/x-python",
   "name": "python",
   "nbconvert_exporter": "python",
   "pygments_lexer": "ipython2",
   "version": "2.7.10"
  }
 },
 "nbformat": 4,
 "nbformat_minor": 0
}
