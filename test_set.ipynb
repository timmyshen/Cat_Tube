{
 "cells": [
  {
   "cell_type": "code",
   "execution_count": 1,
   "metadata": {
    "collapsed": false
   },
   "outputs": [
    {
     "name": "stdout",
     "output_type": "stream",
     "text": [
      "Populating the interactive namespace from numpy and matplotlib\n"
     ]
    }
   ],
   "source": [
    "%pylab inline\n",
    "import pandas as pd"
   ]
  },
  {
   "cell_type": "code",
   "execution_count": 2,
   "metadata": {
    "collapsed": true
   },
   "outputs": [],
   "source": [
    "test_set = pd.read_csv('competition_data/test_set.csv')"
   ]
  },
  {
   "cell_type": "code",
   "execution_count": 3,
   "metadata": {
    "collapsed": false
   },
   "outputs": [
    {
     "name": "stdout",
     "output_type": "stream",
     "text": [
      "(30235, 8)\n",
      "id                     int64\n",
      "tube_assembly_id      object\n",
      "supplier              object\n",
      "quote_date            object\n",
      "annual_usage           int64\n",
      "min_order_quantity     int64\n",
      "bracket_pricing       object\n",
      "quantity               int64\n",
      "dtype: object\n"
     ]
    },
    {
     "data": {
      "text/html": [
       "<div>\n",
       "<table border=\"1\" class=\"dataframe\">\n",
       "  <thead>\n",
       "    <tr style=\"text-align: right;\">\n",
       "      <th></th>\n",
       "      <th>id</th>\n",
       "      <th>tube_assembly_id</th>\n",
       "      <th>supplier</th>\n",
       "      <th>quote_date</th>\n",
       "      <th>annual_usage</th>\n",
       "      <th>min_order_quantity</th>\n",
       "      <th>bracket_pricing</th>\n",
       "      <th>quantity</th>\n",
       "    </tr>\n",
       "  </thead>\n",
       "  <tbody>\n",
       "    <tr>\n",
       "      <th>7898</th>\n",
       "      <td>7899</td>\n",
       "      <td>TA-04496</td>\n",
       "      <td>S-0066</td>\n",
       "      <td>2013-09-01</td>\n",
       "      <td>0</td>\n",
       "      <td>0</td>\n",
       "      <td>Yes</td>\n",
       "      <td>100</td>\n",
       "    </tr>\n",
       "    <tr>\n",
       "      <th>3977</th>\n",
       "      <td>3978</td>\n",
       "      <td>TA-02094</td>\n",
       "      <td>S-0041</td>\n",
       "      <td>2012-03-26</td>\n",
       "      <td>1</td>\n",
       "      <td>0</td>\n",
       "      <td>Yes</td>\n",
       "      <td>5</td>\n",
       "    </tr>\n",
       "    <tr>\n",
       "      <th>8255</th>\n",
       "      <td>8256</td>\n",
       "      <td>TA-04719</td>\n",
       "      <td>S-0066</td>\n",
       "      <td>2012-05-11</td>\n",
       "      <td>5</td>\n",
       "      <td>0</td>\n",
       "      <td>Yes</td>\n",
       "      <td>2</td>\n",
       "    </tr>\n",
       "    <tr>\n",
       "      <th>9304</th>\n",
       "      <td>9305</td>\n",
       "      <td>TA-05313</td>\n",
       "      <td>S-0066</td>\n",
       "      <td>2013-11-02</td>\n",
       "      <td>1</td>\n",
       "      <td>0</td>\n",
       "      <td>Yes</td>\n",
       "      <td>250</td>\n",
       "    </tr>\n",
       "    <tr>\n",
       "      <th>20327</th>\n",
       "      <td>20328</td>\n",
       "      <td>TA-14257</td>\n",
       "      <td>S-0066</td>\n",
       "      <td>2012-08-13</td>\n",
       "      <td>78</td>\n",
       "      <td>0</td>\n",
       "      <td>Yes</td>\n",
       "      <td>6</td>\n",
       "    </tr>\n",
       "  </tbody>\n",
       "</table>\n",
       "</div>"
      ],
      "text/plain": [
       "          id tube_assembly_id supplier  quote_date  annual_usage  \\\n",
       "7898    7899         TA-04496   S-0066  2013-09-01             0   \n",
       "3977    3978         TA-02094   S-0041  2012-03-26             1   \n",
       "8255    8256         TA-04719   S-0066  2012-05-11             5   \n",
       "9304    9305         TA-05313   S-0066  2013-11-02             1   \n",
       "20327  20328         TA-14257   S-0066  2012-08-13            78   \n",
       "\n",
       "       min_order_quantity bracket_pricing  quantity  \n",
       "7898                    0             Yes       100  \n",
       "3977                    0             Yes         5  \n",
       "8255                    0             Yes         2  \n",
       "9304                    0             Yes       250  \n",
       "20327                   0             Yes         6  "
      ]
     },
     "execution_count": 3,
     "metadata": {},
     "output_type": "execute_result"
    }
   ],
   "source": [
    "print test_set.shape\n",
    "print test_set.dtypes\n",
    "test_set.sample(n=5, random_state=0)"
   ]
  },
  {
   "cell_type": "code",
   "execution_count": 4,
   "metadata": {
    "collapsed": false
   },
   "outputs": [],
   "source": [
    "test_set_by_bracket = test_set.groupby(by='bracket_pricing')"
   ]
  },
  {
   "cell_type": "code",
   "execution_count": 5,
   "metadata": {
    "collapsed": false
   },
   "outputs": [
    {
     "data": {
      "text/html": [
       "<div>\n",
       "<table border=\"1\" class=\"dataframe\">\n",
       "  <thead>\n",
       "    <tr style=\"text-align: right;\">\n",
       "      <th></th>\n",
       "      <th>id</th>\n",
       "      <th>tube_assembly_id</th>\n",
       "      <th>supplier</th>\n",
       "      <th>quote_date</th>\n",
       "      <th>annual_usage</th>\n",
       "      <th>min_order_quantity</th>\n",
       "      <th>quantity</th>\n",
       "    </tr>\n",
       "    <tr>\n",
       "      <th>bracket_pricing</th>\n",
       "      <th></th>\n",
       "      <th></th>\n",
       "      <th></th>\n",
       "      <th></th>\n",
       "      <th></th>\n",
       "      <th></th>\n",
       "      <th></th>\n",
       "    </tr>\n",
       "  </thead>\n",
       "  <tbody>\n",
       "    <tr>\n",
       "      <th>No</th>\n",
       "      <td>3956</td>\n",
       "      <td>3956</td>\n",
       "      <td>3956</td>\n",
       "      <td>3956</td>\n",
       "      <td>3956</td>\n",
       "      <td>3956</td>\n",
       "      <td>3956</td>\n",
       "    </tr>\n",
       "    <tr>\n",
       "      <th>Yes</th>\n",
       "      <td>26279</td>\n",
       "      <td>26279</td>\n",
       "      <td>26279</td>\n",
       "      <td>26279</td>\n",
       "      <td>26279</td>\n",
       "      <td>26279</td>\n",
       "      <td>26279</td>\n",
       "    </tr>\n",
       "  </tbody>\n",
       "</table>\n",
       "</div>"
      ],
      "text/plain": [
       "                    id  tube_assembly_id  supplier  quote_date  annual_usage  \\\n",
       "bracket_pricing                                                                \n",
       "No                3956              3956      3956        3956          3956   \n",
       "Yes              26279             26279     26279       26279         26279   \n",
       "\n",
       "                 min_order_quantity  quantity  \n",
       "bracket_pricing                                \n",
       "No                             3956      3956  \n",
       "Yes                           26279     26279  "
      ]
     },
     "execution_count": 5,
     "metadata": {},
     "output_type": "execute_result"
    }
   ],
   "source": [
    "test_set_by_bracket.count()"
   ]
  },
  {
   "cell_type": "code",
   "execution_count": 7,
   "metadata": {
    "collapsed": false
   },
   "outputs": [],
   "source": [
    "test_set_no_date = test_set.drop(['quote_date'], axis=1)"
   ]
  },
  {
   "cell_type": "code",
   "execution_count": 11,
   "metadata": {
    "collapsed": false
   },
   "outputs": [],
   "source": [
    "test_set_no_date_dummies = pd.get_dummies(test_set_no_date, columns=['supplier', 'bracket_pricing'])\n",
    "# test_set_no_date_dummies.dtypes"
   ]
  },
  {
   "cell_type": "code",
   "execution_count": 10,
   "metadata": {
    "collapsed": true
   },
   "outputs": [],
   "source": [
    "test_set_no_date_dummies_drop_bracket_no = test_set_no_date_dummies.drop(['bracket_pricing_No'], axis=1)"
   ]
  },
  {
   "cell_type": "code",
   "execution_count": null,
   "metadata": {
    "collapsed": true
   },
   "outputs": [],
   "source": [
    "# test_set_no_date_dummies_drop_bracket_no.to_csv('')"
   ]
  },
  {
   "cell_type": "code",
   "execution_count": 12,
   "metadata": {
    "collapsed": true
   },
   "outputs": [],
   "source": [
    "train_set = pd.read_csv('./competition_data/train_set.csv')"
   ]
  },
  {
   "cell_type": "code",
   "execution_count": 14,
   "metadata": {
    "collapsed": true
   },
   "outputs": [],
   "source": [
    "train_ta_ids = train_set.tube_assembly_id.values\n",
    "test_ta_ids = test_set.tube_assembly_id.values"
   ]
  },
  {
   "cell_type": "code",
   "execution_count": 15,
   "metadata": {
    "collapsed": false
   },
   "outputs": [
    {
     "data": {
      "text/plain": [
       "array([], dtype=object)"
      ]
     },
     "execution_count": 15,
     "metadata": {},
     "output_type": "execute_result"
    }
   ],
   "source": [
    "np.intersect1d(train_ta_ids, test_ta_ids)"
   ]
  },
  {
   "cell_type": "code",
   "execution_count": 16,
   "metadata": {
    "collapsed": true
   },
   "outputs": [],
   "source": [
    "train_suppliers = train_set.supplier.values\n",
    "test_suppliers = test_set.supplier.values"
   ]
  },
  {
   "cell_type": "code",
   "execution_count": 18,
   "metadata": {
    "collapsed": false
   },
   "outputs": [
    {
     "data": {
      "text/plain": [
       "array(['S-0004', 'S-0005', 'S-0006', 'S-0007', 'S-0008', 'S-0009',\n",
       "       'S-0011', 'S-0012', 'S-0013', 'S-0014', 'S-0015', 'S-0018',\n",
       "       'S-0023', 'S-0026', 'S-0027', 'S-0030', 'S-0031', 'S-0041',\n",
       "       'S-0042', 'S-0043', 'S-0046', 'S-0050', 'S-0051', 'S-0054',\n",
       "       'S-0056', 'S-0058', 'S-0059', 'S-0060', 'S-0061', 'S-0062',\n",
       "       'S-0064', 'S-0066', 'S-0068', 'S-0070', 'S-0072', 'S-0074',\n",
       "       'S-0078', 'S-0080', 'S-0081', 'S-0087', 'S-0090', 'S-0092',\n",
       "       'S-0104', 'S-0105', 'S-0108'], dtype=object)"
      ]
     },
     "execution_count": 18,
     "metadata": {},
     "output_type": "execute_result"
    }
   ],
   "source": [
    "np.intersect1d(train_suppliers, test_suppliers)"
   ]
  },
  {
   "cell_type": "code",
   "execution_count": 21,
   "metadata": {
    "collapsed": false
   },
   "outputs": [
    {
     "data": {
      "text/plain": [
       "array(['S-0004', 'S-0005', 'S-0006', 'S-0007', 'S-0008', 'S-0009',\n",
       "       'S-0011', 'S-0012', 'S-0013', 'S-0014', 'S-0015', 'S-0018',\n",
       "       'S-0023', 'S-0026', 'S-0027', 'S-0028', 'S-0030', 'S-0031',\n",
       "       'S-0033', 'S-0036', 'S-0039', 'S-0040', 'S-0041', 'S-0042',\n",
       "       'S-0043', 'S-0046', 'S-0050', 'S-0051', 'S-0054', 'S-0056',\n",
       "       'S-0058', 'S-0059', 'S-0060', 'S-0061', 'S-0062', 'S-0064',\n",
       "       'S-0066', 'S-0068', 'S-0069', 'S-0070', 'S-0072', 'S-0073',\n",
       "       'S-0074', 'S-0076', 'S-0077', 'S-0078', 'S-0080', 'S-0081',\n",
       "       'S-0087', 'S-0088', 'S-0090', 'S-0091', 'S-0092', 'S-0104',\n",
       "       'S-0105', 'S-0108'], dtype=object)"
      ]
     },
     "execution_count": 21,
     "metadata": {},
     "output_type": "execute_result"
    }
   ],
   "source": [
    "np.unique(test_suppliers)"
   ]
  },
  {
   "cell_type": "code",
   "execution_count": 30,
   "metadata": {
    "collapsed": false
   },
   "outputs": [
    {
     "data": {
      "text/plain": [
       "array(['S-0003', 'S-0022', 'S-0024', 'S-0025', 'S-0029', 'S-0095',\n",
       "       'S-0096', 'S-0097', 'S-0106', 'S-0107', 'S-0109', 'S-0111'], dtype=object)"
      ]
     },
     "execution_count": 30,
     "metadata": {},
     "output_type": "execute_result"
    }
   ],
   "source": [
    "test_set_only_suppliers = np.setdiff1d(train_suppliers, test_suppliers)"
   ]
  },
  {
   "cell_type": "code",
   "execution_count": 26,
   "metadata": {
    "collapsed": false
   },
   "outputs": [],
   "source": [
    "test_set_only_suppliers = np.setdiff1d(test_suppliers, train_suppliers)\n",
    "test_set_only_suppliers_columns = ['supplier_' + s for s in test_set_only_suppliers]"
   ]
  },
  {
   "cell_type": "code",
   "execution_count": 25,
   "metadata": {
    "collapsed": false
   },
   "outputs": [
    {
     "data": {
      "text/plain": [
       "Index([u'id', u'tube_assembly_id', u'annual_usage', u'min_order_quantity',\n",
       "       u'quantity', u'supplier_S-0004', u'supplier_S-0005', u'supplier_S-0006',\n",
       "       u'supplier_S-0007', u'supplier_S-0008', u'supplier_S-0009',\n",
       "       u'supplier_S-0011', u'supplier_S-0012', u'supplier_S-0013',\n",
       "       u'supplier_S-0014', u'supplier_S-0015', u'supplier_S-0018',\n",
       "       u'supplier_S-0023', u'supplier_S-0026', u'supplier_S-0027',\n",
       "       u'supplier_S-0028', u'supplier_S-0030', u'supplier_S-0031',\n",
       "       u'supplier_S-0033', u'supplier_S-0036', u'supplier_S-0039',\n",
       "       u'supplier_S-0040', u'supplier_S-0041', u'supplier_S-0042',\n",
       "       u'supplier_S-0043', u'supplier_S-0046', u'supplier_S-0050',\n",
       "       u'supplier_S-0051', u'supplier_S-0054', u'supplier_S-0056',\n",
       "       u'supplier_S-0058', u'supplier_S-0059', u'supplier_S-0060',\n",
       "       u'supplier_S-0061', u'supplier_S-0062', u'supplier_S-0064',\n",
       "       u'supplier_S-0066', u'supplier_S-0068', u'supplier_S-0069',\n",
       "       u'supplier_S-0070', u'supplier_S-0072', u'supplier_S-0073',\n",
       "       u'supplier_S-0074', u'supplier_S-0076', u'supplier_S-0077',\n",
       "       u'supplier_S-0078', u'supplier_S-0080', u'supplier_S-0081',\n",
       "       u'supplier_S-0087', u'supplier_S-0088', u'supplier_S-0090',\n",
       "       u'supplier_S-0091', u'supplier_S-0092', u'supplier_S-0104',\n",
       "       u'supplier_S-0105', u'supplier_S-0108', u'bracket_pricing_Yes'],\n",
       "      dtype='object')"
      ]
     },
     "execution_count": 25,
     "metadata": {},
     "output_type": "execute_result"
    }
   ],
   "source": [
    "test_set_no_date_dummies_drop_bracket_no.columns"
   ]
  },
  {
   "cell_type": "code",
   "execution_count": 27,
   "metadata": {
    "collapsed": false
   },
   "outputs": [],
   "source": [
    "test_set_no_date_dummies_drop_bracket_no_drop_suppliers = \\\n",
    "test_set_no_date_dummies_drop_bracket_no.drop(test_set_only_suppliers_columns, axis=1)"
   ]
  },
  {
   "cell_type": "code",
   "execution_count": 28,
   "metadata": {
    "collapsed": false
   },
   "outputs": [
    {
     "data": {
      "text/html": [
       "<div>\n",
       "<table border=\"1\" class=\"dataframe\">\n",
       "  <thead>\n",
       "    <tr style=\"text-align: right;\">\n",
       "      <th></th>\n",
       "      <th>id</th>\n",
       "      <th>tube_assembly_id</th>\n",
       "      <th>annual_usage</th>\n",
       "      <th>min_order_quantity</th>\n",
       "      <th>quantity</th>\n",
       "      <th>supplier_S-0004</th>\n",
       "      <th>supplier_S-0005</th>\n",
       "      <th>supplier_S-0006</th>\n",
       "      <th>supplier_S-0007</th>\n",
       "      <th>supplier_S-0008</th>\n",
       "      <th>...</th>\n",
       "      <th>supplier_S-0078</th>\n",
       "      <th>supplier_S-0080</th>\n",
       "      <th>supplier_S-0081</th>\n",
       "      <th>supplier_S-0087</th>\n",
       "      <th>supplier_S-0090</th>\n",
       "      <th>supplier_S-0092</th>\n",
       "      <th>supplier_S-0104</th>\n",
       "      <th>supplier_S-0105</th>\n",
       "      <th>supplier_S-0108</th>\n",
       "      <th>bracket_pricing_Yes</th>\n",
       "    </tr>\n",
       "  </thead>\n",
       "  <tbody>\n",
       "    <tr>\n",
       "      <th>0</th>\n",
       "      <td>1</td>\n",
       "      <td>TA-00001</td>\n",
       "      <td>0</td>\n",
       "      <td>0</td>\n",
       "      <td>1</td>\n",
       "      <td>0</td>\n",
       "      <td>0</td>\n",
       "      <td>0</td>\n",
       "      <td>0</td>\n",
       "      <td>0</td>\n",
       "      <td>...</td>\n",
       "      <td>0</td>\n",
       "      <td>0</td>\n",
       "      <td>0</td>\n",
       "      <td>0</td>\n",
       "      <td>0</td>\n",
       "      <td>0</td>\n",
       "      <td>0</td>\n",
       "      <td>0</td>\n",
       "      <td>0</td>\n",
       "      <td>1</td>\n",
       "    </tr>\n",
       "    <tr>\n",
       "      <th>1</th>\n",
       "      <td>2</td>\n",
       "      <td>TA-00001</td>\n",
       "      <td>0</td>\n",
       "      <td>0</td>\n",
       "      <td>2</td>\n",
       "      <td>0</td>\n",
       "      <td>0</td>\n",
       "      <td>0</td>\n",
       "      <td>0</td>\n",
       "      <td>0</td>\n",
       "      <td>...</td>\n",
       "      <td>0</td>\n",
       "      <td>0</td>\n",
       "      <td>0</td>\n",
       "      <td>0</td>\n",
       "      <td>0</td>\n",
       "      <td>0</td>\n",
       "      <td>0</td>\n",
       "      <td>0</td>\n",
       "      <td>0</td>\n",
       "      <td>1</td>\n",
       "    </tr>\n",
       "    <tr>\n",
       "      <th>2</th>\n",
       "      <td>3</td>\n",
       "      <td>TA-00001</td>\n",
       "      <td>0</td>\n",
       "      <td>0</td>\n",
       "      <td>5</td>\n",
       "      <td>0</td>\n",
       "      <td>0</td>\n",
       "      <td>0</td>\n",
       "      <td>0</td>\n",
       "      <td>0</td>\n",
       "      <td>...</td>\n",
       "      <td>0</td>\n",
       "      <td>0</td>\n",
       "      <td>0</td>\n",
       "      <td>0</td>\n",
       "      <td>0</td>\n",
       "      <td>0</td>\n",
       "      <td>0</td>\n",
       "      <td>0</td>\n",
       "      <td>0</td>\n",
       "      <td>1</td>\n",
       "    </tr>\n",
       "    <tr>\n",
       "      <th>3</th>\n",
       "      <td>4</td>\n",
       "      <td>TA-00001</td>\n",
       "      <td>0</td>\n",
       "      <td>0</td>\n",
       "      <td>10</td>\n",
       "      <td>0</td>\n",
       "      <td>0</td>\n",
       "      <td>0</td>\n",
       "      <td>0</td>\n",
       "      <td>0</td>\n",
       "      <td>...</td>\n",
       "      <td>0</td>\n",
       "      <td>0</td>\n",
       "      <td>0</td>\n",
       "      <td>0</td>\n",
       "      <td>0</td>\n",
       "      <td>0</td>\n",
       "      <td>0</td>\n",
       "      <td>0</td>\n",
       "      <td>0</td>\n",
       "      <td>1</td>\n",
       "    </tr>\n",
       "    <tr>\n",
       "      <th>4</th>\n",
       "      <td>5</td>\n",
       "      <td>TA-00001</td>\n",
       "      <td>0</td>\n",
       "      <td>0</td>\n",
       "      <td>25</td>\n",
       "      <td>0</td>\n",
       "      <td>0</td>\n",
       "      <td>0</td>\n",
       "      <td>0</td>\n",
       "      <td>0</td>\n",
       "      <td>...</td>\n",
       "      <td>0</td>\n",
       "      <td>0</td>\n",
       "      <td>0</td>\n",
       "      <td>0</td>\n",
       "      <td>0</td>\n",
       "      <td>0</td>\n",
       "      <td>0</td>\n",
       "      <td>0</td>\n",
       "      <td>0</td>\n",
       "      <td>1</td>\n",
       "    </tr>\n",
       "  </tbody>\n",
       "</table>\n",
       "<p>5 rows × 51 columns</p>\n",
       "</div>"
      ],
      "text/plain": [
       "   id tube_assembly_id  annual_usage  min_order_quantity  quantity  \\\n",
       "0   1         TA-00001             0                   0         1   \n",
       "1   2         TA-00001             0                   0         2   \n",
       "2   3         TA-00001             0                   0         5   \n",
       "3   4         TA-00001             0                   0        10   \n",
       "4   5         TA-00001             0                   0        25   \n",
       "\n",
       "   supplier_S-0004  supplier_S-0005  supplier_S-0006  supplier_S-0007  \\\n",
       "0                0                0                0                0   \n",
       "1                0                0                0                0   \n",
       "2                0                0                0                0   \n",
       "3                0                0                0                0   \n",
       "4                0                0                0                0   \n",
       "\n",
       "   supplier_S-0008         ...           supplier_S-0078  supplier_S-0080  \\\n",
       "0                0         ...                         0                0   \n",
       "1                0         ...                         0                0   \n",
       "2                0         ...                         0                0   \n",
       "3                0         ...                         0                0   \n",
       "4                0         ...                         0                0   \n",
       "\n",
       "   supplier_S-0081  supplier_S-0087  supplier_S-0090  supplier_S-0092  \\\n",
       "0                0                0                0                0   \n",
       "1                0                0                0                0   \n",
       "2                0                0                0                0   \n",
       "3                0                0                0                0   \n",
       "4                0                0                0                0   \n",
       "\n",
       "   supplier_S-0104  supplier_S-0105  supplier_S-0108  bracket_pricing_Yes  \n",
       "0                0                0                0                    1  \n",
       "1                0                0                0                    1  \n",
       "2                0                0                0                    1  \n",
       "3                0                0                0                    1  \n",
       "4                0                0                0                    1  \n",
       "\n",
       "[5 rows x 51 columns]"
      ]
     },
     "execution_count": 28,
     "metadata": {},
     "output_type": "execute_result"
    }
   ],
   "source": [
    "test_set_no_date_dummies_drop_bracket_no_drop_suppliers.head()"
   ]
  },
  {
   "cell_type": "code",
   "execution_count": 29,
   "metadata": {
    "collapsed": true
   },
   "outputs": [],
   "source": [
    "test_set_no_date_dummies_drop_bracket_no_drop_suppliers.to_csv('test_set_no_date_dummies_drop_bracket_no_drop_suppliers.csv', index=False)"
   ]
  },
  {
   "cell_type": "code",
   "execution_count": 34,
   "metadata": {
    "collapsed": false
   },
   "outputs": [
    {
     "name": "stdout",
     "output_type": "stream",
     "text": [
      "(30235, 8)\n"
     ]
    }
   ],
   "source": [
    "test_in_train_format = test_set.drop(['id'], axis=1)\n",
    "test_in_train_format['cost'] = 0\n",
    "print test_in_train_format.shape"
   ]
  },
  {
   "cell_type": "code",
   "execution_count": 35,
   "metadata": {
    "collapsed": true
   },
   "outputs": [],
   "source": [
    "train_test_stack = pd.concat([train_set, test_in_train_format])"
   ]
  },
  {
   "cell_type": "code",
   "execution_count": 37,
   "metadata": {
    "collapsed": false
   },
   "outputs": [
    {
     "name": "stdout",
     "output_type": "stream",
     "text": [
      "(60448, 8)\n",
      "tube_assembly_id       object\n",
      "supplier               object\n",
      "quote_date             object\n",
      "annual_usage            int64\n",
      "min_order_quantity      int64\n",
      "bracket_pricing        object\n",
      "quantity                int64\n",
      "cost                  float64\n",
      "dtype: object\n"
     ]
    }
   ],
   "source": [
    "print train_test_stack.shape\n",
    "print train_test_stack.dtypes"
   ]
  },
  {
   "cell_type": "code",
   "execution_count": 38,
   "metadata": {
    "collapsed": true
   },
   "outputs": [],
   "source": [
    "train_test_stack_dummies = pd.get_dummies(train_test_stack, columns=['supplier', 'bracket_pricing'])"
   ]
  },
  {
   "cell_type": "code",
   "execution_count": 45,
   "metadata": {
    "collapsed": true
   },
   "outputs": [],
   "source": [
    "test_dummies = (train_test_stack_dummies[train_test_stack_dummies.cost == 0]).drop(test_set_only_suppliers_columns + ['bracket_pricing_No'], axis=1)\n",
    "test_dummies['id'] = test_set['id']"
   ]
  },
  {
   "cell_type": "code",
   "execution_count": 46,
   "metadata": {
    "collapsed": false,
    "scrolled": true
   },
   "outputs": [
    {
     "data": {
      "text/html": [
       "<div>\n",
       "<table border=\"1\" class=\"dataframe\">\n",
       "  <thead>\n",
       "    <tr style=\"text-align: right;\">\n",
       "      <th></th>\n",
       "      <th>tube_assembly_id</th>\n",
       "      <th>quote_date</th>\n",
       "      <th>annual_usage</th>\n",
       "      <th>min_order_quantity</th>\n",
       "      <th>quantity</th>\n",
       "      <th>cost</th>\n",
       "      <th>supplier_S-0003</th>\n",
       "      <th>supplier_S-0004</th>\n",
       "      <th>supplier_S-0005</th>\n",
       "      <th>supplier_S-0006</th>\n",
       "      <th>...</th>\n",
       "      <th>supplier_S-0097</th>\n",
       "      <th>supplier_S-0104</th>\n",
       "      <th>supplier_S-0105</th>\n",
       "      <th>supplier_S-0106</th>\n",
       "      <th>supplier_S-0107</th>\n",
       "      <th>supplier_S-0108</th>\n",
       "      <th>supplier_S-0109</th>\n",
       "      <th>supplier_S-0111</th>\n",
       "      <th>bracket_pricing_Yes</th>\n",
       "      <th>id</th>\n",
       "    </tr>\n",
       "  </thead>\n",
       "  <tbody>\n",
       "    <tr>\n",
       "      <th>0</th>\n",
       "      <td>TA-00001</td>\n",
       "      <td>2013-06-23</td>\n",
       "      <td>0</td>\n",
       "      <td>0</td>\n",
       "      <td>1</td>\n",
       "      <td>0</td>\n",
       "      <td>0</td>\n",
       "      <td>0</td>\n",
       "      <td>0</td>\n",
       "      <td>0</td>\n",
       "      <td>...</td>\n",
       "      <td>0</td>\n",
       "      <td>0</td>\n",
       "      <td>0</td>\n",
       "      <td>0</td>\n",
       "      <td>0</td>\n",
       "      <td>0</td>\n",
       "      <td>0</td>\n",
       "      <td>0</td>\n",
       "      <td>1</td>\n",
       "      <td>1</td>\n",
       "    </tr>\n",
       "    <tr>\n",
       "      <th>1</th>\n",
       "      <td>TA-00001</td>\n",
       "      <td>2013-06-23</td>\n",
       "      <td>0</td>\n",
       "      <td>0</td>\n",
       "      <td>2</td>\n",
       "      <td>0</td>\n",
       "      <td>0</td>\n",
       "      <td>0</td>\n",
       "      <td>0</td>\n",
       "      <td>0</td>\n",
       "      <td>...</td>\n",
       "      <td>0</td>\n",
       "      <td>0</td>\n",
       "      <td>0</td>\n",
       "      <td>0</td>\n",
       "      <td>0</td>\n",
       "      <td>0</td>\n",
       "      <td>0</td>\n",
       "      <td>0</td>\n",
       "      <td>1</td>\n",
       "      <td>2</td>\n",
       "    </tr>\n",
       "    <tr>\n",
       "      <th>2</th>\n",
       "      <td>TA-00001</td>\n",
       "      <td>2013-06-23</td>\n",
       "      <td>0</td>\n",
       "      <td>0</td>\n",
       "      <td>5</td>\n",
       "      <td>0</td>\n",
       "      <td>0</td>\n",
       "      <td>0</td>\n",
       "      <td>0</td>\n",
       "      <td>0</td>\n",
       "      <td>...</td>\n",
       "      <td>0</td>\n",
       "      <td>0</td>\n",
       "      <td>0</td>\n",
       "      <td>0</td>\n",
       "      <td>0</td>\n",
       "      <td>0</td>\n",
       "      <td>0</td>\n",
       "      <td>0</td>\n",
       "      <td>1</td>\n",
       "      <td>3</td>\n",
       "    </tr>\n",
       "    <tr>\n",
       "      <th>3</th>\n",
       "      <td>TA-00001</td>\n",
       "      <td>2013-06-23</td>\n",
       "      <td>0</td>\n",
       "      <td>0</td>\n",
       "      <td>10</td>\n",
       "      <td>0</td>\n",
       "      <td>0</td>\n",
       "      <td>0</td>\n",
       "      <td>0</td>\n",
       "      <td>0</td>\n",
       "      <td>...</td>\n",
       "      <td>0</td>\n",
       "      <td>0</td>\n",
       "      <td>0</td>\n",
       "      <td>0</td>\n",
       "      <td>0</td>\n",
       "      <td>0</td>\n",
       "      <td>0</td>\n",
       "      <td>0</td>\n",
       "      <td>1</td>\n",
       "      <td>4</td>\n",
       "    </tr>\n",
       "    <tr>\n",
       "      <th>4</th>\n",
       "      <td>TA-00001</td>\n",
       "      <td>2013-06-23</td>\n",
       "      <td>0</td>\n",
       "      <td>0</td>\n",
       "      <td>25</td>\n",
       "      <td>0</td>\n",
       "      <td>0</td>\n",
       "      <td>0</td>\n",
       "      <td>0</td>\n",
       "      <td>0</td>\n",
       "      <td>...</td>\n",
       "      <td>0</td>\n",
       "      <td>0</td>\n",
       "      <td>0</td>\n",
       "      <td>0</td>\n",
       "      <td>0</td>\n",
       "      <td>0</td>\n",
       "      <td>0</td>\n",
       "      <td>0</td>\n",
       "      <td>1</td>\n",
       "      <td>5</td>\n",
       "    </tr>\n",
       "  </tbody>\n",
       "</table>\n",
       "<p>5 rows × 65 columns</p>\n",
       "</div>"
      ],
      "text/plain": [
       "  tube_assembly_id  quote_date  annual_usage  min_order_quantity  quantity  \\\n",
       "0         TA-00001  2013-06-23             0                   0         1   \n",
       "1         TA-00001  2013-06-23             0                   0         2   \n",
       "2         TA-00001  2013-06-23             0                   0         5   \n",
       "3         TA-00001  2013-06-23             0                   0        10   \n",
       "4         TA-00001  2013-06-23             0                   0        25   \n",
       "\n",
       "   cost  supplier_S-0003  supplier_S-0004  supplier_S-0005  supplier_S-0006  \\\n",
       "0     0                0                0                0                0   \n",
       "1     0                0                0                0                0   \n",
       "2     0                0                0                0                0   \n",
       "3     0                0                0                0                0   \n",
       "4     0                0                0                0                0   \n",
       "\n",
       "  ...  supplier_S-0097  supplier_S-0104  supplier_S-0105  supplier_S-0106  \\\n",
       "0 ...                0                0                0                0   \n",
       "1 ...                0                0                0                0   \n",
       "2 ...                0                0                0                0   \n",
       "3 ...                0                0                0                0   \n",
       "4 ...                0                0                0                0   \n",
       "\n",
       "   supplier_S-0107  supplier_S-0108  supplier_S-0109  supplier_S-0111  \\\n",
       "0                0                0                0                0   \n",
       "1                0                0                0                0   \n",
       "2                0                0                0                0   \n",
       "3                0                0                0                0   \n",
       "4                0                0                0                0   \n",
       "\n",
       "   bracket_pricing_Yes  id  \n",
       "0                    1   1  \n",
       "1                    1   2  \n",
       "2                    1   3  \n",
       "3                    1   4  \n",
       "4                    1   5  \n",
       "\n",
       "[5 rows x 65 columns]"
      ]
     },
     "execution_count": 46,
     "metadata": {},
     "output_type": "execute_result"
    }
   ],
   "source": [
    "test_dummies.head()"
   ]
  },
  {
   "cell_type": "code",
   "execution_count": 47,
   "metadata": {
    "collapsed": true
   },
   "outputs": [],
   "source": [
    "test_dummies.to_csv('test_dummies_adjusted.csv', index=False)"
   ]
  }
 ],
 "metadata": {
  "kernelspec": {
   "display_name": "Python 2",
   "language": "python",
   "name": "python2"
  },
  "language_info": {
   "codemirror_mode": {
    "name": "ipython",
    "version": 2
   },
   "file_extension": ".py",
   "mimetype": "text/x-python",
   "name": "python",
   "nbconvert_exporter": "python",
   "pygments_lexer": "ipython2",
   "version": "2.7.10"
  }
 },
 "nbformat": 4,
 "nbformat_minor": 0
}
